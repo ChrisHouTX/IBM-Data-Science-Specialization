{
 "cells": [
  {
   "cell_type": "markdown",
   "metadata": {
    "collapsed": true
   },
   "source": [
    "# Capstone Project- The Battle of the Neighborhoods (Week 2)"
   ]
  },
  {
   "cell_type": "markdown",
   "metadata": {},
   "source": [
    "## Applied Data Science Capstone "
   ]
  },
  {
   "cell_type": "markdown",
   "metadata": {},
   "source": [
    "### By: Chris Cothran"
   ]
  },
  {
   "cell_type": "markdown",
   "metadata": {},
   "source": [
    "### Table of Contents\n",
    "\n",
    "I.\tContext <br>\n",
    "II.\tBusiness Problem <br>\n",
    "III.\tData <br>\n",
    "IV.\tData Preparation, Wrangling and Exploratory Data Analysis <br>\n",
    "V.\tArea Analysis <br>\n",
    "VI.\tFoursquare Data Selection <br>\n",
    "VII.\tMethodology <br>\n",
    "VIII.\tCandidate Selection Analysis <br>\n",
    "IX.\tK-Means Clustering <br>"
   ]
  },
  {
   "cell_type": "markdown",
   "metadata": {},
   "source": [
    "  "
   ]
  },
  {
   "cell_type": "markdown",
   "metadata": {},
   "source": [
    "### I. Context"
   ]
  },
  {
   "cell_type": "markdown",
   "metadata": {},
   "source": [
    "Each year, millions of homes are sold, constructed, or are renovated or repaired. These processes require materials, parts, and expertise that home improvement retailers can provide. The importance of siting a store to garner revenue from all of these activities while being sufficiently distant from competitors so that local activities increasingly rely on your store is one of many factors a company may consider in determining where to locate a new store. It provides a home improvement retailer extensive benefit to be able to predict where optimal zones to build a new store might be. This information can then be incorporated into a wide range of other factors to yield a final business decision. "
   ]
  },
  {
   "cell_type": "markdown",
   "metadata": {},
   "source": [
    "### II. Business Problem"
   ]
  },
  {
   "cell_type": "markdown",
   "metadata": {},
   "source": [
    "In this project we will try to derive a high-graded list of optimal locations for a home improvement retailer. This report will be targeted to stakeholders considering expansion into the home improvement retail market in Houston, Texas, USA. There are multiple well-established home improvement retailers operating in Houston. For this initial exercise, we will consider optimality as a function in part derived from proximity to zones of higher home construction, renovation, and maintenance spending and distance from competing home improvement retail stores. The stakeholders are likely interested in zones that may be underserved in this regard in multiple categories as ideal locations. However, assuming the optimal conditions are met, we would like to locate the store as close to high-population zones within the city to ensure adequate day-to-day foot traffic."
   ]
  },
  {
   "cell_type": "markdown",
   "metadata": {},
   "source": [
    "### III. Data"
   ]
  },
  {
   "cell_type": "markdown",
   "metadata": {},
   "source": [
    "For this project, I will source data from the following locations: Foursquare, The U.S. Census Bureau, the U.S. Internal Revenue Service, the National Association of Realtors, and Foursquare. <br>\n",
    "\n",
    "1)\tFoursquare shall provide the data for the number of existing home improvement retailers in a city neighborhood, distance of neighborhoods from concentrated population zones, and proximity of existing shopping centers for convenience of access.<br>\n",
    "2)\tNational Association of Realtor’s data provided from Realtor.com shall provide number of housing listings by zip code.<br>\n",
    "3)\tU.S. Internal Revenue Service shall provide population data by zip code used to determine density proximity to potential sites based on number of filed income tax returns. <br>\n",
    "4)\tU.S. Internal Revenue Service data for two subsequent years shall provide economic growth indications based on the number of returns by income level in a given zip code year-over-year.<br>\n",
    "5) City center coordindates provided by Opendatasoft<br>"
   ]
  },
  {
   "cell_type": "markdown",
   "metadata": {},
   "source": [
    "### IV. Data Preparation, Wrangling and Exploratory Data Analysis"
   ]
  },
  {
   "cell_type": "code",
   "execution_count": 281,
   "metadata": {},
   "outputs": [
    {
     "name": "stdout",
     "output_type": "stream",
     "text": [
      "Requirement already satisfied: shapely in /opt/conda/envs/Python36/lib/python3.6/site-packages (1.7.1)\n",
      "Requirement already satisfied: pyproj in /opt/conda/envs/Python36/lib/python3.6/site-packages (2.6.1.post1)\n",
      "Requirement already satisfied: wget in /opt/conda/envs/Python36/lib/python3.6/site-packages (3.2)\n",
      "Requirement already satisfied: folium in /opt/conda/envs/Python36/lib/python3.6/site-packages (0.11.0)\n",
      "Requirement already satisfied: requests in /opt/conda/envs/Python36/lib/python3.6/site-packages (from folium) (2.21.0)\n",
      "Requirement already satisfied: jinja2>=2.9 in /opt/conda/envs/Python36/lib/python3.6/site-packages (from folium) (2.10)\n",
      "Requirement already satisfied: branca>=0.3.0 in /opt/conda/envs/Python36/lib/python3.6/site-packages (from folium) (0.4.1)\n",
      "Requirement already satisfied: numpy in /opt/conda/envs/Python36/lib/python3.6/site-packages (from folium) (1.15.4)\n",
      "Requirement already satisfied: urllib3<1.25,>=1.21.1 in /opt/conda/envs/Python36/lib/python3.6/site-packages (from requests->folium) (1.24.1)\n",
      "Requirement already satisfied: certifi>=2017.4.17 in /opt/conda/envs/Python36/lib/python3.6/site-packages (from requests->folium) (2020.6.20)\n",
      "Requirement already satisfied: idna<2.9,>=2.5 in /opt/conda/envs/Python36/lib/python3.6/site-packages (from requests->folium) (2.8)\n",
      "Requirement already satisfied: chardet<3.1.0,>=3.0.2 in /opt/conda/envs/Python36/lib/python3.6/site-packages (from requests->folium) (3.0.4)\n",
      "Requirement already satisfied: MarkupSafe>=0.23 in /opt/conda/envs/Python36/lib/python3.6/site-packages (from jinja2>=2.9->folium) (1.1.0)\n"
     ]
    }
   ],
   "source": [
    "#install Necessary Libraries\n",
    "\n",
    "!pip install shapely\n",
    "!pip install pyproj\n",
    "!pip install wget\n",
    "!pip install folium"
   ]
  },
  {
   "cell_type": "code",
   "execution_count": 282,
   "metadata": {},
   "outputs": [],
   "source": [
    "#import Libraries needed in the Project\n",
    "\n",
    "import pandas as pd\n",
    "import numpy as np\n",
    "import wget\n",
    "import folium\n",
    "import geopy\n",
    "import sklearn\n",
    "import pylab as pl\n",
    "import seaborn as sns\n",
    "import matplotlib as mp\n",
    "import matplotlib.cm as cm\n",
    "import matplotlib.colors as colors\n",
    "import random\n",
    "import json\n",
    "import requests\n",
    "import scipy.optimize as opt\n",
    "from geopy.geocoders import Nominatim\n",
    "from matplotlib.ticker import NullFormatter\n",
    "from matplotlib import pyplot as plt\n",
    "from pandas.io.json import json_normalize\n",
    "from sklearn.cluster import DBSCAN\n",
    "from sklearn.datasets import make_blobs\n",
    "from sklearn.cluster import KMeans\n",
    "from sklearn import preprocessing\n",
    "from sklearn.model_selection import train_test_split\n",
    "from sklearn.preprocessing import StandardScaler\n",
    "\n",
    "#Lets set options to see maximum Columns and Rows\n",
    "pd.set_option('display.max_columns', None)\n",
    "pd.set_option('display.max_rows', None)"
   ]
  },
  {
   "cell_type": "markdown",
   "metadata": {},
   "source": [
    "### Get the datasets from the web"
   ]
  },
  {
   "cell_type": "code",
   "execution_count": 283,
   "metadata": {},
   "outputs": [],
   "source": [
    "# we will define the urls for each of the downloadable files\n",
    "\n",
    "url_NAR='https://github.com/Empcoth/Coursera_Capstone/raw/master/NAR2020.xlsx'\n",
    "url_GOV_2017= 'https://github.com/Empcoth/Coursera_Capstone/raw/master/2017IRS.xls'"
   ]
  },
  {
   "cell_type": "code",
   "execution_count": 284,
   "metadata": {},
   "outputs": [],
   "source": [
    "#use the get library to download into local files\n",
    "\n",
    "NAR=wget.download(url_NAR,r'\\Users\\Chris\\Downloads\\NAR.xlsx')\n",
    "GOV_2017=wget.download(url_GOV_2017,r'\\Users\\Chris\\Downloads\\GOV_2017.xls')"
   ]
  },
  {
   "cell_type": "code",
   "execution_count": 285,
   "metadata": {},
   "outputs": [],
   "source": [
    "#convert the files into pandas dataframes\n",
    "NAR_df=pd.read_excel(r'\\Users\\Chris\\Downloads\\NAR.xlsx')\n",
    "\n",
    "#As the columns have Mixed Data types, We specify these are parameters during the read_excel process\n",
    "GOV_2017_df=pd.read_excel(r'\\Users\\Chris\\Downloads\\GOV_2017.xls',dtype={\"ZIP\":str, \"Adjusted Gross Income\":str, \"Number of returns\":int})"
   ]
  },
  {
   "cell_type": "code",
   "execution_count": 286,
   "metadata": {},
   "outputs": [
    {
     "name": "stdout",
     "output_type": "stream",
     "text": [
      "The NAR July 2020 Data Consists of (Rows, Columns) (99286, 20)\n",
      "The IRS 2017 Data Consists of (Rows, Columns) (9720, 3)\n"
     ]
    }
   ],
   "source": [
    "#Look at the Shape of the Downloaded Files\n",
    "print('The NAR July 2020 Data Consists of (Rows, Columns)', NAR_df.shape)\n",
    "print('The IRS 2017 Data Consists of (Rows, Columns)', GOV_2017_df.shape)"
   ]
  },
  {
   "cell_type": "code",
   "execution_count": 287,
   "metadata": {},
   "outputs": [],
   "source": [
    "#Save each NAR dataframe to the defined set of columns needed for this project\n",
    "NAR_df=NAR_df[['postal_code','month_date_yyyymm','median_listing_price','active_listing_count']]"
   ]
  },
  {
   "cell_type": "code",
   "execution_count": 288,
   "metadata": {},
   "outputs": [
    {
     "name": "stdout",
     "output_type": "stream",
     "text": [
      "The NAR July 2020 Data Consists of (Rows, Columns) (99286, 4)\n",
      "The IRS 2017 Data Consists of (Rows, Columns) (9720, 3)\n"
     ]
    }
   ],
   "source": [
    "#Again Look at the Shape of the Downloaded Files\n",
    "print('The NAR July 2020 Data Consists of (Rows, Columns)', NAR_df.shape)\n",
    "print('The IRS 2017 Data Consists of (Rows, Columns)', GOV_2017_df.shape)"
   ]
  },
  {
   "cell_type": "code",
   "execution_count": 289,
   "metadata": {},
   "outputs": [
    {
     "data": {
      "text/plain": [
       "postal_code               int64\n",
       "month_date_yyyymm         int64\n",
       "median_listing_price    float64\n",
       "active_listing_count      int64\n",
       "dtype: object"
      ]
     },
     "execution_count": 289,
     "metadata": {},
     "output_type": "execute_result"
    }
   ],
   "source": [
    "NAR_df.dtypes"
   ]
  },
  {
   "cell_type": "code",
   "execution_count": 290,
   "metadata": {},
   "outputs": [
    {
     "data": {
      "text/plain": [
       "ZIP                      object\n",
       "Adjusted Gross Income    object\n",
       "Number of returns         int64\n",
       "dtype: object"
      ]
     },
     "execution_count": 290,
     "metadata": {},
     "output_type": "execute_result"
    }
   ],
   "source": [
    "GOV_2017_df.dtypes"
   ]
  },
  {
   "cell_type": "markdown",
   "metadata": {},
   "source": [
    "### We now download a file of Texas Longitude and Latitude coordinates and save it to a pandas dataframe"
   ]
  },
  {
   "cell_type": "code",
   "execution_count": 291,
   "metadata": {},
   "outputs": [],
   "source": [
    "coord='https://raw.githubusercontent.com/Empcoth/Coursera_Capstone/master/LongLat.csv'\n",
    "coordinates=wget.download(coord,r'\\Users\\Chris\\Downloads\\LongLat2.csv')"
   ]
  },
  {
   "cell_type": "code",
   "execution_count": 292,
   "metadata": {},
   "outputs": [],
   "source": [
    "coor_df=pd.read_csv(r'\\Users\\Chris\\Downloads\\LongLat2.csv')"
   ]
  },
  {
   "cell_type": "code",
   "execution_count": 293,
   "metadata": {},
   "outputs": [
    {
     "data": {
      "text/html": [
       "<div>\n",
       "<style scoped>\n",
       "    .dataframe tbody tr th:only-of-type {\n",
       "        vertical-align: middle;\n",
       "    }\n",
       "\n",
       "    .dataframe tbody tr th {\n",
       "        vertical-align: top;\n",
       "    }\n",
       "\n",
       "    .dataframe thead th {\n",
       "        text-align: right;\n",
       "    }\n",
       "</style>\n",
       "<table border=\"1\" class=\"dataframe\">\n",
       "  <thead>\n",
       "    <tr style=\"text-align: right;\">\n",
       "      <th></th>\n",
       "      <th>Zip</th>\n",
       "      <th>City</th>\n",
       "      <th>Latitude</th>\n",
       "      <th>Longitude</th>\n",
       "    </tr>\n",
       "  </thead>\n",
       "  <tbody>\n",
       "    <tr>\n",
       "      <th>0</th>\n",
       "      <td>75016</td>\n",
       "      <td>Irving</td>\n",
       "      <td>32.767268</td>\n",
       "      <td>-96.777626</td>\n",
       "    </tr>\n",
       "    <tr>\n",
       "      <th>1</th>\n",
       "      <td>76385</td>\n",
       "      <td>Vernon</td>\n",
       "      <td>34.146356</td>\n",
       "      <td>-99.214088</td>\n",
       "    </tr>\n",
       "    <tr>\n",
       "      <th>2</th>\n",
       "      <td>77320</td>\n",
       "      <td>Huntsville</td>\n",
       "      <td>30.805099</td>\n",
       "      <td>-95.507190</td>\n",
       "    </tr>\n",
       "    <tr>\n",
       "      <th>3</th>\n",
       "      <td>77449</td>\n",
       "      <td>Katy</td>\n",
       "      <td>29.825908</td>\n",
       "      <td>-95.730100</td>\n",
       "    </tr>\n",
       "    <tr>\n",
       "      <th>4</th>\n",
       "      <td>76651</td>\n",
       "      <td>Italy</td>\n",
       "      <td>32.175783</td>\n",
       "      <td>-96.880180</td>\n",
       "    </tr>\n",
       "  </tbody>\n",
       "</table>\n",
       "</div>"
      ],
      "text/plain": [
       "     Zip        City   Latitude  Longitude\n",
       "0  75016      Irving  32.767268 -96.777626\n",
       "1  76385      Vernon  34.146356 -99.214088\n",
       "2  77320  Huntsville  30.805099 -95.507190\n",
       "3  77449        Katy  29.825908 -95.730100\n",
       "4  76651       Italy  32.175783 -96.880180"
      ]
     },
     "execution_count": 293,
     "metadata": {},
     "output_type": "execute_result"
    }
   ],
   "source": [
    "coor_df.head()"
   ]
  },
  {
   "cell_type": "markdown",
   "metadata": {},
   "source": [
    "## V. Area Analysis"
   ]
  },
  {
   "cell_type": "markdown",
   "metadata": {},
   "source": [
    "### Now we will define the Houston area and look at the preliminary map using the Folium Library"
   ]
  },
  {
   "cell_type": "code",
   "execution_count": 294,
   "metadata": {},
   "outputs": [],
   "source": [
    "#Define a dataframe with only City of Houston Coordinates to Find the City Center\n",
    "Houston_df = coor_df.loc[coor_df['City'] =='Houston'] \n",
    "CityCenter_df=Houston_df.loc[Houston_df['Zip'] ==77002]  "
   ]
  },
  {
   "cell_type": "code",
   "execution_count": 295,
   "metadata": {},
   "outputs": [
    {
     "data": {
      "text/html": [
       "<div>\n",
       "<style scoped>\n",
       "    .dataframe tbody tr th:only-of-type {\n",
       "        vertical-align: middle;\n",
       "    }\n",
       "\n",
       "    .dataframe tbody tr th {\n",
       "        vertical-align: top;\n",
       "    }\n",
       "\n",
       "    .dataframe thead th {\n",
       "        text-align: right;\n",
       "    }\n",
       "</style>\n",
       "<table border=\"1\" class=\"dataframe\">\n",
       "  <thead>\n",
       "    <tr style=\"text-align: right;\">\n",
       "      <th></th>\n",
       "      <th>Zip</th>\n",
       "      <th>City</th>\n",
       "      <th>Latitude</th>\n",
       "      <th>Longitude</th>\n",
       "    </tr>\n",
       "  </thead>\n",
       "  <tbody>\n",
       "    <tr>\n",
       "      <th>1361</th>\n",
       "      <td>77002</td>\n",
       "      <td>Houston</td>\n",
       "      <td>29.755578</td>\n",
       "      <td>-95.36531</td>\n",
       "    </tr>\n",
       "  </tbody>\n",
       "</table>\n",
       "</div>"
      ],
      "text/plain": [
       "        Zip     City   Latitude  Longitude\n",
       "1361  77002  Houston  29.755578  -95.36531"
      ]
     },
     "execution_count": 295,
     "metadata": {},
     "output_type": "execute_result"
    }
   ],
   "source": [
    "CityCenter_df.head()"
   ]
  },
  {
   "cell_type": "code",
   "execution_count": 296,
   "metadata": {},
   "outputs": [],
   "source": [
    "latitude=CityCenter_df['Latitude'][1361]\n",
    "longitude=CityCenter_df['Longitude'][1361]"
   ]
  },
  {
   "cell_type": "code",
   "execution_count": 297,
   "metadata": {},
   "outputs": [
    {
     "data": {
      "text/plain": [
       "(29.755578000000003, -95.36531)"
      ]
     },
     "execution_count": 297,
     "metadata": {},
     "output_type": "execute_result"
    }
   ],
   "source": [
    "#Output of City Center Derivation\n",
    "latitude, longitude"
   ]
  },
  {
   "cell_type": "code",
   "execution_count": 298,
   "metadata": {},
   "outputs": [],
   "source": [
    "#Define a Folium Map Object Variable\n",
    "map_houston = folium.Map(location=[latitude, longitude], zoom_start=10)"
   ]
  },
  {
   "cell_type": "code",
   "execution_count": 299,
   "metadata": {},
   "outputs": [
    {
     "data": {
      "text/html": [
       "<div style=\"width:100%;\"><div style=\"position:relative;width:100%;height:0;padding-bottom:60%;\"><span style=\"color:#565656\">Make this Notebook Trusted to load map: File -> Trust Notebook</span><iframe src=\"about:blank\" style=\"position:absolute;width:100%;height:100%;left:0;top:0;border:none !important;\" data-html=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 onload=\"this.contentDocument.open();this.contentDocument.write(atob(this.getAttribute('data-html')));this.contentDocument.close();\" allowfullscreen webkitallowfullscreen mozallowfullscreen></iframe></div></div>"
      ],
      "text/plain": [
       "<folium.folium.Map at 0x7fa92c63b8d0>"
      ]
     },
     "execution_count": 299,
     "metadata": {},
     "output_type": "execute_result"
    }
   ],
   "source": [
    "#Display the Map\n",
    "map_houston"
   ]
  },
  {
   "cell_type": "markdown",
   "metadata": {},
   "source": [
    "#### We need to include the greater metro area beyond Houston city limits in this analysis to be effective with this study. Thus, we will first define the 'Greater Houston' area with a list of Zip Codes traditionally included in that designation"
   ]
  },
  {
   "cell_type": "code",
   "execution_count": 300,
   "metadata": {},
   "outputs": [],
   "source": [
    "#Import dataset of relevant zip codes\n",
    "\n",
    "houzip='https://github.com/Empcoth/Coursera_Capstone/raw/master/HoustonAreaLongLat.xlsx'\n",
    "houcord=wget.download(houzip,r'\\Users\\Chris\\Downloads\\HoustonAreaLongLat2.xlsx')"
   ]
  },
  {
   "cell_type": "code",
   "execution_count": 301,
   "metadata": {},
   "outputs": [],
   "source": [
    "#Convert imported data to a pandas dataframe\n",
    "hou_zip_df=pd.read_excel(r'\\Users\\Chris\\Downloads\\HoustonAreaLongLat2.xlsx')"
   ]
  },
  {
   "cell_type": "code",
   "execution_count": 302,
   "metadata": {},
   "outputs": [
    {
     "data": {
      "text/html": [
       "<div>\n",
       "<style scoped>\n",
       "    .dataframe tbody tr th:only-of-type {\n",
       "        vertical-align: middle;\n",
       "    }\n",
       "\n",
       "    .dataframe tbody tr th {\n",
       "        vertical-align: top;\n",
       "    }\n",
       "\n",
       "    .dataframe thead th {\n",
       "        text-align: right;\n",
       "    }\n",
       "</style>\n",
       "<table border=\"1\" class=\"dataframe\">\n",
       "  <thead>\n",
       "    <tr style=\"text-align: right;\">\n",
       "      <th></th>\n",
       "      <th>Zip</th>\n",
       "    </tr>\n",
       "  </thead>\n",
       "  <tbody>\n",
       "    <tr>\n",
       "      <th>0</th>\n",
       "      <td>77002</td>\n",
       "    </tr>\n",
       "    <tr>\n",
       "      <th>1</th>\n",
       "      <td>77003</td>\n",
       "    </tr>\n",
       "    <tr>\n",
       "      <th>2</th>\n",
       "      <td>77004</td>\n",
       "    </tr>\n",
       "    <tr>\n",
       "      <th>3</th>\n",
       "      <td>77005</td>\n",
       "    </tr>\n",
       "    <tr>\n",
       "      <th>4</th>\n",
       "      <td>77006</td>\n",
       "    </tr>\n",
       "  </tbody>\n",
       "</table>\n",
       "</div>"
      ],
      "text/plain": [
       "     Zip\n",
       "0  77002\n",
       "1  77003\n",
       "2  77004\n",
       "3  77005\n",
       "4  77006"
      ]
     },
     "execution_count": 302,
     "metadata": {},
     "output_type": "execute_result"
    }
   ],
   "source": [
    "#Look at the dataframe\n",
    "hou_zip_df.head()"
   ]
  },
  {
   "cell_type": "code",
   "execution_count": 303,
   "metadata": {},
   "outputs": [
    {
     "data": {
      "text/plain": [
       "(236, 1)"
      ]
     },
     "execution_count": 303,
     "metadata": {},
     "output_type": "execute_result"
    }
   ],
   "source": [
    "#Look at the dataframe shape\n",
    "hou_zip_df.shape"
   ]
  },
  {
   "cell_type": "code",
   "execution_count": 304,
   "metadata": {},
   "outputs": [
    {
     "data": {
      "text/html": [
       "<div>\n",
       "<style scoped>\n",
       "    .dataframe tbody tr th:only-of-type {\n",
       "        vertical-align: middle;\n",
       "    }\n",
       "\n",
       "    .dataframe tbody tr th {\n",
       "        vertical-align: top;\n",
       "    }\n",
       "\n",
       "    .dataframe thead th {\n",
       "        text-align: right;\n",
       "    }\n",
       "</style>\n",
       "<table border=\"1\" class=\"dataframe\">\n",
       "  <thead>\n",
       "    <tr style=\"text-align: right;\">\n",
       "      <th></th>\n",
       "      <th>Zip</th>\n",
       "      <th>City</th>\n",
       "      <th>Latitude</th>\n",
       "      <th>Longitude</th>\n",
       "    </tr>\n",
       "  </thead>\n",
       "  <tbody>\n",
       "    <tr>\n",
       "      <th>3</th>\n",
       "      <td>77449</td>\n",
       "      <td>Katy</td>\n",
       "      <td>29.825908</td>\n",
       "      <td>-95.73010</td>\n",
       "    </tr>\n",
       "    <tr>\n",
       "      <th>29</th>\n",
       "      <td>77034</td>\n",
       "      <td>Houston</td>\n",
       "      <td>29.636430</td>\n",
       "      <td>-95.21789</td>\n",
       "    </tr>\n",
       "    <tr>\n",
       "      <th>45</th>\n",
       "      <td>77003</td>\n",
       "      <td>Houston</td>\n",
       "      <td>29.749278</td>\n",
       "      <td>-95.34741</td>\n",
       "    </tr>\n",
       "    <tr>\n",
       "      <th>57</th>\n",
       "      <td>78933</td>\n",
       "      <td>Cat Spring</td>\n",
       "      <td>29.773128</td>\n",
       "      <td>-96.39342</td>\n",
       "    </tr>\n",
       "    <tr>\n",
       "      <th>71</th>\n",
       "      <td>77479</td>\n",
       "      <td>Sugar Land</td>\n",
       "      <td>29.573345</td>\n",
       "      <td>-95.63213</td>\n",
       "    </tr>\n",
       "  </tbody>\n",
       "</table>\n",
       "</div>"
      ],
      "text/plain": [
       "      Zip        City   Latitude  Longitude\n",
       "3   77449        Katy  29.825908  -95.73010\n",
       "29  77034     Houston  29.636430  -95.21789\n",
       "45  77003     Houston  29.749278  -95.34741\n",
       "57  78933  Cat Spring  29.773128  -96.39342\n",
       "71  77479  Sugar Land  29.573345  -95.63213"
      ]
     },
     "execution_count": 304,
     "metadata": {},
     "output_type": "execute_result"
    }
   ],
   "source": [
    "#Check to see if Houston metro zips are in the Main List, to curate a list of Houston Metro Zip Codes and their Corresponding Longitude and Latitude Values in a Combined List\n",
    "\n",
    "import warnings\n",
    "warnings.filterwarnings(\"ignore\")\n",
    "new_coor = coor_df.assign(result=coor_df['Zip'].isin(hou_zip_df['Zip']).astype(int))\n",
    "test_coor=new_coor[new_coor['result']==1]\n",
    "test_coor.drop(['result'], axis=1, inplace=True)\n",
    "test_coor.reset_index(drop=True)\n",
    "test_coor.head()"
   ]
  },
  {
   "cell_type": "markdown",
   "metadata": {},
   "source": [
    "### Create a map of Houston with zip code centerpoints superimposed on top"
   ]
  },
  {
   "cell_type": "code",
   "execution_count": 305,
   "metadata": {},
   "outputs": [],
   "source": [
    "#add markers to map\n",
    "for lat, lng, Zip, city in zip(test_coor['Latitude'],test_coor['Longitude'],test_coor['Zip'],test_coor['City']):\n",
    "    label='{}, {}'.format(Zip, city)\n",
    "    label=folium.Popup(label, parse_html=True)\n",
    "    folium.CircleMarker(\n",
    "        [lat,lng],\n",
    "        radius=5,\n",
    "        popup=label,\n",
    "        color='red',\n",
    "        fill=True,\n",
    "        fill_color='#3186cc',\n",
    "        fill_opacity=0.7,\n",
    "        parse_html=False).add_to(map_houston)"
   ]
  },
  {
   "cell_type": "code",
   "execution_count": 306,
   "metadata": {},
   "outputs": [
    {
     "data": {
      "text/html": [
       "<div style=\"width:100%;\"><div style=\"position:relative;width:100%;height:0;padding-bottom:60%;\"><span style=\"color:#565656\">Make this Notebook Trusted to load map: File -> Trust Notebook</span><iframe src=\"about:blank\" style=\"position:absolute;width:100%;height:100%;left:0;top:0;border:none !important;\" data-html=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 onload=\"this.contentDocument.open();this.contentDocument.write(atob(this.getAttribute('data-html')));this.contentDocument.close();\" allowfullscreen webkitallowfullscreen mozallowfullscreen></iframe></div></div>"
      ],
      "text/plain": [
       "<folium.folium.Map at 0x7fa92c63b8d0>"
      ]
     },
     "execution_count": 306,
     "metadata": {},
     "output_type": "execute_result"
    }
   ],
   "source": [
    "map_houston"
   ]
  },
  {
   "cell_type": "markdown",
   "metadata": {},
   "source": [
    "### We will now define viability ratings based on real estate listings and zip code performance"
   ]
  },
  {
   "cell_type": "code",
   "execution_count": 307,
   "metadata": {},
   "outputs": [
    {
     "data": {
      "text/html": [
       "<div>\n",
       "<style scoped>\n",
       "    .dataframe tbody tr th:only-of-type {\n",
       "        vertical-align: middle;\n",
       "    }\n",
       "\n",
       "    .dataframe tbody tr th {\n",
       "        vertical-align: top;\n",
       "    }\n",
       "\n",
       "    .dataframe thead th {\n",
       "        text-align: right;\n",
       "    }\n",
       "</style>\n",
       "<table border=\"1\" class=\"dataframe\">\n",
       "  <thead>\n",
       "    <tr style=\"text-align: right;\">\n",
       "      <th></th>\n",
       "      <th>postal_code</th>\n",
       "      <th>month_date_yyyymm</th>\n",
       "      <th>median_listing_price</th>\n",
       "      <th>active_listing_count</th>\n",
       "    </tr>\n",
       "  </thead>\n",
       "  <tbody>\n",
       "    <tr>\n",
       "      <th>0</th>\n",
       "      <td>67801</td>\n",
       "      <td>202007</td>\n",
       "      <td>154050.0</td>\n",
       "      <td>26</td>\n",
       "    </tr>\n",
       "    <tr>\n",
       "      <th>1</th>\n",
       "      <td>34436</td>\n",
       "      <td>202007</td>\n",
       "      <td>263050.0</td>\n",
       "      <td>31</td>\n",
       "    </tr>\n",
       "    <tr>\n",
       "      <th>2</th>\n",
       "      <td>77423</td>\n",
       "      <td>202007</td>\n",
       "      <td>307550.0</td>\n",
       "      <td>89</td>\n",
       "    </tr>\n",
       "    <tr>\n",
       "      <th>3</th>\n",
       "      <td>84103</td>\n",
       "      <td>202007</td>\n",
       "      <td>849500.0</td>\n",
       "      <td>69</td>\n",
       "    </tr>\n",
       "    <tr>\n",
       "      <th>4</th>\n",
       "      <td>84027</td>\n",
       "      <td>202007</td>\n",
       "      <td>249050.0</td>\n",
       "      <td>13</td>\n",
       "    </tr>\n",
       "  </tbody>\n",
       "</table>\n",
       "</div>"
      ],
      "text/plain": [
       "   postal_code  month_date_yyyymm  median_listing_price  active_listing_count\n",
       "0        67801             202007              154050.0                    26\n",
       "1        34436             202007              263050.0                    31\n",
       "2        77423             202007              307550.0                    89\n",
       "3        84103             202007              849500.0                    69\n",
       "4        84027             202007              249050.0                    13"
      ]
     },
     "execution_count": 307,
     "metadata": {},
     "output_type": "execute_result"
    }
   ],
   "source": [
    "NAR_df.head()"
   ]
  },
  {
   "cell_type": "markdown",
   "metadata": {},
   "source": [
    "#### Let's get a Year-to-Date Active Listing Count by Zip code in the Defined Greater Houston Metropolitan Area"
   ]
  },
  {
   "cell_type": "code",
   "execution_count": 308,
   "metadata": {},
   "outputs": [
    {
     "data": {
      "text/html": [
       "<div>\n",
       "<style scoped>\n",
       "    .dataframe tbody tr th:only-of-type {\n",
       "        vertical-align: middle;\n",
       "    }\n",
       "\n",
       "    .dataframe tbody tr th {\n",
       "        vertical-align: top;\n",
       "    }\n",
       "\n",
       "    .dataframe thead th {\n",
       "        text-align: right;\n",
       "    }\n",
       "</style>\n",
       "<table border=\"1\" class=\"dataframe\">\n",
       "  <thead>\n",
       "    <tr style=\"text-align: right;\">\n",
       "      <th></th>\n",
       "      <th>postal_code</th>\n",
       "      <th>month_date_yyyymm</th>\n",
       "      <th>median_listing_price</th>\n",
       "      <th>active_listing_count</th>\n",
       "    </tr>\n",
       "  </thead>\n",
       "  <tbody>\n",
       "    <tr>\n",
       "      <th>0</th>\n",
       "      <td>77423</td>\n",
       "      <td>202007</td>\n",
       "      <td>307550.0</td>\n",
       "      <td>89</td>\n",
       "    </tr>\n",
       "    <tr>\n",
       "      <th>1</th>\n",
       "      <td>77021</td>\n",
       "      <td>202007</td>\n",
       "      <td>292050.0</td>\n",
       "      <td>95</td>\n",
       "    </tr>\n",
       "    <tr>\n",
       "      <th>2</th>\n",
       "      <td>77532</td>\n",
       "      <td>202007</td>\n",
       "      <td>241495.0</td>\n",
       "      <td>132</td>\n",
       "    </tr>\n",
       "    <tr>\n",
       "      <th>3</th>\n",
       "      <td>77489</td>\n",
       "      <td>202007</td>\n",
       "      <td>189050.0</td>\n",
       "      <td>29</td>\n",
       "    </tr>\n",
       "    <tr>\n",
       "      <th>4</th>\n",
       "      <td>77069</td>\n",
       "      <td>202007</td>\n",
       "      <td>298750.0</td>\n",
       "      <td>88</td>\n",
       "    </tr>\n",
       "  </tbody>\n",
       "</table>\n",
       "</div>"
      ],
      "text/plain": [
       "   postal_code  month_date_yyyymm  median_listing_price  active_listing_count\n",
       "0        77423             202007              307550.0                    89\n",
       "1        77021             202007              292050.0                    95\n",
       "2        77532             202007              241495.0                   132\n",
       "3        77489             202007              189050.0                    29\n",
       "4        77069             202007              298750.0                    88"
      ]
     },
     "execution_count": 308,
     "metadata": {},
     "output_type": "execute_result"
    }
   ],
   "source": [
    "#Define the Zip Codes into a Filtered Dataframe\n",
    "test_nar_df=NAR_df.assign(result=NAR_df['postal_code'].isin(hou_zip_df['Zip']).astype(int))\n",
    "NAR_filtered_df=test_nar_df[test_nar_df['result']==1]\n",
    "NAR_filtered_df.drop(['result'], axis=1, inplace=True)\n",
    "NAR_filtered_df.reset_index(drop=True).head()"
   ]
  },
  {
   "cell_type": "code",
   "execution_count": 309,
   "metadata": {},
   "outputs": [
    {
     "data": {
      "text/html": [
       "<div>\n",
       "<style scoped>\n",
       "    .dataframe tbody tr th:only-of-type {\n",
       "        vertical-align: middle;\n",
       "    }\n",
       "\n",
       "    .dataframe tbody tr th {\n",
       "        vertical-align: top;\n",
       "    }\n",
       "\n",
       "    .dataframe thead th {\n",
       "        text-align: right;\n",
       "    }\n",
       "</style>\n",
       "<table border=\"1\" class=\"dataframe\">\n",
       "  <thead>\n",
       "    <tr style=\"text-align: right;\">\n",
       "      <th></th>\n",
       "      <th>postal_code</th>\n",
       "      <th>month_date_yyyymm</th>\n",
       "      <th>median_listing_price</th>\n",
       "      <th>active_listing_count</th>\n",
       "      <th>investment intensity</th>\n",
       "    </tr>\n",
       "  </thead>\n",
       "  <tbody>\n",
       "    <tr>\n",
       "      <th>0</th>\n",
       "      <td>77423</td>\n",
       "      <td>202007</td>\n",
       "      <td>307550.0</td>\n",
       "      <td>89</td>\n",
       "      <td>27371950.0</td>\n",
       "    </tr>\n",
       "    <tr>\n",
       "      <th>1</th>\n",
       "      <td>77021</td>\n",
       "      <td>202007</td>\n",
       "      <td>292050.0</td>\n",
       "      <td>95</td>\n",
       "      <td>27744750.0</td>\n",
       "    </tr>\n",
       "    <tr>\n",
       "      <th>2</th>\n",
       "      <td>77532</td>\n",
       "      <td>202007</td>\n",
       "      <td>241495.0</td>\n",
       "      <td>132</td>\n",
       "      <td>31877340.0</td>\n",
       "    </tr>\n",
       "    <tr>\n",
       "      <th>3</th>\n",
       "      <td>77489</td>\n",
       "      <td>202007</td>\n",
       "      <td>189050.0</td>\n",
       "      <td>29</td>\n",
       "      <td>5482450.0</td>\n",
       "    </tr>\n",
       "    <tr>\n",
       "      <th>4</th>\n",
       "      <td>77069</td>\n",
       "      <td>202007</td>\n",
       "      <td>298750.0</td>\n",
       "      <td>88</td>\n",
       "      <td>26290000.0</td>\n",
       "    </tr>\n",
       "  </tbody>\n",
       "</table>\n",
       "</div>"
      ],
      "text/plain": [
       "   postal_code  month_date_yyyymm  median_listing_price  active_listing_count  \\\n",
       "0        77423             202007              307550.0                    89   \n",
       "1        77021             202007              292050.0                    95   \n",
       "2        77532             202007              241495.0                   132   \n",
       "3        77489             202007              189050.0                    29   \n",
       "4        77069             202007              298750.0                    88   \n",
       "\n",
       "   investment intensity  \n",
       "0            27371950.0  \n",
       "1            27744750.0  \n",
       "2            31877340.0  \n",
       "3             5482450.0  \n",
       "4            26290000.0  "
      ]
     },
     "execution_count": 309,
     "metadata": {},
     "output_type": "execute_result"
    }
   ],
   "source": [
    "#Lets Create a Composite Factor Based on median_listing_price multiplied by active_listing_count\n",
    "import warnings\n",
    "warnings.filterwarnings('ignore')\n",
    "NAR_filtered_df['investment intensity']=NAR_filtered_df['median_listing_price']*NAR_filtered_df['active_listing_count']\n",
    "NAR_filtered_df.reset_index(drop=True, inplace=True)\n",
    "NAR_filtered_df.head()"
   ]
  },
  {
   "cell_type": "code",
   "execution_count": 310,
   "metadata": {},
   "outputs": [
    {
     "data": {
      "text/html": [
       "<div>\n",
       "<style scoped>\n",
       "    .dataframe tbody tr th:only-of-type {\n",
       "        vertical-align: middle;\n",
       "    }\n",
       "\n",
       "    .dataframe tbody tr th {\n",
       "        vertical-align: top;\n",
       "    }\n",
       "\n",
       "    .dataframe thead th {\n",
       "        text-align: right;\n",
       "    }\n",
       "</style>\n",
       "<table border=\"1\" class=\"dataframe\">\n",
       "  <thead>\n",
       "    <tr style=\"text-align: right;\">\n",
       "      <th></th>\n",
       "      <th>postal_code</th>\n",
       "      <th>month_date_yyyymm</th>\n",
       "      <th>median_listing_price</th>\n",
       "      <th>active_listing_count</th>\n",
       "      <th>investment intensity</th>\n",
       "    </tr>\n",
       "  </thead>\n",
       "  <tbody>\n",
       "    <tr>\n",
       "      <th>0</th>\n",
       "      <td>77002</td>\n",
       "      <td>1414028</td>\n",
       "      <td>2212700.0</td>\n",
       "      <td>409</td>\n",
       "      <td>1.289000e+08</td>\n",
       "    </tr>\n",
       "    <tr>\n",
       "      <th>1</th>\n",
       "      <td>77003</td>\n",
       "      <td>1414028</td>\n",
       "      <td>2630900.0</td>\n",
       "      <td>766</td>\n",
       "      <td>2.878397e+08</td>\n",
       "    </tr>\n",
       "    <tr>\n",
       "      <th>2</th>\n",
       "      <td>77004</td>\n",
       "      <td>1414028</td>\n",
       "      <td>2583894.5</td>\n",
       "      <td>1502</td>\n",
       "      <td>5.545900e+08</td>\n",
       "    </tr>\n",
       "    <tr>\n",
       "      <th>3</th>\n",
       "      <td>77005</td>\n",
       "      <td>1414028</td>\n",
       "      <td>10130750.0</td>\n",
       "      <td>1134</td>\n",
       "      <td>1.644198e+09</td>\n",
       "    </tr>\n",
       "    <tr>\n",
       "      <th>4</th>\n",
       "      <td>77006</td>\n",
       "      <td>1414028</td>\n",
       "      <td>4327950.0</td>\n",
       "      <td>1144</td>\n",
       "      <td>7.071631e+08</td>\n",
       "    </tr>\n",
       "  </tbody>\n",
       "</table>\n",
       "</div>"
      ],
      "text/plain": [
       "   postal_code  month_date_yyyymm  median_listing_price  active_listing_count  \\\n",
       "0        77002            1414028             2212700.0                   409   \n",
       "1        77003            1414028             2630900.0                   766   \n",
       "2        77004            1414028             2583894.5                  1502   \n",
       "3        77005            1414028            10130750.0                  1134   \n",
       "4        77006            1414028             4327950.0                  1144   \n",
       "\n",
       "   investment intensity  \n",
       "0          1.289000e+08  \n",
       "1          2.878397e+08  \n",
       "2          5.545900e+08  \n",
       "3          1.644198e+09  \n",
       "4          7.071631e+08  "
      ]
     },
     "execution_count": 310,
     "metadata": {},
     "output_type": "execute_result"
    }
   ],
   "source": [
    "NAR_grouped=NAR_filtered_df.groupby('postal_code').sum().reset_index()\n",
    "NAR_grouped.head()"
   ]
  },
  {
   "cell_type": "code",
   "execution_count": 311,
   "metadata": {},
   "outputs": [
    {
     "data": {
      "text/html": [
       "<div>\n",
       "<style scoped>\n",
       "    .dataframe tbody tr th:only-of-type {\n",
       "        vertical-align: middle;\n",
       "    }\n",
       "\n",
       "    .dataframe tbody tr th {\n",
       "        vertical-align: top;\n",
       "    }\n",
       "\n",
       "    .dataframe thead th {\n",
       "        text-align: right;\n",
       "    }\n",
       "</style>\n",
       "<table border=\"1\" class=\"dataframe\">\n",
       "  <thead>\n",
       "    <tr style=\"text-align: right;\">\n",
       "      <th></th>\n",
       "      <th>postal_code</th>\n",
       "      <th>investment intensity</th>\n",
       "    </tr>\n",
       "  </thead>\n",
       "  <tbody>\n",
       "    <tr>\n",
       "      <th>0</th>\n",
       "      <td>77002</td>\n",
       "      <td>128.900050</td>\n",
       "    </tr>\n",
       "    <tr>\n",
       "      <th>1</th>\n",
       "      <td>77003</td>\n",
       "      <td>287.839725</td>\n",
       "    </tr>\n",
       "    <tr>\n",
       "      <th>2</th>\n",
       "      <td>77004</td>\n",
       "      <td>554.590012</td>\n",
       "    </tr>\n",
       "    <tr>\n",
       "      <th>3</th>\n",
       "      <td>77005</td>\n",
       "      <td>1644.197700</td>\n",
       "    </tr>\n",
       "    <tr>\n",
       "      <th>4</th>\n",
       "      <td>77006</td>\n",
       "      <td>707.163100</td>\n",
       "    </tr>\n",
       "  </tbody>\n",
       "</table>\n",
       "</div>"
      ],
      "text/plain": [
       "   postal_code  investment intensity\n",
       "0        77002            128.900050\n",
       "1        77003            287.839725\n",
       "2        77004            554.590012\n",
       "3        77005           1644.197700\n",
       "4        77006            707.163100"
      ]
     },
     "execution_count": 311,
     "metadata": {},
     "output_type": "execute_result"
    }
   ],
   "source": [
    "#We can remove the date, listing price, and active listing columns\n",
    "NAR=NAR_grouped.drop(columns=['month_date_yyyymm','median_listing_price','active_listing_count'])\n",
    "NAR['investment intensity']=NAR['investment intensity'].div(1000000)\n",
    "#As the Investment Intensity is quite large, we can Divide by 1 million to make it more manageable while retaining relative difference across postal codes\n",
    "NAR.head()"
   ]
  },
  {
   "cell_type": "markdown",
   "metadata": {},
   "source": [
    "### We will now define viability ratings based on combined filings times income factors for each zip code"
   ]
  },
  {
   "cell_type": "code",
   "execution_count": 312,
   "metadata": {},
   "outputs": [
    {
     "data": {
      "text/html": [
       "<div>\n",
       "<style scoped>\n",
       "    .dataframe tbody tr th:only-of-type {\n",
       "        vertical-align: middle;\n",
       "    }\n",
       "\n",
       "    .dataframe tbody tr th {\n",
       "        vertical-align: top;\n",
       "    }\n",
       "\n",
       "    .dataframe thead th {\n",
       "        text-align: right;\n",
       "    }\n",
       "</style>\n",
       "<table border=\"1\" class=\"dataframe\">\n",
       "  <thead>\n",
       "    <tr style=\"text-align: right;\">\n",
       "      <th></th>\n",
       "      <th>ZIP</th>\n",
       "      <th>Adjusted Gross Income</th>\n",
       "      <th>Number of returns</th>\n",
       "    </tr>\n",
       "  </thead>\n",
       "  <tbody>\n",
       "    <tr>\n",
       "      <th>0</th>\n",
       "      <td>75001</td>\n",
       "      <td>$1 under $25,000</td>\n",
       "      <td>2370</td>\n",
       "    </tr>\n",
       "    <tr>\n",
       "      <th>1</th>\n",
       "      <td>75001</td>\n",
       "      <td>$25,000 under $50,000</td>\n",
       "      <td>2440</td>\n",
       "    </tr>\n",
       "    <tr>\n",
       "      <th>2</th>\n",
       "      <td>75001</td>\n",
       "      <td>$50,000 under $75,000</td>\n",
       "      <td>1680</td>\n",
       "    </tr>\n",
       "    <tr>\n",
       "      <th>3</th>\n",
       "      <td>75001</td>\n",
       "      <td>$75,000 under $100,000</td>\n",
       "      <td>940</td>\n",
       "    </tr>\n",
       "    <tr>\n",
       "      <th>4</th>\n",
       "      <td>75001</td>\n",
       "      <td>$100,000 under $200,000</td>\n",
       "      <td>1320</td>\n",
       "    </tr>\n",
       "  </tbody>\n",
       "</table>\n",
       "</div>"
      ],
      "text/plain": [
       "     ZIP    Adjusted Gross Income  Number of returns\n",
       "0  75001         $1 under $25,000               2370\n",
       "1  75001    $25,000 under $50,000               2440\n",
       "2  75001    $50,000 under $75,000               1680\n",
       "3  75001   $75,000 under $100,000                940\n",
       "4  75001  $100,000 under $200,000               1320"
      ]
     },
     "execution_count": 312,
     "metadata": {},
     "output_type": "execute_result"
    }
   ],
   "source": [
    "GOV_2017_df.head()"
   ]
  },
  {
   "cell_type": "markdown",
   "metadata": {},
   "source": [
    "#### We should take a look at adjusted gross income as it is a combination of string and integer values in the dataframe"
   ]
  },
  {
   "cell_type": "code",
   "execution_count": 313,
   "metadata": {},
   "outputs": [
    {
     "name": "stdout",
     "output_type": "stream",
     "text": [
      "['$1 under $25,000', '$25,000 under $50,000', '$50,000 under $75,000', '$75,000 under $100,000', '$100,000 under $200,000', '$200,000 or more']\n"
     ]
    }
   ],
   "source": [
    "#List the unique values in the Adjusted Gross Income column\n",
    "print(GOV_2017_df['Adjusted Gross Income'].unique().tolist())"
   ]
  },
  {
   "cell_type": "code",
   "execution_count": 314,
   "metadata": {},
   "outputs": [
    {
     "data": {
      "text/html": [
       "<div>\n",
       "<style scoped>\n",
       "    .dataframe tbody tr th:only-of-type {\n",
       "        vertical-align: middle;\n",
       "    }\n",
       "\n",
       "    .dataframe tbody tr th {\n",
       "        vertical-align: top;\n",
       "    }\n",
       "\n",
       "    .dataframe thead th {\n",
       "        text-align: right;\n",
       "    }\n",
       "</style>\n",
       "<table border=\"1\" class=\"dataframe\">\n",
       "  <thead>\n",
       "    <tr style=\"text-align: right;\">\n",
       "      <th></th>\n",
       "      <th>ZIP</th>\n",
       "      <th>Adjusted Gross Income</th>\n",
       "      <th>Number of returns</th>\n",
       "    </tr>\n",
       "  </thead>\n",
       "  <tbody>\n",
       "    <tr>\n",
       "      <th>0</th>\n",
       "      <td>75001</td>\n",
       "      <td>1</td>\n",
       "      <td>2370</td>\n",
       "    </tr>\n",
       "    <tr>\n",
       "      <th>1</th>\n",
       "      <td>75001</td>\n",
       "      <td>2</td>\n",
       "      <td>2440</td>\n",
       "    </tr>\n",
       "    <tr>\n",
       "      <th>2</th>\n",
       "      <td>75001</td>\n",
       "      <td>3</td>\n",
       "      <td>1680</td>\n",
       "    </tr>\n",
       "    <tr>\n",
       "      <th>3</th>\n",
       "      <td>75001</td>\n",
       "      <td>4</td>\n",
       "      <td>940</td>\n",
       "    </tr>\n",
       "    <tr>\n",
       "      <th>4</th>\n",
       "      <td>75001</td>\n",
       "      <td>5</td>\n",
       "      <td>1320</td>\n",
       "    </tr>\n",
       "  </tbody>\n",
       "</table>\n",
       "</div>"
      ],
      "text/plain": [
       "     ZIP Adjusted Gross Income  Number of returns\n",
       "0  75001                     1               2370\n",
       "1  75001                     2               2440\n",
       "2  75001                     3               1680\n",
       "3  75001                     4                940\n",
       "4  75001                     5               1320"
      ]
     },
     "execution_count": 314,
     "metadata": {},
     "output_type": "execute_result"
    }
   ],
   "source": [
    "#Define a new dataframe and assign a Factor Score for each income level\n",
    "GOV_df=GOV_2017_df\n",
    "GOV_df['Adjusted Gross Income']=GOV_df['Adjusted Gross Income'].replace(['$1 under $25,000'],'1')\n",
    "GOV_df['Adjusted Gross Income']=GOV_df['Adjusted Gross Income'].replace(['$25,000 under $50,000'],'2')\n",
    "GOV_df['Adjusted Gross Income']=GOV_df['Adjusted Gross Income'].replace(['$50,000 under $75,000'],'3')\n",
    "GOV_df['Adjusted Gross Income']=GOV_df['Adjusted Gross Income'].replace(['$75,000 under $100,000'],'4')\n",
    "GOV_df['Adjusted Gross Income']=GOV_df['Adjusted Gross Income'].replace(['$100,000 under $200,000'],'5')\n",
    "GOV_df['Adjusted Gross Income']=GOV_df['Adjusted Gross Income'].replace(['$200,000 or more'],'6')\n",
    "GOV_df.head()"
   ]
  },
  {
   "cell_type": "code",
   "execution_count": 315,
   "metadata": {},
   "outputs": [
    {
     "data": {
      "text/html": [
       "<div>\n",
       "<style scoped>\n",
       "    .dataframe tbody tr th:only-of-type {\n",
       "        vertical-align: middle;\n",
       "    }\n",
       "\n",
       "    .dataframe tbody tr th {\n",
       "        vertical-align: top;\n",
       "    }\n",
       "\n",
       "    .dataframe thead th {\n",
       "        text-align: right;\n",
       "    }\n",
       "</style>\n",
       "<table border=\"1\" class=\"dataframe\">\n",
       "  <thead>\n",
       "    <tr style=\"text-align: right;\">\n",
       "      <th></th>\n",
       "      <th>ZIP</th>\n",
       "      <th>Income Level Score</th>\n",
       "      <th>Number of returns</th>\n",
       "      <th>income intensity</th>\n",
       "    </tr>\n",
       "  </thead>\n",
       "  <tbody>\n",
       "    <tr>\n",
       "      <th>0</th>\n",
       "      <td>75001</td>\n",
       "      <td>1</td>\n",
       "      <td>2370</td>\n",
       "      <td>2370</td>\n",
       "    </tr>\n",
       "    <tr>\n",
       "      <th>1</th>\n",
       "      <td>75001</td>\n",
       "      <td>2</td>\n",
       "      <td>2440</td>\n",
       "      <td>4880</td>\n",
       "    </tr>\n",
       "    <tr>\n",
       "      <th>2</th>\n",
       "      <td>75001</td>\n",
       "      <td>3</td>\n",
       "      <td>1680</td>\n",
       "      <td>5040</td>\n",
       "    </tr>\n",
       "    <tr>\n",
       "      <th>3</th>\n",
       "      <td>75001</td>\n",
       "      <td>4</td>\n",
       "      <td>940</td>\n",
       "      <td>3760</td>\n",
       "    </tr>\n",
       "    <tr>\n",
       "      <th>4</th>\n",
       "      <td>75001</td>\n",
       "      <td>5</td>\n",
       "      <td>1320</td>\n",
       "      <td>6600</td>\n",
       "    </tr>\n",
       "  </tbody>\n",
       "</table>\n",
       "</div>"
      ],
      "text/plain": [
       "     ZIP  Income Level Score  Number of returns  income intensity\n",
       "0  75001                   1               2370              2370\n",
       "1  75001                   2               2440              4880\n",
       "2  75001                   3               1680              5040\n",
       "3  75001                   4                940              3760\n",
       "4  75001                   5               1320              6600"
      ]
     },
     "execution_count": 315,
     "metadata": {},
     "output_type": "execute_result"
    }
   ],
   "source": [
    "# We can then rename the Adjusted Gross Income column\n",
    "GOV_df.rename(columns={'Adjusted Gross Income':'Income Level Score'},inplace=True)\n",
    "#Multiply the Income Level Score by the Number of Returns for a Relative Income Factor\n",
    "GOV_df['Income Level Score']=GOV_df['Income Level Score'].astype(str).astype(int)\n",
    "GOV_df['income intensity']=GOV_df['Income Level Score']*GOV_df['Number of returns']\n",
    "GOV_df.reset_index(drop=True, inplace=True)\n",
    "GOV_df.head()"
   ]
  },
  {
   "cell_type": "code",
   "execution_count": 316,
   "metadata": {},
   "outputs": [
    {
     "data": {
      "text/html": [
       "<div>\n",
       "<style scoped>\n",
       "    .dataframe tbody tr th:only-of-type {\n",
       "        vertical-align: middle;\n",
       "    }\n",
       "\n",
       "    .dataframe tbody tr th {\n",
       "        vertical-align: top;\n",
       "    }\n",
       "\n",
       "    .dataframe thead th {\n",
       "        text-align: right;\n",
       "    }\n",
       "</style>\n",
       "<table border=\"1\" class=\"dataframe\">\n",
       "  <thead>\n",
       "    <tr style=\"text-align: right;\">\n",
       "      <th></th>\n",
       "      <th>ZIP</th>\n",
       "      <th>Income Level Score</th>\n",
       "      <th>Number of returns</th>\n",
       "      <th>income intensity</th>\n",
       "    </tr>\n",
       "  </thead>\n",
       "  <tbody>\n",
       "    <tr>\n",
       "      <th>0</th>\n",
       "      <td>75001</td>\n",
       "      <td>21</td>\n",
       "      <td>9340</td>\n",
       "      <td>26190</td>\n",
       "    </tr>\n",
       "    <tr>\n",
       "      <th>1</th>\n",
       "      <td>75002</td>\n",
       "      <td>21</td>\n",
       "      <td>30620</td>\n",
       "      <td>94080</td>\n",
       "    </tr>\n",
       "    <tr>\n",
       "      <th>2</th>\n",
       "      <td>75006</td>\n",
       "      <td>21</td>\n",
       "      <td>23870</td>\n",
       "      <td>56750</td>\n",
       "    </tr>\n",
       "    <tr>\n",
       "      <th>3</th>\n",
       "      <td>75007</td>\n",
       "      <td>21</td>\n",
       "      <td>26370</td>\n",
       "      <td>73230</td>\n",
       "    </tr>\n",
       "    <tr>\n",
       "      <th>4</th>\n",
       "      <td>75009</td>\n",
       "      <td>21</td>\n",
       "      <td>6710</td>\n",
       "      <td>23100</td>\n",
       "    </tr>\n",
       "  </tbody>\n",
       "</table>\n",
       "</div>"
      ],
      "text/plain": [
       "     ZIP  Income Level Score  Number of returns  income intensity\n",
       "0  75001                  21               9340             26190\n",
       "1  75002                  21              30620             94080\n",
       "2  75006                  21              23870             56750\n",
       "3  75007                  21              26370             73230\n",
       "4  75009                  21               6710             23100"
      ]
     },
     "execution_count": 316,
     "metadata": {},
     "output_type": "execute_result"
    }
   ],
   "source": [
    "#We can then group by Zip\n",
    "GOV_grouped=GOV_df.groupby('ZIP').sum().reset_index()\n",
    "GOV_grouped.head()"
   ]
  },
  {
   "cell_type": "code",
   "execution_count": 317,
   "metadata": {},
   "outputs": [
    {
     "data": {
      "text/html": [
       "<div>\n",
       "<style scoped>\n",
       "    .dataframe tbody tr th:only-of-type {\n",
       "        vertical-align: middle;\n",
       "    }\n",
       "\n",
       "    .dataframe tbody tr th {\n",
       "        vertical-align: top;\n",
       "    }\n",
       "\n",
       "    .dataframe thead th {\n",
       "        text-align: right;\n",
       "    }\n",
       "</style>\n",
       "<table border=\"1\" class=\"dataframe\">\n",
       "  <thead>\n",
       "    <tr style=\"text-align: right;\">\n",
       "      <th></th>\n",
       "      <th>ZIP</th>\n",
       "      <th>income intensity</th>\n",
       "    </tr>\n",
       "  </thead>\n",
       "  <tbody>\n",
       "    <tr>\n",
       "      <th>0</th>\n",
       "      <td>75001</td>\n",
       "      <td>26190</td>\n",
       "    </tr>\n",
       "    <tr>\n",
       "      <th>1</th>\n",
       "      <td>75002</td>\n",
       "      <td>94080</td>\n",
       "    </tr>\n",
       "    <tr>\n",
       "      <th>2</th>\n",
       "      <td>75006</td>\n",
       "      <td>56750</td>\n",
       "    </tr>\n",
       "    <tr>\n",
       "      <th>3</th>\n",
       "      <td>75007</td>\n",
       "      <td>73230</td>\n",
       "    </tr>\n",
       "    <tr>\n",
       "      <th>4</th>\n",
       "      <td>75009</td>\n",
       "      <td>23100</td>\n",
       "    </tr>\n",
       "  </tbody>\n",
       "</table>\n",
       "</div>"
      ],
      "text/plain": [
       "     ZIP  income intensity\n",
       "0  75001             26190\n",
       "1  75002             94080\n",
       "2  75006             56750\n",
       "3  75007             73230\n",
       "4  75009             23100"
      ]
     },
     "execution_count": 317,
     "metadata": {},
     "output_type": "execute_result"
    }
   ],
   "source": [
    "#And remove the Income Level Score and Number of Returns Columns\n",
    "GOV=GOV_grouped.drop(columns=['Income Level Score','Number of returns'])\n",
    "GOV.head()"
   ]
  },
  {
   "cell_type": "code",
   "execution_count": 318,
   "metadata": {},
   "outputs": [],
   "source": [
    "#Convert the Data Type of the Zip Column\n",
    "GOV_Test=GOV"
   ]
  },
  {
   "cell_type": "code",
   "execution_count": 319,
   "metadata": {},
   "outputs": [],
   "source": [
    "#GOV_Test"
   ]
  },
  {
   "cell_type": "code",
   "execution_count": 320,
   "metadata": {},
   "outputs": [],
   "source": [
    "GOV_Test[\"ZIP\"]=GOV_Test[\"ZIP\"].astype(int)"
   ]
  },
  {
   "cell_type": "code",
   "execution_count": 321,
   "metadata": {},
   "outputs": [
    {
     "data": {
      "text/plain": [
       "ZIP                 int64\n",
       "income intensity    int64\n",
       "dtype: object"
      ]
     },
     "execution_count": 321,
     "metadata": {},
     "output_type": "execute_result"
    }
   ],
   "source": [
    "GOV_Test.dtypes"
   ]
  },
  {
   "cell_type": "code",
   "execution_count": 322,
   "metadata": {},
   "outputs": [
    {
     "data": {
      "text/html": [
       "<div>\n",
       "<style scoped>\n",
       "    .dataframe tbody tr th:only-of-type {\n",
       "        vertical-align: middle;\n",
       "    }\n",
       "\n",
       "    .dataframe tbody tr th {\n",
       "        vertical-align: top;\n",
       "    }\n",
       "\n",
       "    .dataframe thead th {\n",
       "        text-align: right;\n",
       "    }\n",
       "</style>\n",
       "<table border=\"1\" class=\"dataframe\">\n",
       "  <thead>\n",
       "    <tr style=\"text-align: right;\">\n",
       "      <th></th>\n",
       "      <th>ZIP</th>\n",
       "      <th>income intensity</th>\n",
       "    </tr>\n",
       "  </thead>\n",
       "  <tbody>\n",
       "    <tr>\n",
       "      <th>0</th>\n",
       "      <td>77002</td>\n",
       "      <td>20090</td>\n",
       "    </tr>\n",
       "    <tr>\n",
       "      <th>1</th>\n",
       "      <td>77003</td>\n",
       "      <td>15410</td>\n",
       "    </tr>\n",
       "    <tr>\n",
       "      <th>2</th>\n",
       "      <td>77004</td>\n",
       "      <td>35300</td>\n",
       "    </tr>\n",
       "    <tr>\n",
       "      <th>3</th>\n",
       "      <td>77005</td>\n",
       "      <td>52810</td>\n",
       "    </tr>\n",
       "    <tr>\n",
       "      <th>4</th>\n",
       "      <td>77006</td>\n",
       "      <td>45200</td>\n",
       "    </tr>\n",
       "  </tbody>\n",
       "</table>\n",
       "</div>"
      ],
      "text/plain": [
       "     ZIP  income intensity\n",
       "0  77002             20090\n",
       "1  77003             15410\n",
       "2  77004             35300\n",
       "3  77005             52810\n",
       "4  77006             45200"
      ]
     },
     "execution_count": 322,
     "metadata": {},
     "output_type": "execute_result"
    }
   ],
   "source": [
    "#Define the Zips per the Greater Houston Metropolitan Area\n",
    "\n",
    "GOV_Test=GOV_Test.assign(result=GOV_Test['ZIP'].isin(hou_zip_df['Zip']).astype(int))\n",
    "GOV_Test=GOV_Test[GOV_Test['result']==1]\n",
    "GOV_Test.drop(['result'], axis=1, inplace=True)\n",
    "GOV_Test.reset_index(drop=True).head()"
   ]
  },
  {
   "cell_type": "code",
   "execution_count": 323,
   "metadata": {},
   "outputs": [],
   "source": [
    "#We Can Then Define a Dataframe Combining Investment Intensity and Income Intensity by Zip\n",
    "\n",
    "#First Lets Rename the Column Label of the NAR Df to Match the GOV DF\n",
    "\n",
    "NAR_Renamed=NAR\n",
    "NAR_Renamed.rename(columns={\"postal_code\": \"ZIP\"}, inplace=True)"
   ]
  },
  {
   "cell_type": "code",
   "execution_count": 324,
   "metadata": {},
   "outputs": [
    {
     "data": {
      "text/plain": [
       "ZIP                       int64\n",
       "investment intensity    float64\n",
       "dtype: object"
      ]
     },
     "execution_count": 324,
     "metadata": {},
     "output_type": "execute_result"
    }
   ],
   "source": [
    "NAR_Renamed.dtypes"
   ]
  },
  {
   "cell_type": "code",
   "execution_count": 325,
   "metadata": {},
   "outputs": [
    {
     "data": {
      "text/plain": [
       "ZIP                 int64\n",
       "income intensity    int64\n",
       "dtype: object"
      ]
     },
     "execution_count": 325,
     "metadata": {},
     "output_type": "execute_result"
    }
   ],
   "source": [
    "GOV_Test.dtypes"
   ]
  },
  {
   "cell_type": "code",
   "execution_count": 326,
   "metadata": {},
   "outputs": [],
   "source": [
    "#We merge the Dataframes using the ZIP Key\n",
    "merged_df=pd.merge(NAR_Renamed,GOV_Test, on=['ZIP','ZIP'])"
   ]
  },
  {
   "cell_type": "code",
   "execution_count": 327,
   "metadata": {},
   "outputs": [],
   "source": [
    "#merged_df"
   ]
  },
  {
   "cell_type": "code",
   "execution_count": 328,
   "metadata": {},
   "outputs": [],
   "source": [
    "#We Can Then Factor the Two Values by Multiplying Them\n",
    "merged_df['Prospectivity Score']=merged_df['investment intensity']*merged_df['income intensity']"
   ]
  },
  {
   "cell_type": "code",
   "execution_count": 329,
   "metadata": {},
   "outputs": [],
   "source": [
    "#We Can then Normalize the Prospectivity Score\n",
    "normalized_df=merged_df\n",
    "normalized_df['Prospectivity Score']=(normalized_df['Prospectivity Score']-normalized_df['Prospectivity Score'].mean())/normalized_df['Prospectivity Score'].std()"
   ]
  },
  {
   "cell_type": "code",
   "execution_count": 330,
   "metadata": {},
   "outputs": [],
   "source": [
    "#Sort by Prospectivity Score to Look at Top Prospects\n",
    "normalized_df.sort_values(by=['Prospectivity Score'],ascending=False,inplace=True)\n",
    "normalized_df.reset_index(drop=True,inplace=True)"
   ]
  },
  {
   "cell_type": "code",
   "execution_count": 331,
   "metadata": {},
   "outputs": [],
   "source": [
    "#We Can then Merge the Coordinate List with the Merged DF by eliminating Zip Codes Not in the Merged List\n",
    "test_coor_Renamed=test_coor\n",
    "test_coor_Renamed.rename(columns={\"Zip\": \"ZIP\"}, inplace=True)"
   ]
  },
  {
   "cell_type": "code",
   "execution_count": 332,
   "metadata": {},
   "outputs": [],
   "source": [
    "merge_test=pd.merge(test_coor_Renamed,normalized_df, on=['ZIP','ZIP'])"
   ]
  },
  {
   "cell_type": "code",
   "execution_count": 333,
   "metadata": {},
   "outputs": [
    {
     "data": {
      "text/html": [
       "<div>\n",
       "<style scoped>\n",
       "    .dataframe tbody tr th:only-of-type {\n",
       "        vertical-align: middle;\n",
       "    }\n",
       "\n",
       "    .dataframe tbody tr th {\n",
       "        vertical-align: top;\n",
       "    }\n",
       "\n",
       "    .dataframe thead th {\n",
       "        text-align: right;\n",
       "    }\n",
       "</style>\n",
       "<table border=\"1\" class=\"dataframe\">\n",
       "  <thead>\n",
       "    <tr style=\"text-align: right;\">\n",
       "      <th></th>\n",
       "      <th>ZIP</th>\n",
       "      <th>City</th>\n",
       "      <th>Latitude</th>\n",
       "      <th>Longitude</th>\n",
       "      <th>investment intensity</th>\n",
       "      <th>income intensity</th>\n",
       "      <th>Prospectivity Score</th>\n",
       "    </tr>\n",
       "  </thead>\n",
       "  <tbody>\n",
       "    <tr>\n",
       "      <th>0</th>\n",
       "      <td>77449</td>\n",
       "      <td>Katy</td>\n",
       "      <td>29.825908</td>\n",
       "      <td>-95.73010</td>\n",
       "      <td>293.667520</td>\n",
       "      <td>119820</td>\n",
       "      <td>0.494914</td>\n",
       "    </tr>\n",
       "    <tr>\n",
       "      <th>1</th>\n",
       "      <td>77034</td>\n",
       "      <td>Houston</td>\n",
       "      <td>29.636430</td>\n",
       "      <td>-95.21789</td>\n",
       "      <td>33.587138</td>\n",
       "      <td>30460</td>\n",
       "      <td>-0.495364</td>\n",
       "    </tr>\n",
       "    <tr>\n",
       "      <th>2</th>\n",
       "      <td>77003</td>\n",
       "      <td>Houston</td>\n",
       "      <td>29.749278</td>\n",
       "      <td>-95.34741</td>\n",
       "      <td>287.839725</td>\n",
       "      <td>15410</td>\n",
       "      <td>-0.396448</td>\n",
       "    </tr>\n",
       "    <tr>\n",
       "      <th>3</th>\n",
       "      <td>77479</td>\n",
       "      <td>Sugar Land</td>\n",
       "      <td>29.573345</td>\n",
       "      <td>-95.63213</td>\n",
       "      <td>1283.715325</td>\n",
       "      <td>143880</td>\n",
       "      <td>4.828698</td>\n",
       "    </tr>\n",
       "    <tr>\n",
       "      <th>4</th>\n",
       "      <td>77042</td>\n",
       "      <td>Houston</td>\n",
       "      <td>29.741565</td>\n",
       "      <td>-95.55996</td>\n",
       "      <td>421.325450</td>\n",
       "      <td>47340</td>\n",
       "      <td>0.053120</td>\n",
       "    </tr>\n",
       "  </tbody>\n",
       "</table>\n",
       "</div>"
      ],
      "text/plain": [
       "     ZIP        City   Latitude  Longitude  investment intensity  \\\n",
       "0  77449        Katy  29.825908  -95.73010            293.667520   \n",
       "1  77034     Houston  29.636430  -95.21789             33.587138   \n",
       "2  77003     Houston  29.749278  -95.34741            287.839725   \n",
       "3  77479  Sugar Land  29.573345  -95.63213           1283.715325   \n",
       "4  77042     Houston  29.741565  -95.55996            421.325450   \n",
       "\n",
       "   income intensity  Prospectivity Score  \n",
       "0            119820             0.494914  \n",
       "1             30460            -0.495364  \n",
       "2             15410            -0.396448  \n",
       "3            143880             4.828698  \n",
       "4             47340             0.053120  "
      ]
     },
     "execution_count": 333,
     "metadata": {},
     "output_type": "execute_result"
    }
   ],
   "source": [
    "merge_test.head()"
   ]
  },
  {
   "cell_type": "markdown",
   "metadata": {},
   "source": [
    "## Now that we have our preliminary prospectivity table we can visualize the highly prospective zones"
   ]
  },
  {
   "cell_type": "code",
   "execution_count": 334,
   "metadata": {},
   "outputs": [],
   "source": [
    "#Sort by Prospectivity Score in Descending Order and Take the Top 10 Rows\n",
    "merge_test.sort_values(by=['Prospectivity Score'],ascending=False,inplace=True)\n",
    "merge_test.reset_index(drop=True,inplace=True)"
   ]
  },
  {
   "cell_type": "code",
   "execution_count": 335,
   "metadata": {},
   "outputs": [],
   "source": [
    "#merge_test"
   ]
  },
  {
   "cell_type": "code",
   "execution_count": 336,
   "metadata": {},
   "outputs": [],
   "source": [
    "sample_df=merge_test.head(11)"
   ]
  },
  {
   "cell_type": "code",
   "execution_count": 337,
   "metadata": {},
   "outputs": [],
   "source": [
    "#sample_df"
   ]
  },
  {
   "cell_type": "code",
   "execution_count": 338,
   "metadata": {},
   "outputs": [
    {
     "data": {
      "text/html": [
       "<div>\n",
       "<style scoped>\n",
       "    .dataframe tbody tr th:only-of-type {\n",
       "        vertical-align: middle;\n",
       "    }\n",
       "\n",
       "    .dataframe tbody tr th {\n",
       "        vertical-align: top;\n",
       "    }\n",
       "\n",
       "    .dataframe thead th {\n",
       "        text-align: right;\n",
       "    }\n",
       "</style>\n",
       "<table border=\"1\" class=\"dataframe\">\n",
       "  <thead>\n",
       "    <tr style=\"text-align: right;\">\n",
       "      <th></th>\n",
       "      <th>ZIP</th>\n",
       "      <th>City</th>\n",
       "      <th>Latitude</th>\n",
       "      <th>Longitude</th>\n",
       "      <th>investment intensity</th>\n",
       "      <th>income intensity</th>\n",
       "      <th>Prospectivity Score</th>\n",
       "    </tr>\n",
       "  </thead>\n",
       "  <tbody>\n",
       "    <tr>\n",
       "      <th>0</th>\n",
       "      <td>77494</td>\n",
       "      <td>Katy</td>\n",
       "      <td>29.760833</td>\n",
       "      <td>-95.81104</td>\n",
       "      <td>1464.140459</td>\n",
       "      <td>168710</td>\n",
       "      <td>6.634928</td>\n",
       "    </tr>\n",
       "    <tr>\n",
       "      <th>1</th>\n",
       "      <td>77024</td>\n",
       "      <td>Houston</td>\n",
       "      <td>29.773994</td>\n",
       "      <td>-95.51771</td>\n",
       "      <td>3104.037550</td>\n",
       "      <td>74780</td>\n",
       "      <td>6.203177</td>\n",
       "    </tr>\n",
       "    <tr>\n",
       "      <th>2</th>\n",
       "      <td>77479</td>\n",
       "      <td>Sugar Land</td>\n",
       "      <td>29.573345</td>\n",
       "      <td>-95.63213</td>\n",
       "      <td>1283.715325</td>\n",
       "      <td>143880</td>\n",
       "      <td>4.828698</td>\n",
       "    </tr>\n",
       "    <tr>\n",
       "      <th>3</th>\n",
       "      <td>77433</td>\n",
       "      <td>Cypress</td>\n",
       "      <td>29.884175</td>\n",
       "      <td>-95.72219</td>\n",
       "      <td>1089.357898</td>\n",
       "      <td>126820</td>\n",
       "      <td>3.479447</td>\n",
       "    </tr>\n",
       "    <tr>\n",
       "      <th>4</th>\n",
       "      <td>77007</td>\n",
       "      <td>Houston</td>\n",
       "      <td>29.772627</td>\n",
       "      <td>-95.40319</td>\n",
       "      <td>1414.952830</td>\n",
       "      <td>88290</td>\n",
       "      <td>3.096075</td>\n",
       "    </tr>\n",
       "  </tbody>\n",
       "</table>\n",
       "</div>"
      ],
      "text/plain": [
       "     ZIP        City   Latitude  Longitude  investment intensity  \\\n",
       "0  77494        Katy  29.760833  -95.81104           1464.140459   \n",
       "1  77024     Houston  29.773994  -95.51771           3104.037550   \n",
       "2  77479  Sugar Land  29.573345  -95.63213           1283.715325   \n",
       "3  77433     Cypress  29.884175  -95.72219           1089.357898   \n",
       "4  77007     Houston  29.772627  -95.40319           1414.952830   \n",
       "\n",
       "   income intensity  Prospectivity Score  \n",
       "0            168710             6.634928  \n",
       "1             74780             6.203177  \n",
       "2            143880             4.828698  \n",
       "3            126820             3.479447  \n",
       "4             88290             3.096075  "
      ]
     },
     "execution_count": 338,
     "metadata": {},
     "output_type": "execute_result"
    }
   ],
   "source": [
    "sample_df.head()"
   ]
  },
  {
   "cell_type": "code",
   "execution_count": 339,
   "metadata": {},
   "outputs": [],
   "source": [
    "map_sample = folium.Map(location=[latitude, longitude], zoom_start=10)\n",
    "\n",
    "#add markers to map\n",
    "for lat, lng, Zip, city in zip(sample_df['Latitude'],sample_df['Longitude'],sample_df['ZIP'],sample_df['City']):\n",
    "    label='{}, {}'.format(Zip, city)\n",
    "    label=folium.Popup(label, parse_html=True)\n",
    "    folium.CircleMarker(\n",
    "        [lat,lng],\n",
    "        radius=5,\n",
    "        popup=label,\n",
    "        color='red',\n",
    "        fill=True,\n",
    "        fill_color='#3186cc',\n",
    "        fill_opacity=0.7,\n",
    "        parse_html=False).add_to(map_sample)"
   ]
  },
  {
   "cell_type": "code",
   "execution_count": 340,
   "metadata": {},
   "outputs": [
    {
     "data": {
      "text/html": [
       "<div style=\"width:100%;\"><div style=\"position:relative;width:100%;height:0;padding-bottom:60%;\"><span style=\"color:#565656\">Make this Notebook Trusted to load map: File -> Trust Notebook</span><iframe src=\"about:blank\" style=\"position:absolute;width:100%;height:100%;left:0;top:0;border:none !important;\" data-html=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 onload=\"this.contentDocument.open();this.contentDocument.write(atob(this.getAttribute('data-html')));this.contentDocument.close();\" allowfullscreen webkitallowfullscreen mozallowfullscreen></iframe></div></div>"
      ],
      "text/plain": [
       "<folium.folium.Map at 0x7fa8d2282550>"
      ]
     },
     "execution_count": 340,
     "metadata": {},
     "output_type": "execute_result"
    }
   ],
   "source": [
    "map_sample"
   ]
  },
  {
   "cell_type": "code",
   "execution_count": 341,
   "metadata": {},
   "outputs": [
    {
     "data": {
      "text/html": [
       "<div>\n",
       "<style scoped>\n",
       "    .dataframe tbody tr th:only-of-type {\n",
       "        vertical-align: middle;\n",
       "    }\n",
       "\n",
       "    .dataframe tbody tr th {\n",
       "        vertical-align: top;\n",
       "    }\n",
       "\n",
       "    .dataframe thead th {\n",
       "        text-align: right;\n",
       "    }\n",
       "</style>\n",
       "<table border=\"1\" class=\"dataframe\">\n",
       "  <thead>\n",
       "    <tr style=\"text-align: right;\">\n",
       "      <th></th>\n",
       "      <th>City</th>\n",
       "      <th>Latitude</th>\n",
       "      <th>Longitude</th>\n",
       "      <th>investment intensity</th>\n",
       "      <th>income intensity</th>\n",
       "      <th>Prospectivity Score</th>\n",
       "    </tr>\n",
       "    <tr>\n",
       "      <th>ZIP</th>\n",
       "      <th></th>\n",
       "      <th></th>\n",
       "      <th></th>\n",
       "      <th></th>\n",
       "      <th></th>\n",
       "      <th></th>\n",
       "    </tr>\n",
       "  </thead>\n",
       "  <tbody>\n",
       "    <tr>\n",
       "      <th>77494</th>\n",
       "      <td>Katy</td>\n",
       "      <td>29.760833</td>\n",
       "      <td>-95.81104</td>\n",
       "      <td>1464.140459</td>\n",
       "      <td>168710</td>\n",
       "      <td>6.634928</td>\n",
       "    </tr>\n",
       "    <tr>\n",
       "      <th>77024</th>\n",
       "      <td>Houston</td>\n",
       "      <td>29.773994</td>\n",
       "      <td>-95.51771</td>\n",
       "      <td>3104.037550</td>\n",
       "      <td>74780</td>\n",
       "      <td>6.203177</td>\n",
       "    </tr>\n",
       "    <tr>\n",
       "      <th>77479</th>\n",
       "      <td>Sugar Land</td>\n",
       "      <td>29.573345</td>\n",
       "      <td>-95.63213</td>\n",
       "      <td>1283.715325</td>\n",
       "      <td>143880</td>\n",
       "      <td>4.828698</td>\n",
       "    </tr>\n",
       "    <tr>\n",
       "      <th>77433</th>\n",
       "      <td>Cypress</td>\n",
       "      <td>29.884175</td>\n",
       "      <td>-95.72219</td>\n",
       "      <td>1089.357898</td>\n",
       "      <td>126820</td>\n",
       "      <td>3.479447</td>\n",
       "    </tr>\n",
       "    <tr>\n",
       "      <th>77007</th>\n",
       "      <td>Houston</td>\n",
       "      <td>29.772627</td>\n",
       "      <td>-95.40319</td>\n",
       "      <td>1414.952830</td>\n",
       "      <td>88290</td>\n",
       "      <td>3.096075</td>\n",
       "    </tr>\n",
       "    <tr>\n",
       "      <th>77459</th>\n",
       "      <td>Missouri City</td>\n",
       "      <td>29.564347</td>\n",
       "      <td>-95.54762</td>\n",
       "      <td>1053.372022</td>\n",
       "      <td>110360</td>\n",
       "      <td>2.844592</td>\n",
       "    </tr>\n",
       "    <tr>\n",
       "      <th>77008</th>\n",
       "      <td>Houston</td>\n",
       "      <td>29.798777</td>\n",
       "      <td>-95.40951</td>\n",
       "      <td>1298.130485</td>\n",
       "      <td>69340</td>\n",
       "      <td>2.084068</td>\n",
       "    </tr>\n",
       "    <tr>\n",
       "      <th>77573</th>\n",
       "      <td>League City</td>\n",
       "      <td>29.502759</td>\n",
       "      <td>-95.08906</td>\n",
       "      <td>662.672050</td>\n",
       "      <td>131500</td>\n",
       "      <td>2.000849</td>\n",
       "    </tr>\n",
       "    <tr>\n",
       "      <th>77005</th>\n",
       "      <td>Houston</td>\n",
       "      <td>29.717529</td>\n",
       "      <td>-95.42821</td>\n",
       "      <td>1644.197700</td>\n",
       "      <td>52810</td>\n",
       "      <td>1.991826</td>\n",
       "    </tr>\n",
       "    <tr>\n",
       "      <th>77379</th>\n",
       "      <td>Spring</td>\n",
       "      <td>30.024749</td>\n",
       "      <td>-95.53215</td>\n",
       "      <td>670.548920</td>\n",
       "      <td>115730</td>\n",
       "      <td>1.724360</td>\n",
       "    </tr>\n",
       "    <tr>\n",
       "      <th>77429</th>\n",
       "      <td>Cypress</td>\n",
       "      <td>29.982746</td>\n",
       "      <td>-95.66597</td>\n",
       "      <td>604.343770</td>\n",
       "      <td>123870</td>\n",
       "      <td>1.644865</td>\n",
       "    </tr>\n",
       "  </tbody>\n",
       "</table>\n",
       "</div>"
      ],
      "text/plain": [
       "                City   Latitude  Longitude  investment intensity  \\\n",
       "ZIP                                                                \n",
       "77494           Katy  29.760833  -95.81104           1464.140459   \n",
       "77024        Houston  29.773994  -95.51771           3104.037550   \n",
       "77479     Sugar Land  29.573345  -95.63213           1283.715325   \n",
       "77433        Cypress  29.884175  -95.72219           1089.357898   \n",
       "77007        Houston  29.772627  -95.40319           1414.952830   \n",
       "77459  Missouri City  29.564347  -95.54762           1053.372022   \n",
       "77008        Houston  29.798777  -95.40951           1298.130485   \n",
       "77573    League City  29.502759  -95.08906            662.672050   \n",
       "77005        Houston  29.717529  -95.42821           1644.197700   \n",
       "77379         Spring  30.024749  -95.53215            670.548920   \n",
       "77429        Cypress  29.982746  -95.66597            604.343770   \n",
       "\n",
       "       income intensity  Prospectivity Score  \n",
       "ZIP                                           \n",
       "77494            168710             6.634928  \n",
       "77024             74780             6.203177  \n",
       "77479            143880             4.828698  \n",
       "77433            126820             3.479447  \n",
       "77007             88290             3.096075  \n",
       "77459            110360             2.844592  \n",
       "77008             69340             2.084068  \n",
       "77573            131500             2.000849  \n",
       "77005             52810             1.991826  \n",
       "77379            115730             1.724360  \n",
       "77429            123870             1.644865  "
      ]
     },
     "execution_count": 341,
     "metadata": {},
     "output_type": "execute_result"
    }
   ],
   "source": [
    "pie_df=sample_df.set_index('ZIP')\n",
    "pie_df"
   ]
  },
  {
   "cell_type": "code",
   "execution_count": 342,
   "metadata": {},
   "outputs": [
    {
     "data": {
      "text/plain": [
       "Text(0, 0.5, 'Prospectivity Score')"
      ]
     },
     "execution_count": 342,
     "metadata": {},
     "output_type": "execute_result"
    },
    {
     "data": {
      "image/png": "[encoded data removed]",
      "text/plain": [
       "<Figure size 720x432 with 1 Axes>"
      ]
     },
     "metadata": {
      "needs_background": "light"
     },
     "output_type": "display_data"
    }
   ],
   "source": [
    "pie_df['Prospectivity Score'].plot(kind='bar', figsize=(10,6),rot=90, color='lightgreen')\n",
    "plt.title('Top 10 Highest Prospectivity Zones')\n",
    "plt.xlabel('Zip Code')\n",
    "plt.ylabel('Prospectivity Score')"
   ]
  },
  {
   "cell_type": "markdown",
   "metadata": {},
   "source": [
    "# VI. Foursquare Data Selection"
   ]
  },
  {
   "cell_type": "markdown",
   "metadata": {},
   "source": [
    "### Next, we are going to utilize the Foursquare API to explore Home Improvement store locations in the Greater Houston Metropolitan Area"
   ]
  },
  {
   "cell_type": "code",
   "execution_count": 343,
   "metadata": {},
   "outputs": [
    {
     "data": {
      "text/plain": [
       "('2XCT5GQNZACPUY0A1VHDEGFVHMBLP4SGF3ZARXFD21ZONABJ',\n",
       " 'TYUIFCR35VAHSM3QZ5TR4FEZBVE2QHHLRPHYIC21KEM1ZGI3',\n",
       " '20180605',\n",
       " 29.755578000000003,\n",
       " -95.36531)"
      ]
     },
     "execution_count": 343,
     "metadata": {},
     "output_type": "execute_result"
    }
   ],
   "source": [
    "#Define Foursquare Credentials and Version\n",
    "CLIENT_ID = '2XCT5GQNZACPUY0A1VHDEGFVHMBLP4SGF3ZARXFD21ZONABJ' # your Foursquare ID\n",
    "CLIENT_SECRET = 'TYUIFCR35VAHSM3QZ5TR4FEZBVE2QHHLRPHYIC21KEM1ZGI3' # your Foursquare Secret\n",
    "VERSION = '20180605' # Foursquare API version\n",
    "CLIENT_ID, CLIENT_SECRET, VERSION, latitude, longitude"
   ]
  },
  {
   "cell_type": "code",
   "execution_count": 344,
   "metadata": {},
   "outputs": [
    {
     "data": {
      "text/plain": [
       "'https://api.foursquare.com/v2/venues/search?&client_id=2XCT5GQNZACPUY0A1VHDEGFVHMBLP4SGF3ZARXFD21ZONABJ&client_secret=TYUIFCR35VAHSM3QZ5TR4FEZBVE2QHHLRPHYIC21KEM1ZGI3&v=20180605&ll=29.755578000000003,-95.36531&radius=90000&limit=100&query=Home Depot'"
      ]
     },
     "execution_count": 344,
     "metadata": {},
     "output_type": "execute_result"
    }
   ],
   "source": [
    "LIMIT=100   #Limit the number of venues returned by the Forusquare API\n",
    "radius=90000  #Define radius in meters from defined latitude and longitude coordinates\n",
    "query='Home Depot'\n",
    "#create url to access the Foursquare API\n",
    "url = 'https://api.foursquare.com/v2/venues/explore?&client_id={}&client_secret={}&v={}&ll={},{}&radius={}&limit={}'.format(\n",
    "    CLIENT_ID, \n",
    "    CLIENT_SECRET, \n",
    "    VERSION, \n",
    "    latitude, \n",
    "    longitude, \n",
    "    radius, \n",
    "    LIMIT)\n",
    "url # display URL\n",
    "\n",
    "url2='https://api.foursquare.com/v2/venues/search?&client_id={}&client_secret={}&v={}&ll={},{}&radius={}&limit={}&query={}'.format(\n",
    "    CLIENT_ID, \n",
    "    CLIENT_SECRET, \n",
    "    VERSION, \n",
    "    latitude, \n",
    "    longitude, \n",
    "    radius, \n",
    "    LIMIT,\n",
    "    query)\n",
    "\n",
    "url2 # display URL2"
   ]
  },
  {
   "cell_type": "code",
   "execution_count": 345,
   "metadata": {},
   "outputs": [],
   "source": [
    "#Get JSON file of the results from the API and store them in a variable\n",
    "results=requests.get(url2).json()"
   ]
  },
  {
   "cell_type": "code",
   "execution_count": 346,
   "metadata": {},
   "outputs": [],
   "source": [
    "#results"
   ]
  },
  {
   "cell_type": "code",
   "execution_count": 347,
   "metadata": {},
   "outputs": [],
   "source": [
    "#see how many results were returned\n",
    "counter=len(results['response']['venues'])\n",
    "i=0\n",
    "\n",
    "#Define a new dataframe to store the data\n",
    "FS_df=pd.DataFrame(columns=['Hardware Store','Address','Longitude','Latitude'],index=range(101))\n",
    "cols=['name','longitude','latitude']\n",
    "\n",
    "#Iterate to read data into a dictionary\n",
    "while i<counter:\n",
    "    FS_df['Latitude'][i]=results['response']['venues'][i]['location']['lat']\n",
    "    FS_df['Longitude'][i]=results['response']['venues'][i]['location']['lng']\n",
    "    FS_df['Hardware Store'][i]=results['response']['venues'][i]['name']\n",
    "    FS_df['Address'][i]=results['response']['venues'][i]['location']['formattedAddress'][0]\n",
    "    i=i+1\n",
    "#FS_df"
   ]
  },
  {
   "cell_type": "markdown",
   "metadata": {},
   "source": [
    "### Next, we derive the locations for Lowe's, the other major Home Improvement Store covered in this Analysis"
   ]
  },
  {
   "cell_type": "code",
   "execution_count": 348,
   "metadata": {},
   "outputs": [],
   "source": [
    "LIMIT=100   #Limit the number of venues returned by the Forusquare API\n",
    "radius=90000  #Define radius in meters from defined latitude and longitude coordinates\n",
    "query='Lowe\\'s'\n",
    "url3='https://api.foursquare.com/v2/venues/search?&client_id={}&client_secret={}&v={}&ll={},{}&radius={}&limit={}&query={}'.format(\n",
    "    CLIENT_ID, \n",
    "    CLIENT_SECRET, \n",
    "    VERSION, \n",
    "    latitude, \n",
    "    longitude, \n",
    "    radius, \n",
    "    LIMIT,\n",
    "    query)\n",
    "\n",
    "#Get JSON file of the results from the API and store them in a variable\n",
    "results2=requests.get(url3).json()"
   ]
  },
  {
   "cell_type": "code",
   "execution_count": 349,
   "metadata": {},
   "outputs": [],
   "source": [
    "#results2"
   ]
  },
  {
   "cell_type": "code",
   "execution_count": 350,
   "metadata": {},
   "outputs": [],
   "source": [
    "#Let's check the length of the second request and append to the counter variable\n",
    "counter=counter+len(results2['response']['venues'])"
   ]
  },
  {
   "cell_type": "code",
   "execution_count": 351,
   "metadata": {},
   "outputs": [],
   "source": [
    "#Define a second counter for the additional rows\n",
    "counter2=0\n",
    "#Iterate to read data into a dictionary\n",
    "while i<counter:\n",
    "    FS_df['Latitude'][i]=results2['response']['venues'][counter2]['location']['lat']\n",
    "    FS_df['Longitude'][i]=results2['response']['venues'][counter2]['location']['lng']\n",
    "    FS_df['Hardware Store'][i]=results2['response']['venues'][counter2]['name']\n",
    "    FS_df['Address'][i]=results2['response']['venues'][counter2]['location']['formattedAddress'][0]\n",
    "    i=i+1\n",
    "    counter2=counter2+1\n",
    "#FS_df"
   ]
  },
  {
   "cell_type": "code",
   "execution_count": 352,
   "metadata": {},
   "outputs": [],
   "source": [
    "#We can see the following Incorrect Values based on external research\n",
    "\n",
    "prob=['Lowes Theater', 'Lowest Energy Rate']\n",
    "\n",
    "#Lets Define a Column to Flag these Values\n",
    "\n",
    "FS_df['Flag']=FS_df['Hardware Store'].isin(prob)"
   ]
  },
  {
   "cell_type": "code",
   "execution_count": 353,
   "metadata": {},
   "outputs": [],
   "source": [
    "FS_df=FS_df.dropna()"
   ]
  },
  {
   "cell_type": "code",
   "execution_count": 354,
   "metadata": {},
   "outputs": [],
   "source": [
    "#FS_df"
   ]
  },
  {
   "cell_type": "code",
   "execution_count": 355,
   "metadata": {},
   "outputs": [],
   "source": [
    "#Drop invalid values from the dataframe\n",
    "FS_df.drop(FS_df[FS_df['Flag']==True].index, inplace=True)"
   ]
  },
  {
   "cell_type": "code",
   "execution_count": 356,
   "metadata": {},
   "outputs": [
    {
     "data": {
      "text/html": [
       "<div>\n",
       "<style scoped>\n",
       "    .dataframe tbody tr th:only-of-type {\n",
       "        vertical-align: middle;\n",
       "    }\n",
       "\n",
       "    .dataframe tbody tr th {\n",
       "        vertical-align: top;\n",
       "    }\n",
       "\n",
       "    .dataframe thead th {\n",
       "        text-align: right;\n",
       "    }\n",
       "</style>\n",
       "<table border=\"1\" class=\"dataframe\">\n",
       "  <thead>\n",
       "    <tr style=\"text-align: right;\">\n",
       "      <th></th>\n",
       "      <th>Hardware Store</th>\n",
       "      <th>Address</th>\n",
       "      <th>Longitude</th>\n",
       "      <th>Latitude</th>\n",
       "      <th>Flag</th>\n",
       "    </tr>\n",
       "  </thead>\n",
       "  <tbody>\n",
       "    <tr>\n",
       "      <th>0</th>\n",
       "      <td>The Home Depot</td>\n",
       "      <td>999 North Loop West</td>\n",
       "      <td>-95.4171</td>\n",
       "      <td>29.8114</td>\n",
       "      <td>False</td>\n",
       "    </tr>\n",
       "    <tr>\n",
       "      <th>1</th>\n",
       "      <td>The Home Depot</td>\n",
       "      <td>8400 Katy Freeway</td>\n",
       "      <td>-95.4936</td>\n",
       "      <td>29.7862</td>\n",
       "      <td>False</td>\n",
       "    </tr>\n",
       "    <tr>\n",
       "      <th>2</th>\n",
       "      <td>The Home Depot</td>\n",
       "      <td>5445 West Loop</td>\n",
       "      <td>-95.4573</td>\n",
       "      <td>29.7233</td>\n",
       "      <td>False</td>\n",
       "    </tr>\n",
       "    <tr>\n",
       "      <th>3</th>\n",
       "      <td>The Home Depot</td>\n",
       "      <td>18251 Gulf Freeway</td>\n",
       "      <td>-95.1532</td>\n",
       "      <td>29.5569</td>\n",
       "      <td>False</td>\n",
       "    </tr>\n",
       "    <tr>\n",
       "      <th>4</th>\n",
       "      <td>The Home Depot</td>\n",
       "      <td>10419 Highway 6 South</td>\n",
       "      <td>-95.6424</td>\n",
       "      <td>29.6638</td>\n",
       "      <td>False</td>\n",
       "    </tr>\n",
       "  </tbody>\n",
       "</table>\n",
       "</div>"
      ],
      "text/plain": [
       "   Hardware Store                Address Longitude Latitude   Flag\n",
       "0  The Home Depot    999 North Loop West  -95.4171  29.8114  False\n",
       "1  The Home Depot      8400 Katy Freeway  -95.4936  29.7862  False\n",
       "2  The Home Depot         5445 West Loop  -95.4573  29.7233  False\n",
       "3  The Home Depot     18251 Gulf Freeway  -95.1532  29.5569  False\n",
       "4  The Home Depot  10419 Highway 6 South  -95.6424  29.6638  False"
      ]
     },
     "execution_count": 356,
     "metadata": {},
     "output_type": "execute_result"
    }
   ],
   "source": [
    "FS_df.head()"
   ]
  },
  {
   "cell_type": "code",
   "execution_count": 357,
   "metadata": {},
   "outputs": [],
   "source": [
    "#We can now remove the Flag column\n",
    "FS_df.drop(columns=['Flag'], inplace=True)"
   ]
  },
  {
   "cell_type": "code",
   "execution_count": 358,
   "metadata": {},
   "outputs": [],
   "source": [
    "#And reset the index and verify the DF\n",
    "FS_df.reset_index(drop=True, inplace=True)"
   ]
  },
  {
   "cell_type": "code",
   "execution_count": 359,
   "metadata": {},
   "outputs": [
    {
     "data": {
      "text/html": [
       "<div>\n",
       "<style scoped>\n",
       "    .dataframe tbody tr th:only-of-type {\n",
       "        vertical-align: middle;\n",
       "    }\n",
       "\n",
       "    .dataframe tbody tr th {\n",
       "        vertical-align: top;\n",
       "    }\n",
       "\n",
       "    .dataframe thead th {\n",
       "        text-align: right;\n",
       "    }\n",
       "</style>\n",
       "<table border=\"1\" class=\"dataframe\">\n",
       "  <thead>\n",
       "    <tr style=\"text-align: right;\">\n",
       "      <th></th>\n",
       "      <th>Hardware Store</th>\n",
       "      <th>Address</th>\n",
       "      <th>Longitude</th>\n",
       "      <th>Latitude</th>\n",
       "    </tr>\n",
       "  </thead>\n",
       "  <tbody>\n",
       "    <tr>\n",
       "      <th>0</th>\n",
       "      <td>The Home Depot</td>\n",
       "      <td>999 North Loop West</td>\n",
       "      <td>-95.4171</td>\n",
       "      <td>29.8114</td>\n",
       "    </tr>\n",
       "    <tr>\n",
       "      <th>1</th>\n",
       "      <td>The Home Depot</td>\n",
       "      <td>8400 Katy Freeway</td>\n",
       "      <td>-95.4936</td>\n",
       "      <td>29.7862</td>\n",
       "    </tr>\n",
       "    <tr>\n",
       "      <th>2</th>\n",
       "      <td>The Home Depot</td>\n",
       "      <td>5445 West Loop</td>\n",
       "      <td>-95.4573</td>\n",
       "      <td>29.7233</td>\n",
       "    </tr>\n",
       "    <tr>\n",
       "      <th>3</th>\n",
       "      <td>The Home Depot</td>\n",
       "      <td>18251 Gulf Freeway</td>\n",
       "      <td>-95.1532</td>\n",
       "      <td>29.5569</td>\n",
       "    </tr>\n",
       "    <tr>\n",
       "      <th>4</th>\n",
       "      <td>The Home Depot</td>\n",
       "      <td>10419 Highway 6 South</td>\n",
       "      <td>-95.6424</td>\n",
       "      <td>29.6638</td>\n",
       "    </tr>\n",
       "  </tbody>\n",
       "</table>\n",
       "</div>"
      ],
      "text/plain": [
       "   Hardware Store                Address Longitude Latitude\n",
       "0  The Home Depot    999 North Loop West  -95.4171  29.8114\n",
       "1  The Home Depot      8400 Katy Freeway  -95.4936  29.7862\n",
       "2  The Home Depot         5445 West Loop  -95.4573  29.7233\n",
       "3  The Home Depot     18251 Gulf Freeway  -95.1532  29.5569\n",
       "4  The Home Depot  10419 Highway 6 South  -95.6424  29.6638"
      ]
     },
     "execution_count": 359,
     "metadata": {},
     "output_type": "execute_result"
    }
   ],
   "source": [
    "FS_df.head()"
   ]
  },
  {
   "cell_type": "markdown",
   "metadata": {},
   "source": [
    "# VII. Methodology"
   ]
  },
  {
   "cell_type": "markdown",
   "metadata": {},
   "source": [
    "### In this project, we ultimately seek to find a top 20 list of prospective Zip code centerpoints for sitign a new concept Home Improvement store in the Greater Houston Area. We limit our analysis to a radius of 90 kilometers from the Houston city center. We collect data from the Natinoal Association of Realtors (to define areas with housing listings for an intensity score relative to the number of houses listed for a given time period (YTD July 2020). We then use Internal Revenue Service Data on IRS filings by adjusted gross income of filers in a given zip code to determine aggregate wealth intensity. \n",
    "\n",
    "### We then implement the Haversine formula via a defined function for each of the queried competing Home Improvement store locations to obtain cumulative distances from stores. The areas with the most robust number of listings, highest total income levels, and longest cumulative distances from competitors establish our Top 20 listing results below.\n",
    "\n",
    "### In the third step, we will use K-Means clustering to define cluster labels based on proximity. These will then be mapped, and the Top 20 will be mapped. In the Report, there is a discussion on the data findings specific to these labels."
   ]
  },
  {
   "cell_type": "markdown",
   "metadata": {},
   "source": [
    "# VIII. Prospective Candidate Areas Selection"
   ]
  },
  {
   "cell_type": "markdown",
   "metadata": {},
   "source": [
    "#### As viability is in many ways associated with proximity to competitors, particularly in new concept startups, we will calculate the distance between each of the Hardware Store Locations Vs the Prospective Zip Code List"
   ]
  },
  {
   "cell_type": "code",
   "execution_count": 360,
   "metadata": {},
   "outputs": [],
   "source": [
    "import math\n",
    "from math import *\n",
    "#We will need to define a function to calculate distance using the Haversine methematical formula\n",
    "\n",
    "\n",
    "def get_dist(lata, lona, latb, lonb):\n",
    "    # approximate radius of earth in km\n",
    "    R = 6378.0\n",
    "\n",
    "    lat1 = radians(abs(lata))\n",
    "    lon1 = radians(abs(lona))\n",
    "    lat2 = radians(abs(latb))\n",
    "    lon2 = radians(abs(lonb))\n",
    "\n",
    "    dlon = lon2 - lon1\n",
    "    dlat = lat2 - lat1\n",
    "\n",
    "    a = sin(dlat / 2)**2 + cos(lat1) * cos(lat2) * sin(dlon / 2)**2\n",
    "    c = 2 * atan2(sqrt(a), sqrt(1 - a))\n",
    "\n",
    "    output = R * c\n",
    "    \n",
    "    return output"
   ]
  },
  {
   "cell_type": "code",
   "execution_count": 361,
   "metadata": {},
   "outputs": [
    {
     "name": "stdout",
     "output_type": "stream",
     "text": [
      "20.937919756853088 kilometers apart\n"
     ]
    }
   ],
   "source": [
    "print(get_dist(29.8672, -95.3294, 29.773994,-95.51771),'kilometers apart')"
   ]
  },
  {
   "cell_type": "code",
   "execution_count": 362,
   "metadata": {},
   "outputs": [
    {
     "data": {
      "text/html": [
       "<div>\n",
       "<style scoped>\n",
       "    .dataframe tbody tr th:only-of-type {\n",
       "        vertical-align: middle;\n",
       "    }\n",
       "\n",
       "    .dataframe tbody tr th {\n",
       "        vertical-align: top;\n",
       "    }\n",
       "\n",
       "    .dataframe thead th {\n",
       "        text-align: right;\n",
       "    }\n",
       "</style>\n",
       "<table border=\"1\" class=\"dataframe\">\n",
       "  <thead>\n",
       "    <tr style=\"text-align: right;\">\n",
       "      <th></th>\n",
       "      <th>ZIP</th>\n",
       "      <th>City</th>\n",
       "      <th>Latitude</th>\n",
       "      <th>Longitude</th>\n",
       "      <th>investment intensity</th>\n",
       "      <th>income intensity</th>\n",
       "      <th>Prospectivity Score</th>\n",
       "    </tr>\n",
       "  </thead>\n",
       "  <tbody>\n",
       "    <tr>\n",
       "      <th>0</th>\n",
       "      <td>77494</td>\n",
       "      <td>Katy</td>\n",
       "      <td>29.760833</td>\n",
       "      <td>-95.81104</td>\n",
       "      <td>1464.140459</td>\n",
       "      <td>168710</td>\n",
       "      <td>6.634928</td>\n",
       "    </tr>\n",
       "    <tr>\n",
       "      <th>1</th>\n",
       "      <td>77024</td>\n",
       "      <td>Houston</td>\n",
       "      <td>29.773994</td>\n",
       "      <td>-95.51771</td>\n",
       "      <td>3104.037550</td>\n",
       "      <td>74780</td>\n",
       "      <td>6.203177</td>\n",
       "    </tr>\n",
       "    <tr>\n",
       "      <th>2</th>\n",
       "      <td>77479</td>\n",
       "      <td>Sugar Land</td>\n",
       "      <td>29.573345</td>\n",
       "      <td>-95.63213</td>\n",
       "      <td>1283.715325</td>\n",
       "      <td>143880</td>\n",
       "      <td>4.828698</td>\n",
       "    </tr>\n",
       "    <tr>\n",
       "      <th>3</th>\n",
       "      <td>77433</td>\n",
       "      <td>Cypress</td>\n",
       "      <td>29.884175</td>\n",
       "      <td>-95.72219</td>\n",
       "      <td>1089.357898</td>\n",
       "      <td>126820</td>\n",
       "      <td>3.479447</td>\n",
       "    </tr>\n",
       "    <tr>\n",
       "      <th>4</th>\n",
       "      <td>77007</td>\n",
       "      <td>Houston</td>\n",
       "      <td>29.772627</td>\n",
       "      <td>-95.40319</td>\n",
       "      <td>1414.952830</td>\n",
       "      <td>88290</td>\n",
       "      <td>3.096075</td>\n",
       "    </tr>\n",
       "  </tbody>\n",
       "</table>\n",
       "</div>"
      ],
      "text/plain": [
       "     ZIP        City   Latitude  Longitude  investment intensity  \\\n",
       "0  77494        Katy  29.760833  -95.81104           1464.140459   \n",
       "1  77024     Houston  29.773994  -95.51771           3104.037550   \n",
       "2  77479  Sugar Land  29.573345  -95.63213           1283.715325   \n",
       "3  77433     Cypress  29.884175  -95.72219           1089.357898   \n",
       "4  77007     Houston  29.772627  -95.40319           1414.952830   \n",
       "\n",
       "   income intensity  Prospectivity Score  \n",
       "0            168710             6.634928  \n",
       "1             74780             6.203177  \n",
       "2            143880             4.828698  \n",
       "3            126820             3.479447  \n",
       "4             88290             3.096075  "
      ]
     },
     "execution_count": 362,
     "metadata": {},
     "output_type": "execute_result"
    }
   ],
   "source": [
    "merge_test.head()"
   ]
  },
  {
   "cell_type": "code",
   "execution_count": 363,
   "metadata": {},
   "outputs": [
    {
     "name": "stdout",
     "output_type": "stream",
     "text": [
      "97\n"
     ]
    }
   ],
   "source": [
    "#Define a dataframe for calculating distances from Hardware Store Locations\n",
    "\n",
    "#Number of stores is defined by the length of the FS_df (Foursquare data Dataframe)\n",
    "numstore=len(FS_df)\n",
    "print(numstore)"
   ]
  },
  {
   "cell_type": "code",
   "execution_count": 364,
   "metadata": {},
   "outputs": [],
   "source": [
    "#This defines the additional dataframe columns based on the total number of returned venues\n",
    "counter=0\n",
    "while counter<=numstore:\n",
    "    merge_test[counter+7]=\"\"\n",
    "    counter=counter+1"
   ]
  },
  {
   "cell_type": "code",
   "execution_count": 365,
   "metadata": {},
   "outputs": [
    {
     "data": {
      "text/html": [
       "<div>\n",
       "<style scoped>\n",
       "    .dataframe tbody tr th:only-of-type {\n",
       "        vertical-align: middle;\n",
       "    }\n",
       "\n",
       "    .dataframe tbody tr th {\n",
       "        vertical-align: top;\n",
       "    }\n",
       "\n",
       "    .dataframe thead th {\n",
       "        text-align: right;\n",
       "    }\n",
       "</style>\n",
       "<table border=\"1\" class=\"dataframe\">\n",
       "  <thead>\n",
       "    <tr style=\"text-align: right;\">\n",
       "      <th></th>\n",
       "      <th>ZIP</th>\n",
       "      <th>City</th>\n",
       "      <th>Latitude</th>\n",
       "      <th>Longitude</th>\n",
       "      <th>investment intensity</th>\n",
       "      <th>income intensity</th>\n",
       "      <th>Prospectivity Score</th>\n",
       "      <th>7</th>\n",
       "      <th>8</th>\n",
       "      <th>9</th>\n",
       "      <th>10</th>\n",
       "      <th>11</th>\n",
       "      <th>12</th>\n",
       "      <th>13</th>\n",
       "      <th>14</th>\n",
       "      <th>15</th>\n",
       "      <th>16</th>\n",
       "      <th>17</th>\n",
       "      <th>18</th>\n",
       "      <th>19</th>\n",
       "      <th>20</th>\n",
       "      <th>21</th>\n",
       "      <th>22</th>\n",
       "      <th>23</th>\n",
       "      <th>24</th>\n",
       "      <th>25</th>\n",
       "      <th>26</th>\n",
       "      <th>27</th>\n",
       "      <th>28</th>\n",
       "      <th>29</th>\n",
       "      <th>30</th>\n",
       "      <th>31</th>\n",
       "      <th>32</th>\n",
       "      <th>33</th>\n",
       "      <th>34</th>\n",
       "      <th>35</th>\n",
       "      <th>36</th>\n",
       "      <th>37</th>\n",
       "      <th>38</th>\n",
       "      <th>39</th>\n",
       "      <th>40</th>\n",
       "      <th>41</th>\n",
       "      <th>42</th>\n",
       "      <th>43</th>\n",
       "      <th>44</th>\n",
       "      <th>45</th>\n",
       "      <th>46</th>\n",
       "      <th>47</th>\n",
       "      <th>48</th>\n",
       "      <th>49</th>\n",
       "      <th>50</th>\n",
       "      <th>51</th>\n",
       "      <th>52</th>\n",
       "      <th>53</th>\n",
       "      <th>54</th>\n",
       "      <th>55</th>\n",
       "      <th>56</th>\n",
       "      <th>57</th>\n",
       "      <th>58</th>\n",
       "      <th>59</th>\n",
       "      <th>60</th>\n",
       "      <th>61</th>\n",
       "      <th>62</th>\n",
       "      <th>63</th>\n",
       "      <th>64</th>\n",
       "      <th>65</th>\n",
       "      <th>66</th>\n",
       "      <th>67</th>\n",
       "      <th>68</th>\n",
       "      <th>69</th>\n",
       "      <th>70</th>\n",
       "      <th>71</th>\n",
       "      <th>72</th>\n",
       "      <th>73</th>\n",
       "      <th>74</th>\n",
       "      <th>75</th>\n",
       "      <th>76</th>\n",
       "      <th>77</th>\n",
       "      <th>78</th>\n",
       "      <th>79</th>\n",
       "      <th>80</th>\n",
       "      <th>81</th>\n",
       "      <th>82</th>\n",
       "      <th>83</th>\n",
       "      <th>84</th>\n",
       "      <th>85</th>\n",
       "      <th>86</th>\n",
       "      <th>87</th>\n",
       "      <th>88</th>\n",
       "      <th>89</th>\n",
       "      <th>90</th>\n",
       "      <th>91</th>\n",
       "      <th>92</th>\n",
       "      <th>93</th>\n",
       "      <th>94</th>\n",
       "      <th>95</th>\n",
       "      <th>96</th>\n",
       "      <th>97</th>\n",
       "      <th>98</th>\n",
       "      <th>99</th>\n",
       "      <th>100</th>\n",
       "      <th>101</th>\n",
       "      <th>102</th>\n",
       "      <th>103</th>\n",
       "      <th>104</th>\n",
       "    </tr>\n",
       "  </thead>\n",
       "  <tbody>\n",
       "    <tr>\n",
       "      <th>0</th>\n",
       "      <td>77494</td>\n",
       "      <td>Katy</td>\n",
       "      <td>29.760833</td>\n",
       "      <td>-95.81104</td>\n",
       "      <td>1464.140459</td>\n",
       "      <td>168710</td>\n",
       "      <td>6.634928</td>\n",
       "      <td></td>\n",
       "      <td></td>\n",
       "      <td></td>\n",
       "      <td></td>\n",
       "      <td></td>\n",
       "      <td></td>\n",
       "      <td></td>\n",
       "      <td></td>\n",
       "      <td></td>\n",
       "      <td></td>\n",
       "      <td></td>\n",
       "      <td></td>\n",
       "      <td></td>\n",
       "      <td></td>\n",
       "      <td></td>\n",
       "      <td></td>\n",
       "      <td></td>\n",
       "      <td></td>\n",
       "      <td></td>\n",
       "      <td></td>\n",
       "      <td></td>\n",
       "      <td></td>\n",
       "      <td></td>\n",
       "      <td></td>\n",
       "      <td></td>\n",
       "      <td></td>\n",
       "      <td></td>\n",
       "      <td></td>\n",
       "      <td></td>\n",
       "      <td></td>\n",
       "      <td></td>\n",
       "      <td></td>\n",
       "      <td></td>\n",
       "      <td></td>\n",
       "      <td></td>\n",
       "      <td></td>\n",
       "      <td></td>\n",
       "      <td></td>\n",
       "      <td></td>\n",
       "      <td></td>\n",
       "      <td></td>\n",
       "      <td></td>\n",
       "      <td></td>\n",
       "      <td></td>\n",
       "      <td></td>\n",
       "      <td></td>\n",
       "      <td></td>\n",
       "      <td></td>\n",
       "      <td></td>\n",
       "      <td></td>\n",
       "      <td></td>\n",
       "      <td></td>\n",
       "      <td></td>\n",
       "      <td></td>\n",
       "      <td></td>\n",
       "      <td></td>\n",
       "      <td></td>\n",
       "      <td></td>\n",
       "      <td></td>\n",
       "      <td></td>\n",
       "      <td></td>\n",
       "      <td></td>\n",
       "      <td></td>\n",
       "      <td></td>\n",
       "      <td></td>\n",
       "      <td></td>\n",
       "      <td></td>\n",
       "      <td></td>\n",
       "      <td></td>\n",
       "      <td></td>\n",
       "      <td></td>\n",
       "      <td></td>\n",
       "      <td></td>\n",
       "      <td></td>\n",
       "      <td></td>\n",
       "      <td></td>\n",
       "      <td></td>\n",
       "      <td></td>\n",
       "      <td></td>\n",
       "      <td></td>\n",
       "      <td></td>\n",
       "      <td></td>\n",
       "      <td></td>\n",
       "      <td></td>\n",
       "      <td></td>\n",
       "      <td></td>\n",
       "      <td></td>\n",
       "      <td></td>\n",
       "      <td></td>\n",
       "      <td></td>\n",
       "      <td></td>\n",
       "      <td></td>\n",
       "      <td></td>\n",
       "      <td></td>\n",
       "      <td></td>\n",
       "      <td></td>\n",
       "      <td></td>\n",
       "      <td></td>\n",
       "    </tr>\n",
       "    <tr>\n",
       "      <th>1</th>\n",
       "      <td>77024</td>\n",
       "      <td>Houston</td>\n",
       "      <td>29.773994</td>\n",
       "      <td>-95.51771</td>\n",
       "      <td>3104.037550</td>\n",
       "      <td>74780</td>\n",
       "      <td>6.203177</td>\n",
       "      <td></td>\n",
       "      <td></td>\n",
       "      <td></td>\n",
       "      <td></td>\n",
       "      <td></td>\n",
       "      <td></td>\n",
       "      <td></td>\n",
       "      <td></td>\n",
       "      <td></td>\n",
       "      <td></td>\n",
       "      <td></td>\n",
       "      <td></td>\n",
       "      <td></td>\n",
       "      <td></td>\n",
       "      <td></td>\n",
       "      <td></td>\n",
       "      <td></td>\n",
       "      <td></td>\n",
       "      <td></td>\n",
       "      <td></td>\n",
       "      <td></td>\n",
       "      <td></td>\n",
       "      <td></td>\n",
       "      <td></td>\n",
       "      <td></td>\n",
       "      <td></td>\n",
       "      <td></td>\n",
       "      <td></td>\n",
       "      <td></td>\n",
       "      <td></td>\n",
       "      <td></td>\n",
       "      <td></td>\n",
       "      <td></td>\n",
       "      <td></td>\n",
       "      <td></td>\n",
       "      <td></td>\n",
       "      <td></td>\n",
       "      <td></td>\n",
       "      <td></td>\n",
       "      <td></td>\n",
       "      <td></td>\n",
       "      <td></td>\n",
       "      <td></td>\n",
       "      <td></td>\n",
       "      <td></td>\n",
       "      <td></td>\n",
       "      <td></td>\n",
       "      <td></td>\n",
       "      <td></td>\n",
       "      <td></td>\n",
       "      <td></td>\n",
       "      <td></td>\n",
       "      <td></td>\n",
       "      <td></td>\n",
       "      <td></td>\n",
       "      <td></td>\n",
       "      <td></td>\n",
       "      <td></td>\n",
       "      <td></td>\n",
       "      <td></td>\n",
       "      <td></td>\n",
       "      <td></td>\n",
       "      <td></td>\n",
       "      <td></td>\n",
       "      <td></td>\n",
       "      <td></td>\n",
       "      <td></td>\n",
       "      <td></td>\n",
       "      <td></td>\n",
       "      <td></td>\n",
       "      <td></td>\n",
       "      <td></td>\n",
       "      <td></td>\n",
       "      <td></td>\n",
       "      <td></td>\n",
       "      <td></td>\n",
       "      <td></td>\n",
       "      <td></td>\n",
       "      <td></td>\n",
       "      <td></td>\n",
       "      <td></td>\n",
       "      <td></td>\n",
       "      <td></td>\n",
       "      <td></td>\n",
       "      <td></td>\n",
       "      <td></td>\n",
       "      <td></td>\n",
       "      <td></td>\n",
       "      <td></td>\n",
       "      <td></td>\n",
       "      <td></td>\n",
       "      <td></td>\n",
       "      <td></td>\n",
       "      <td></td>\n",
       "      <td></td>\n",
       "      <td></td>\n",
       "      <td></td>\n",
       "      <td></td>\n",
       "    </tr>\n",
       "    <tr>\n",
       "      <th>2</th>\n",
       "      <td>77479</td>\n",
       "      <td>Sugar Land</td>\n",
       "      <td>29.573345</td>\n",
       "      <td>-95.63213</td>\n",
       "      <td>1283.715325</td>\n",
       "      <td>143880</td>\n",
       "      <td>4.828698</td>\n",
       "      <td></td>\n",
       "      <td></td>\n",
       "      <td></td>\n",
       "      <td></td>\n",
       "      <td></td>\n",
       "      <td></td>\n",
       "      <td></td>\n",
       "      <td></td>\n",
       "      <td></td>\n",
       "      <td></td>\n",
       "      <td></td>\n",
       "      <td></td>\n",
       "      <td></td>\n",
       "      <td></td>\n",
       "      <td></td>\n",
       "      <td></td>\n",
       "      <td></td>\n",
       "      <td></td>\n",
       "      <td></td>\n",
       "      <td></td>\n",
       "      <td></td>\n",
       "      <td></td>\n",
       "      <td></td>\n",
       "      <td></td>\n",
       "      <td></td>\n",
       "      <td></td>\n",
       "      <td></td>\n",
       "      <td></td>\n",
       "      <td></td>\n",
       "      <td></td>\n",
       "      <td></td>\n",
       "      <td></td>\n",
       "      <td></td>\n",
       "      <td></td>\n",
       "      <td></td>\n",
       "      <td></td>\n",
       "      <td></td>\n",
       "      <td></td>\n",
       "      <td></td>\n",
       "      <td></td>\n",
       "      <td></td>\n",
       "      <td></td>\n",
       "      <td></td>\n",
       "      <td></td>\n",
       "      <td></td>\n",
       "      <td></td>\n",
       "      <td></td>\n",
       "      <td></td>\n",
       "      <td></td>\n",
       "      <td></td>\n",
       "      <td></td>\n",
       "      <td></td>\n",
       "      <td></td>\n",
       "      <td></td>\n",
       "      <td></td>\n",
       "      <td></td>\n",
       "      <td></td>\n",
       "      <td></td>\n",
       "      <td></td>\n",
       "      <td></td>\n",
       "      <td></td>\n",
       "      <td></td>\n",
       "      <td></td>\n",
       "      <td></td>\n",
       "      <td></td>\n",
       "      <td></td>\n",
       "      <td></td>\n",
       "      <td></td>\n",
       "      <td></td>\n",
       "      <td></td>\n",
       "      <td></td>\n",
       "      <td></td>\n",
       "      <td></td>\n",
       "      <td></td>\n",
       "      <td></td>\n",
       "      <td></td>\n",
       "      <td></td>\n",
       "      <td></td>\n",
       "      <td></td>\n",
       "      <td></td>\n",
       "      <td></td>\n",
       "      <td></td>\n",
       "      <td></td>\n",
       "      <td></td>\n",
       "      <td></td>\n",
       "      <td></td>\n",
       "      <td></td>\n",
       "      <td></td>\n",
       "      <td></td>\n",
       "      <td></td>\n",
       "      <td></td>\n",
       "      <td></td>\n",
       "      <td></td>\n",
       "      <td></td>\n",
       "      <td></td>\n",
       "      <td></td>\n",
       "      <td></td>\n",
       "      <td></td>\n",
       "    </tr>\n",
       "    <tr>\n",
       "      <th>3</th>\n",
       "      <td>77433</td>\n",
       "      <td>Cypress</td>\n",
       "      <td>29.884175</td>\n",
       "      <td>-95.72219</td>\n",
       "      <td>1089.357898</td>\n",
       "      <td>126820</td>\n",
       "      <td>3.479447</td>\n",
       "      <td></td>\n",
       "      <td></td>\n",
       "      <td></td>\n",
       "      <td></td>\n",
       "      <td></td>\n",
       "      <td></td>\n",
       "      <td></td>\n",
       "      <td></td>\n",
       "      <td></td>\n",
       "      <td></td>\n",
       "      <td></td>\n",
       "      <td></td>\n",
       "      <td></td>\n",
       "      <td></td>\n",
       "      <td></td>\n",
       "      <td></td>\n",
       "      <td></td>\n",
       "      <td></td>\n",
       "      <td></td>\n",
       "      <td></td>\n",
       "      <td></td>\n",
       "      <td></td>\n",
       "      <td></td>\n",
       "      <td></td>\n",
       "      <td></td>\n",
       "      <td></td>\n",
       "      <td></td>\n",
       "      <td></td>\n",
       "      <td></td>\n",
       "      <td></td>\n",
       "      <td></td>\n",
       "      <td></td>\n",
       "      <td></td>\n",
       "      <td></td>\n",
       "      <td></td>\n",
       "      <td></td>\n",
       "      <td></td>\n",
       "      <td></td>\n",
       "      <td></td>\n",
       "      <td></td>\n",
       "      <td></td>\n",
       "      <td></td>\n",
       "      <td></td>\n",
       "      <td></td>\n",
       "      <td></td>\n",
       "      <td></td>\n",
       "      <td></td>\n",
       "      <td></td>\n",
       "      <td></td>\n",
       "      <td></td>\n",
       "      <td></td>\n",
       "      <td></td>\n",
       "      <td></td>\n",
       "      <td></td>\n",
       "      <td></td>\n",
       "      <td></td>\n",
       "      <td></td>\n",
       "      <td></td>\n",
       "      <td></td>\n",
       "      <td></td>\n",
       "      <td></td>\n",
       "      <td></td>\n",
       "      <td></td>\n",
       "      <td></td>\n",
       "      <td></td>\n",
       "      <td></td>\n",
       "      <td></td>\n",
       "      <td></td>\n",
       "      <td></td>\n",
       "      <td></td>\n",
       "      <td></td>\n",
       "      <td></td>\n",
       "      <td></td>\n",
       "      <td></td>\n",
       "      <td></td>\n",
       "      <td></td>\n",
       "      <td></td>\n",
       "      <td></td>\n",
       "      <td></td>\n",
       "      <td></td>\n",
       "      <td></td>\n",
       "      <td></td>\n",
       "      <td></td>\n",
       "      <td></td>\n",
       "      <td></td>\n",
       "      <td></td>\n",
       "      <td></td>\n",
       "      <td></td>\n",
       "      <td></td>\n",
       "      <td></td>\n",
       "      <td></td>\n",
       "      <td></td>\n",
       "      <td></td>\n",
       "      <td></td>\n",
       "      <td></td>\n",
       "      <td></td>\n",
       "      <td></td>\n",
       "      <td></td>\n",
       "    </tr>\n",
       "    <tr>\n",
       "      <th>4</th>\n",
       "      <td>77007</td>\n",
       "      <td>Houston</td>\n",
       "      <td>29.772627</td>\n",
       "      <td>-95.40319</td>\n",
       "      <td>1414.952830</td>\n",
       "      <td>88290</td>\n",
       "      <td>3.096075</td>\n",
       "      <td></td>\n",
       "      <td></td>\n",
       "      <td></td>\n",
       "      <td></td>\n",
       "      <td></td>\n",
       "      <td></td>\n",
       "      <td></td>\n",
       "      <td></td>\n",
       "      <td></td>\n",
       "      <td></td>\n",
       "      <td></td>\n",
       "      <td></td>\n",
       "      <td></td>\n",
       "      <td></td>\n",
       "      <td></td>\n",
       "      <td></td>\n",
       "      <td></td>\n",
       "      <td></td>\n",
       "      <td></td>\n",
       "      <td></td>\n",
       "      <td></td>\n",
       "      <td></td>\n",
       "      <td></td>\n",
       "      <td></td>\n",
       "      <td></td>\n",
       "      <td></td>\n",
       "      <td></td>\n",
       "      <td></td>\n",
       "      <td></td>\n",
       "      <td></td>\n",
       "      <td></td>\n",
       "      <td></td>\n",
       "      <td></td>\n",
       "      <td></td>\n",
       "      <td></td>\n",
       "      <td></td>\n",
       "      <td></td>\n",
       "      <td></td>\n",
       "      <td></td>\n",
       "      <td></td>\n",
       "      <td></td>\n",
       "      <td></td>\n",
       "      <td></td>\n",
       "      <td></td>\n",
       "      <td></td>\n",
       "      <td></td>\n",
       "      <td></td>\n",
       "      <td></td>\n",
       "      <td></td>\n",
       "      <td></td>\n",
       "      <td></td>\n",
       "      <td></td>\n",
       "      <td></td>\n",
       "      <td></td>\n",
       "      <td></td>\n",
       "      <td></td>\n",
       "      <td></td>\n",
       "      <td></td>\n",
       "      <td></td>\n",
       "      <td></td>\n",
       "      <td></td>\n",
       "      <td></td>\n",
       "      <td></td>\n",
       "      <td></td>\n",
       "      <td></td>\n",
       "      <td></td>\n",
       "      <td></td>\n",
       "      <td></td>\n",
       "      <td></td>\n",
       "      <td></td>\n",
       "      <td></td>\n",
       "      <td></td>\n",
       "      <td></td>\n",
       "      <td></td>\n",
       "      <td></td>\n",
       "      <td></td>\n",
       "      <td></td>\n",
       "      <td></td>\n",
       "      <td></td>\n",
       "      <td></td>\n",
       "      <td></td>\n",
       "      <td></td>\n",
       "      <td></td>\n",
       "      <td></td>\n",
       "      <td></td>\n",
       "      <td></td>\n",
       "      <td></td>\n",
       "      <td></td>\n",
       "      <td></td>\n",
       "      <td></td>\n",
       "      <td></td>\n",
       "      <td></td>\n",
       "      <td></td>\n",
       "      <td></td>\n",
       "      <td></td>\n",
       "      <td></td>\n",
       "      <td></td>\n",
       "      <td></td>\n",
       "    </tr>\n",
       "  </tbody>\n",
       "</table>\n",
       "</div>"
      ],
      "text/plain": [
       "     ZIP        City   Latitude  Longitude  investment intensity  \\\n",
       "0  77494        Katy  29.760833  -95.81104           1464.140459   \n",
       "1  77024     Houston  29.773994  -95.51771           3104.037550   \n",
       "2  77479  Sugar Land  29.573345  -95.63213           1283.715325   \n",
       "3  77433     Cypress  29.884175  -95.72219           1089.357898   \n",
       "4  77007     Houston  29.772627  -95.40319           1414.952830   \n",
       "\n",
       "   income intensity  Prospectivity Score 7 8 9 10 11 12 13 14 15 16 17 18 19  \\\n",
       "0            168710             6.634928                                       \n",
       "1             74780             6.203177                                       \n",
       "2            143880             4.828698                                       \n",
       "3            126820             3.479447                                       \n",
       "4             88290             3.096075                                       \n",
       "\n",
       "  20 21 22 23 24 25 26 27 28 29 30 31 32 33 34 35 36 37 38 39 40 41 42 43 44  \\\n",
       "0                                                                              \n",
       "1                                                                              \n",
       "2                                                                              \n",
       "3                                                                              \n",
       "4                                                                              \n",
       "\n",
       "  45 46 47 48 49 50 51 52 53 54 55 56 57 58 59 60 61 62 63 64 65 66 67 68 69  \\\n",
       "0                                                                              \n",
       "1                                                                              \n",
       "2                                                                              \n",
       "3                                                                              \n",
       "4                                                                              \n",
       "\n",
       "  70 71 72 73 74 75 76 77 78 79 80 81 82 83 84 85 86 87 88 89 90 91 92 93 94  \\\n",
       "0                                                                              \n",
       "1                                                                              \n",
       "2                                                                              \n",
       "3                                                                              \n",
       "4                                                                              \n",
       "\n",
       "  95 96 97 98 99 100 101 102 103 104  \n",
       "0                                     \n",
       "1                                     \n",
       "2                                     \n",
       "3                                     \n",
       "4                                     "
      ]
     },
     "execution_count": 365,
     "metadata": {},
     "output_type": "execute_result"
    }
   ],
   "source": [
    "merge_test.head()"
   ]
  },
  {
   "cell_type": "markdown",
   "metadata": {},
   "source": [
    "#### Note that the following loop iterates the calls to the long/lat distance function defined above. This is calculated for 96 stores across more than 200 zip codes, requiring approximately 19,200 function calls. This process takes 43 minutes to complete. The results are saved in an Excel file made available on Github and re-imported as an Excel file into a DataFrame."
   ]
  },
  {
   "cell_type": "code",
   "execution_count": 366,
   "metadata": {},
   "outputs": [],
   "source": [
    "#colcounter=0\n",
    "#rowcounter=0\n",
    "#rowstore=0\n",
    "\n",
    "#while rowstore<96:\n",
    "    #while rowcounter<199:\n",
    "        #merge_test[colcounter+7][rowcounter]=get_dist(merge_test['Latitude'][rowcounter],merge_test['Longitude'][rowcounter],FS_df['Latitude'][rowstore],FS_df['Longitude'][rowstore])\n",
    "        #rowcounter=rowcounter+1\n",
    "   # rowstore=rowstore+1\n",
    "    #colcounter=colcounter+1\n",
    "    #rowcounter=0"
   ]
  },
  {
   "cell_type": "code",
   "execution_count": 367,
   "metadata": {},
   "outputs": [],
   "source": [
    "#merge_test.to_excel('Distances.xls')"
   ]
  },
  {
   "cell_type": "code",
   "execution_count": 368,
   "metadata": {},
   "outputs": [],
   "source": [
    "#Get the Distances File with Calculated Values from Github Link (refer to note above)\n",
    "\n",
    "url4='https://github.com/Empcoth/Coursera_Capstone/raw/master/Distances.xls'\n",
    "ditimport=wget.download(url4,'Distances.xls')"
   ]
  },
  {
   "cell_type": "code",
   "execution_count": 369,
   "metadata": {},
   "outputs": [],
   "source": [
    "dist_import_df=pd.read_excel(ditimport, index_col=None, header=None)"
   ]
  },
  {
   "cell_type": "code",
   "execution_count": 370,
   "metadata": {},
   "outputs": [],
   "source": [
    "dist_import_df.drop([0, 0],inplace=True)\n",
    "dist_import_df.columns = dist_import_df. iloc[0]"
   ]
  },
  {
   "cell_type": "code",
   "execution_count": 371,
   "metadata": {},
   "outputs": [],
   "source": [
    "dist_import_df.drop(dist_import_df.index[0],inplace=True)"
   ]
  },
  {
   "cell_type": "code",
   "execution_count": 372,
   "metadata": {},
   "outputs": [
    {
     "data": {
      "text/html": [
       "<div>\n",
       "<style scoped>\n",
       "    .dataframe tbody tr th:only-of-type {\n",
       "        vertical-align: middle;\n",
       "    }\n",
       "\n",
       "    .dataframe tbody tr th {\n",
       "        vertical-align: top;\n",
       "    }\n",
       "\n",
       "    .dataframe thead th {\n",
       "        text-align: right;\n",
       "    }\n",
       "</style>\n",
       "<table border=\"1\" class=\"dataframe\">\n",
       "  <thead>\n",
       "    <tr style=\"text-align: right;\">\n",
       "      <th>1</th>\n",
       "      <th>ZIP</th>\n",
       "      <th>City</th>\n",
       "      <th>Latitude</th>\n",
       "      <th>Longitude</th>\n",
       "      <th>Investment Intensity</th>\n",
       "      <th>Income Intensity</th>\n",
       "      <th>Prospectivity Score</th>\n",
       "      <th>Sum of Distances</th>\n",
       "    </tr>\n",
       "  </thead>\n",
       "  <tbody>\n",
       "    <tr>\n",
       "      <th>2</th>\n",
       "      <td>77024</td>\n",
       "      <td>Houston</td>\n",
       "      <td>29.774</td>\n",
       "      <td>-95.5177</td>\n",
       "      <td>3104.04</td>\n",
       "      <td>74780</td>\n",
       "      <td>6.20318</td>\n",
       "      <td>2771.53</td>\n",
       "    </tr>\n",
       "    <tr>\n",
       "      <th>3</th>\n",
       "      <td>77479</td>\n",
       "      <td>Sugar Land</td>\n",
       "      <td>29.5733</td>\n",
       "      <td>-95.6321</td>\n",
       "      <td>1283.72</td>\n",
       "      <td>143880</td>\n",
       "      <td>4.8287</td>\n",
       "      <td>3960.68</td>\n",
       "    </tr>\n",
       "    <tr>\n",
       "      <th>4</th>\n",
       "      <td>77433</td>\n",
       "      <td>Cypress</td>\n",
       "      <td>29.8842</td>\n",
       "      <td>-95.7222</td>\n",
       "      <td>1089.36</td>\n",
       "      <td>126820</td>\n",
       "      <td>3.47945</td>\n",
       "      <td>3854.89</td>\n",
       "    </tr>\n",
       "    <tr>\n",
       "      <th>5</th>\n",
       "      <td>77007</td>\n",
       "      <td>Houston</td>\n",
       "      <td>29.7726</td>\n",
       "      <td>-95.4032</td>\n",
       "      <td>1414.95</td>\n",
       "      <td>88290</td>\n",
       "      <td>3.09607</td>\n",
       "      <td>2709.98</td>\n",
       "    </tr>\n",
       "    <tr>\n",
       "      <th>6</th>\n",
       "      <td>77459</td>\n",
       "      <td>Missouri City</td>\n",
       "      <td>29.5643</td>\n",
       "      <td>-95.5476</td>\n",
       "      <td>1053.37</td>\n",
       "      <td>110360</td>\n",
       "      <td>2.84459</td>\n",
       "      <td>3715.1</td>\n",
       "    </tr>\n",
       "  </tbody>\n",
       "</table>\n",
       "</div>"
      ],
      "text/plain": [
       "1    ZIP           City Latitude Longitude Investment Intensity  \\\n",
       "2  77024        Houston   29.774  -95.5177              3104.04   \n",
       "3  77479     Sugar Land  29.5733  -95.6321              1283.72   \n",
       "4  77433        Cypress  29.8842  -95.7222              1089.36   \n",
       "5  77007        Houston  29.7726  -95.4032              1414.95   \n",
       "6  77459  Missouri City  29.5643  -95.5476              1053.37   \n",
       "\n",
       "1 Income Intensity Prospectivity Score Sum of Distances  \n",
       "2            74780             6.20318          2771.53  \n",
       "3           143880              4.8287          3960.68  \n",
       "4           126820             3.47945          3854.89  \n",
       "5            88290             3.09607          2709.98  \n",
       "6           110360             2.84459           3715.1  "
      ]
     },
     "execution_count": 372,
     "metadata": {},
     "output_type": "execute_result"
    }
   ],
   "source": [
    "dist_import_df.head()"
   ]
  },
  {
   "cell_type": "markdown",
   "metadata": {},
   "source": [
    "# IX. K-Means Clustering Algorithm"
   ]
  },
  {
   "cell_type": "code",
   "execution_count": 373,
   "metadata": {},
   "outputs": [],
   "source": [
    "#Install additional libraries\n",
    "import matplotlib.pyplot as plt \n",
    "%matplotlib inline"
   ]
  },
  {
   "cell_type": "markdown",
   "metadata": {},
   "source": [
    "## Pre-Processing"
   ]
  },
  {
   "cell_type": "code",
   "execution_count": 374,
   "metadata": {},
   "outputs": [],
   "source": [
    "import pyproj\n",
    "def xy_to_lonlat(x, y):\n",
    "    proj_latlon = pyproj.Proj(proj='latlong',datum='WGS84')\n",
    "    proj_xy = pyproj.Proj(proj=\"utm\", zone=33, datum='WGS84')\n",
    "    lonlat = pyproj.transform(proj_xy, proj_latlon, x, y)\n",
    "    return lonlat[0], lonlat[1]"
   ]
  },
  {
   "cell_type": "code",
   "execution_count": 375,
   "metadata": {},
   "outputs": [],
   "source": [
    "from sklearn.cluster import KMeans\n",
    "\n",
    "number_of_clusters = 4\n",
    "\n",
    "good_xys = dist_import_df[['Latitude', 'Longitude']].values\n",
    "kmeans = KMeans(n_clusters=number_of_clusters, random_state=0).fit(good_xys)\n",
    "\n",
    "cluster_centers = [xy_to_lonlat(cc[0], cc[1]) for cc in kmeans.cluster_centers_]"
   ]
  },
  {
   "cell_type": "code",
   "execution_count": 376,
   "metadata": {},
   "outputs": [],
   "source": [
    "labels=kmeans.labels_"
   ]
  },
  {
   "cell_type": "code",
   "execution_count": 377,
   "metadata": {},
   "outputs": [
    {
     "data": {
      "text/plain": [
       "array([2, 2, 2, 2, 2, 2, 3, 2, 1, 2, 1, 3, 2, 2, 2, 2, 1, 1, 2, 2, 2, 2,\n",
       "       1, 2, 2, 2, 1, 1, 2, 2, 2, 2, 2, 3, 2, 1, 1, 1, 1, 0, 1, 2, 2, 2,\n",
       "       2, 1, 3, 3, 2, 2, 2, 2, 2, 1, 3, 3, 2, 2, 1, 2, 1, 1, 1, 3, 1, 3,\n",
       "       3, 1, 3, 3, 2, 2, 2, 1, 3, 2, 0, 3, 2, 2, 3, 3, 3, 2, 1, 1, 0, 1,\n",
       "       3, 2, 2, 2, 1, 3, 2, 3, 2, 1, 0, 2, 2, 2, 3, 1, 1, 2, 2, 2, 2, 3,\n",
       "       1, 3, 2, 1, 3, 2, 2, 3, 3, 3, 3, 2, 1, 3, 2, 1, 2, 2, 2, 1, 3, 0,\n",
       "       2, 2, 2, 2, 2, 2, 3, 2, 2, 2, 3, 3, 3, 1, 1, 2, 1, 0, 3, 3, 3, 1,\n",
       "       2, 2, 3, 3, 1, 2, 3, 3, 3, 0, 3, 1, 2, 3, 2, 3, 2, 0, 3, 3, 3, 3,\n",
       "       3, 0, 2, 1, 3, 1, 2, 1, 3, 3, 3, 3, 1, 2, 3, 2, 3, 0, 2, 1, 3, 2,\n",
       "       0], dtype=int32)"
      ]
     },
     "execution_count": 377,
     "metadata": {},
     "output_type": "execute_result"
    }
   ],
   "source": [
    "labels"
   ]
  },
  {
   "cell_type": "code",
   "execution_count": 378,
   "metadata": {},
   "outputs": [],
   "source": [
    "dist_import_df['Labels']=labels"
   ]
  },
  {
   "cell_type": "code",
   "execution_count": 379,
   "metadata": {},
   "outputs": [
    {
     "data": {
      "text/html": [
       "<div>\n",
       "<style scoped>\n",
       "    .dataframe tbody tr th:only-of-type {\n",
       "        vertical-align: middle;\n",
       "    }\n",
       "\n",
       "    .dataframe tbody tr th {\n",
       "        vertical-align: top;\n",
       "    }\n",
       "\n",
       "    .dataframe thead th {\n",
       "        text-align: right;\n",
       "    }\n",
       "</style>\n",
       "<table border=\"1\" class=\"dataframe\">\n",
       "  <thead>\n",
       "    <tr style=\"text-align: right;\">\n",
       "      <th>1</th>\n",
       "      <th>ZIP</th>\n",
       "      <th>City</th>\n",
       "      <th>Latitude</th>\n",
       "      <th>Longitude</th>\n",
       "      <th>Investment Intensity</th>\n",
       "      <th>Income Intensity</th>\n",
       "      <th>Prospectivity Score</th>\n",
       "      <th>Sum of Distances</th>\n",
       "      <th>Labels</th>\n",
       "    </tr>\n",
       "  </thead>\n",
       "  <tbody>\n",
       "    <tr>\n",
       "      <th>2</th>\n",
       "      <td>77024</td>\n",
       "      <td>Houston</td>\n",
       "      <td>29.774</td>\n",
       "      <td>-95.5177</td>\n",
       "      <td>3104.04</td>\n",
       "      <td>74780</td>\n",
       "      <td>6.20318</td>\n",
       "      <td>2771.53</td>\n",
       "      <td>2</td>\n",
       "    </tr>\n",
       "    <tr>\n",
       "      <th>3</th>\n",
       "      <td>77479</td>\n",
       "      <td>Sugar Land</td>\n",
       "      <td>29.5733</td>\n",
       "      <td>-95.6321</td>\n",
       "      <td>1283.72</td>\n",
       "      <td>143880</td>\n",
       "      <td>4.8287</td>\n",
       "      <td>3960.68</td>\n",
       "      <td>2</td>\n",
       "    </tr>\n",
       "    <tr>\n",
       "      <th>4</th>\n",
       "      <td>77433</td>\n",
       "      <td>Cypress</td>\n",
       "      <td>29.8842</td>\n",
       "      <td>-95.7222</td>\n",
       "      <td>1089.36</td>\n",
       "      <td>126820</td>\n",
       "      <td>3.47945</td>\n",
       "      <td>3854.89</td>\n",
       "      <td>2</td>\n",
       "    </tr>\n",
       "    <tr>\n",
       "      <th>5</th>\n",
       "      <td>77007</td>\n",
       "      <td>Houston</td>\n",
       "      <td>29.7726</td>\n",
       "      <td>-95.4032</td>\n",
       "      <td>1414.95</td>\n",
       "      <td>88290</td>\n",
       "      <td>3.09607</td>\n",
       "      <td>2709.98</td>\n",
       "      <td>2</td>\n",
       "    </tr>\n",
       "    <tr>\n",
       "      <th>6</th>\n",
       "      <td>77459</td>\n",
       "      <td>Missouri City</td>\n",
       "      <td>29.5643</td>\n",
       "      <td>-95.5476</td>\n",
       "      <td>1053.37</td>\n",
       "      <td>110360</td>\n",
       "      <td>2.84459</td>\n",
       "      <td>3715.1</td>\n",
       "      <td>2</td>\n",
       "    </tr>\n",
       "  </tbody>\n",
       "</table>\n",
       "</div>"
      ],
      "text/plain": [
       "1    ZIP           City Latitude Longitude Investment Intensity  \\\n",
       "2  77024        Houston   29.774  -95.5177              3104.04   \n",
       "3  77479     Sugar Land  29.5733  -95.6321              1283.72   \n",
       "4  77433        Cypress  29.8842  -95.7222              1089.36   \n",
       "5  77007        Houston  29.7726  -95.4032              1414.95   \n",
       "6  77459  Missouri City  29.5643  -95.5476              1053.37   \n",
       "\n",
       "1 Income Intensity Prospectivity Score Sum of Distances  Labels  \n",
       "2            74780             6.20318          2771.53       2  \n",
       "3           143880              4.8287          3960.68       2  \n",
       "4           126820             3.47945          3854.89       2  \n",
       "5            88290             3.09607          2709.98       2  \n",
       "6           110360             2.84459           3715.1       2  "
      ]
     },
     "execution_count": 379,
     "metadata": {},
     "output_type": "execute_result"
    }
   ],
   "source": [
    "dist_import_df.head()"
   ]
  },
  {
   "cell_type": "markdown",
   "metadata": {},
   "source": [
    "### Now we will divide the dataframe into four separate datasets matching the cluster labels"
   ]
  },
  {
   "cell_type": "code",
   "execution_count": 380,
   "metadata": {},
   "outputs": [],
   "source": [
    "#Define new Dataframe based on Cluster Labels\n",
    "df_cluster0=dist_import_df[dist_import_df['Labels']==0]\n",
    "df_cluster1=dist_import_df[dist_import_df['Labels']==1]\n",
    "df_cluster2=dist_import_df[dist_import_df['Labels']==2]\n",
    "df_cluster3=dist_import_df[dist_import_df['Labels']==3]"
   ]
  },
  {
   "cell_type": "code",
   "execution_count": 381,
   "metadata": {},
   "outputs": [],
   "source": [
    "#Define Map objects\n",
    "\n",
    "map_houston_cluster0 = folium.Map(location=[latitude, longitude], zoom_start=10)\n",
    "map_houston_cluster1 = folium.Map(location=[latitude, longitude], zoom_start=10)\n",
    "map_houston_cluster2 = folium.Map(location=[latitude, longitude], zoom_start=10)\n",
    "map_houston_cluster3 = folium.Map(location=[latitude, longitude], zoom_start=10)\n",
    "\n",
    "#We Can Map These Locations on the Houston Map\n",
    "\n",
    "#add markers to map\n",
    "for lat, lng, Zip, city in zip(df_cluster0['Latitude'],df_cluster0['Longitude'],df_cluster0['ZIP'],df_cluster0['City']):\n",
    "    label='{}, {}'.format(Zip, city)\n",
    "    label=folium.Popup(label, parse_html=True)\n",
    "    folium.CircleMarker(\n",
    "        [lat,lng],\n",
    "        radius=5,\n",
    "        popup=label,\n",
    "        color='red',\n",
    "        fill=True,\n",
    "        fill_color='#3186cc',\n",
    "        fill_opacity=0.7,\n",
    "        parse_html=False).add_to(map_houston_cluster0)"
   ]
  },
  {
   "cell_type": "code",
   "execution_count": 382,
   "metadata": {},
   "outputs": [
    {
     "data": {
      "text/html": [
       "<div style=\"width:100%;\"><div style=\"position:relative;width:100%;height:0;padding-bottom:60%;\"><span style=\"color:#565656\">Make this Notebook Trusted to load map: File -> Trust Notebook</span><iframe src=\"about:blank\" style=\"position:absolute;width:100%;height:100%;left:0;top:0;border:none !important;\" data-html=PCFET0NUWVBFIGh0bWw+CjxoZWFkPiAgICAKICAgIDxtZXRhIGh0dHAtZXF1aXY9ImNvbnRlbnQtdHlwZSIgY29udGVudD0idGV4dC9odG1sOyBjaGFyc2V0PVVURi04IiAvPgogICAgCiAgICAgICAgPHNjcmlwdD4KICAgICAgICAgICAgTF9OT19UT1VDSCA9IGZhbHNlOwogICAgICAgICAgICBMX0RJU0FCTEVfM0QgPSBmYWxzZTsKICAgICAgICA8L3NjcmlwdD4KICAgIAogICAgPHNjcmlwdCBzcmM9Imh0dHBzOi8vY2RuLmpzZGVsaXZyLm5ldC9ucG0vbGVhZmxldEAxLjYuMC9kaXN0L2xlYWZsZXQuanMiPjwvc2NyaXB0PgogICAgPHNjcmlwdCBzcmM9Imh0dHBzOi8vY29kZS5qcXVlcnkuY29tL2pxdWVyeS0xLjEyLjQubWluLmpzIj48L3NjcmlwdD4KICAgIDxzY3JpcHQgc3JjPSJodHRwczovL21heGNkbi5ib290c3RyYXBjZG4uY29tL2Jvb3RzdHJhcC8zLjIuMC9qcy9ib290c3RyYXAubWluLmpzIj48L3NjcmlwdD4KICAgIDxzY3JpcHQgc3JjPSJodHRwczovL2NkbmpzLmNsb3VkZmxhcmUuY29tL2FqYXgvbGlicy9MZWFmbGV0LmF3ZXNvbWUtbWFya2Vycy8yLjAuMi9sZWFmbGV0LmF3ZXNvbWUtbWFya2Vycy5qcyI+PC9zY3JpcHQ+CiAgICA8bGluayByZWw9InN0eWxlc2hlZXQiIGhyZWY9Imh0dHBzOi8vY2RuLmpzZGVsaXZyLm5ldC9ucG0vbGVhZmxldEAxLjYuMC9kaXN0L2xlYWZsZXQuY3NzIi8+CiAgICA8bGluayByZWw9InN0eWxlc2hlZXQiIGhyZWY9Imh0dHBzOi8vbWF4Y2RuLmJvb3RzdHJhcGNkbi5jb20vYm9vdHN0cmFwLzMuMi4wL2Nzcy9ib290c3RyYXAubWluLmNzcyIvPgogICAgPGxpbmsgcmVsPSJzdHlsZXNoZWV0IiBocmVmPSJodHRwczovL21heGNkbi5ib290c3RyYXBjZG4uY29tL2Jvb3RzdHJhcC8zLjIuMC9jc3MvYm9vdHN0cmFwLXRoZW1lLm1pbi5jc3MiLz4KICAgIDxsaW5rIHJlbD0ic3R5bGVzaGVldCIgaHJlZj0iaHR0cHM6Ly9tYXhjZG4uYm9vdHN0cmFwY2RuLmNvbS9mb250LWF3ZXNvbWUvNC42LjMvY3NzL2ZvbnQtYXdlc29tZS5taW4uY3NzIi8+CiAgICA8bGluayByZWw9InN0eWxlc2hlZXQiIGhyZWY9Imh0dHBzOi8vY2RuanMuY2xvdWRmbGFyZS5jb20vYWpheC9saWJzL0xlYWZsZXQuYXdlc29tZS1tYXJrZXJzLzIuMC4yL2xlYWZsZXQuYXdlc29tZS1tYXJrZXJzLmNzcyIvPgogICAgPGxpbmsgcmVsPSJzdHlsZXNoZWV0IiBocmVmPSJodHRwczovL3Jhd2Nkbi5naXRoYWNrLmNvbS9weXRob24tdmlzdWFsaXphdGlvbi9mb2xpdW0vbWFzdGVyL2ZvbGl1bS90ZW1wbGF0ZXMvbGVhZmxldC5hd2Vzb21lLnJvdGF0ZS5jc3MiLz4KICAgIDxzdHlsZT5odG1sLCBib2R5IHt3aWR0aDogMTAwJTtoZWlnaHQ6IDEwMCU7bWFyZ2luOiAwO3BhZGRpbmc6IDA7fTwvc3R5bGU+CiAgICA8c3R5bGU+I21hcCB7cG9zaXRpb246YWJzb2x1dGU7dG9wOjA7Ym90dG9tOjA7cmlnaHQ6MDtsZWZ0OjA7fTwvc3R5bGU+CiAgICAKICAgICAgICAgICAgPG1ldGEgbmFtZT0idmlld3BvcnQiIGNvbnRlbnQ9IndpZHRoPWRldmljZS13aWR0aCwKICAgICAgICAgICAgICAgIGluaXRpYWwtc2NhbGU9MS4wLCBtYXhpbXVtLXNjYWxlPTEuMCwgdXNlci1zY2FsYWJsZT1ubyIgLz4KICAgICAgICAgICAgPHN0eWxlPgogICAgICAgICAgICAgICAgI21hcF81YmY5MDcxMzgyYjc0YzMxODhkNDljYjg5MmMyNGQxZSB7CiAgICAgICAgICAgICAgICAgICAgcG9zaXRpb246IHJlbGF0aXZlOwogICAgICAgICAgICAgICAgICAgIHdpZHRoOiAxMDAuMCU7CiAgICAgICAgICAgICAgICAgICAgaGVpZ2h0OiAxMDAuMCU7CiAgICAgICAgICAgICAgICAgICAgbGVmdDogMC4wJTsKICAgICAgICAgICAgICAgICAgICB0b3A6IDAuMCU7CiAgICAgICAgICAgICAgICB9CiAgICAgICAgICAgIDwvc3R5bGU+CiAgICAgICAgCjwvaGVhZD4KPGJvZHk+ICAgIAogICAgCiAgICAgICAgICAgIDxkaXYgY2xhc3M9ImZvbGl1bS1tYXAiIGlkPSJtYXBfNWJmOTA3MTM4MmI3NGMzMTg4ZDQ5Y2I4OTJjMjRkMWUiID48L2Rpdj4KICAgICAgICAKPC9ib2R5Pgo8c2NyaXB0PiAgICAKICAgIAogICAgICAgICAgICB2YXIgbWFwXzViZjkwNzEzODJiNzRjMzE4OGQ0OWNiODkyYzI0ZDFlID0gTC5tYXAoCiAgICAgICAgICAgICAgICAibWFwXzViZjkwNzEzODJiNzRjMzE4OGQ0OWNiODkyYzI0ZDFlIiwKICAgICAgICAgICAgICAgIHsKICAgICAgICAgICAgICAgICAgICBjZW50ZXI6IFsyOS43NTU1NzgwMDAwMDAwMDMsIC05NS4zNjUzMV0sCiAgICAgICAgICAgICAgICAgICAgY3JzOiBMLkNSUy5FUFNHMzg1NywKICAgICAgICAgICAgICAgICAgICB6b29tOiAxMCwKICAgICAgICAgICAgICAgICAgICB6b29tQ29udHJvbDogdHJ1ZSwKICAgICAgICAgICAgICAgICAgICBwcmVmZXJDYW52YXM6IGZhbHNlLAogICAgICAgICAgICAgICAgfQogICAgICAgICAgICApOwoKICAgICAgICAgICAgCgogICAgICAgIAogICAgCiAgICAgICAgICAgIHZhciB0aWxlX2xheWVyX2I5Mzg0ODkzYWQzODQ4MGM5MTNhNjJhMDVmOTE4MTU2ID0gTC50aWxlTGF5ZXIoCiAgICAgICAgICAgICAgICAiaHR0cHM6Ly97c30udGlsZS5vcGVuc3RyZWV0bWFwLm9yZy97en0ve3h9L3t5fS5wbmciLAogICAgICAgICAgICAgICAgeyJhdHRyaWJ1dGlvbiI6ICJEYXRhIGJ5IFx1MDAyNmNvcHk7IFx1MDAzY2EgaHJlZj1cImh0dHA6Ly9vcGVuc3RyZWV0bWFwLm9yZ1wiXHUwMDNlT3BlblN0cmVldE1hcFx1MDAzYy9hXHUwMDNlLCB1bmRlciBcdTAwM2NhIGhyZWY9XCJodHRwOi8vd3d3Lm9wZW5zdHJlZXRtYXAub3JnL2NvcHlyaWdodFwiXHUwMDNlT0RiTFx1MDAzYy9hXHUwMDNlLiIsICJkZXRlY3RSZXRpbmEiOiBmYWxzZSwgIm1heE5hdGl2ZVpvb20iOiAxOCwgIm1heFpvb20iOiAxOCwgIm1pblpvb20iOiAwLCAibm9XcmFwIjogZmFsc2UsICJvcGFjaXR5IjogMSwgInN1YmRvbWFpbnMiOiAiYWJjIiwgInRtcyI6IGZhbHNlfQogICAgICAgICAgICApLmFkZFRvKG1hcF81YmY5MDcxMzgyYjc0YzMxODhkNDljYjg5MmMyNGQxZSk7CiAgICAgICAgCiAgICAKICAgICAgICAgICAgdmFyIGNpcmNsZV9tYXJrZXJfYmRhYjQ5OTVlNzBmNDUyODg5ZWI2YWI2ZjlhNzIzZGMgPSBMLmNpcmNsZU1hcmtlcigKICAgICAgICAgICAgICAgIFsyOS40MjkyNTYsIC05NS40NTMzMl0sCiAgICAgICAgICAgICAgICB7ImJ1YmJsaW5nTW91c2VFdmVudHMiOiB0cnVlLCAiY29sb3IiOiAicmVkIiwgImRhc2hBcnJheSI6IG51bGwsICJkYXNoT2Zmc2V0IjogbnVsbCwgImZpbGwiOiB0cnVlLCAiZmlsbENvbG9yIjogIiMzMTg2Y2MiLCAiZmlsbE9wYWNpdHkiOiAwLjcsICJmaWxsUnVsZSI6ICJldmVub2RkIiwgImxpbmVDYXAiOiAicm91bmQiLCAibGluZUpvaW4iOiAicm91bmQiLCAib3BhY2l0eSI6IDEuMCwgInJhZGl1cyI6IDUsICJzdHJva2UiOiB0cnVlLCAid2VpZ2h0IjogM30KICAgICAgICAgICAgKS5hZGRUbyhtYXBfNWJmOTA3MTM4MmI3NGMzMTg4ZDQ5Y2I4OTJjMjRkMWUpOwogICAgICAgIAogICAgCiAgICAgICAgdmFyIHBvcHVwXzkwY2FlN2JkOWNlMzQ2OTM4M2ZhZDQxYjkwNTZmOGRiID0gTC5wb3B1cCh7Im1heFdpZHRoIjogIjEwMCUifSk7CgogICAgICAgIAogICAgICAgICAgICB2YXIgaHRtbF8xZDdiNDdlZGYzODk0MTdmYmI1ZWU1ZDlmZmM5MWM0OCA9ICQoYDxkaXYgaWQ9Imh0bWxfMWQ3YjQ3ZWRmMzg5NDE3ZmJiNWVlNWQ5ZmZjOTFjNDgiIHN0eWxlPSJ3aWR0aDogMTAwLjAlOyBoZWlnaHQ6IDEwMC4wJTsiPjc3NTgzLCBSb3NoYXJvbjwvZGl2PmApWzBdOwogICAgICAgICAgICBwb3B1cF85MGNhZTdiZDljZTM0NjkzODNmYWQ0MWI5MDU2ZjhkYi5zZXRDb250ZW50KGh0bWxfMWQ3YjQ3ZWRmMzg5NDE3ZmJiNWVlNWQ5ZmZjOTFjNDgpOwogICAgICAgIAoKICAgICAgICBjaXJjbGVfbWFya2VyX2JkYWI0OTk1ZTcwZjQ1Mjg4OWViNmFiNmY5YTcyM2RjLmJpbmRQb3B1cChwb3B1cF85MGNhZTdiZDljZTM0NjkzODNmYWQ0MWI5MDU2ZjhkYikKICAgICAgICA7CgogICAgICAgIAogICAgCiAgICAKICAgICAgICAgICAgdmFyIGNpcmNsZV9tYXJrZXJfNjI0YjdmZDQ0NzJhNDRiYzg5YjZiZmVmMDA4ZDc0MzkgPSBMLmNpcmNsZU1hcmtlcigKICAgICAgICAgICAgICAgIFsyOS4wMzY4NzksIC05NS40NDEwM10sCiAgICAgICAgICAgICAgICB7ImJ1YmJsaW5nTW91c2VFdmVudHMiOiB0cnVlLCAiY29sb3IiOiAicmVkIiwgImRhc2hBcnJheSI6IG51bGwsICJkYXNoT2Zmc2V0IjogbnVsbCwgImZpbGwiOiB0cnVlLCAiZmlsbENvbG9yIjogIiMzMTg2Y2MiLCAiZmlsbE9wYWNpdHkiOiAwLjcsICJmaWxsUnVsZSI6ICJldmVub2RkIiwgImxpbmVDYXAiOiAicm91bmQiLCAibGluZUpvaW4iOiAicm91bmQiLCAib3BhY2l0eSI6IDEuMCwgInJhZGl1cyI6IDUsICJzdHJva2UiOiB0cnVlLCAid2VpZ2h0IjogM30KICAgICAgICAgICAgKS5hZGRUbyhtYXBfNWJmOTA3MTM4MmI3NGMzMTg4ZDQ5Y2I4OTJjMjRkMWUpOwogICAgICAgIAogICAgCiAgICAgICAgdmFyIHBvcHVwXzcwY2NhOWIwMDFjZDQ3ZjhiZWFjOTJjZjU0ZmNjNWJiID0gTC5wb3B1cCh7Im1heFdpZHRoIjogIjEwMCUifSk7CgogICAgICAgIAogICAgICAgICAgICB2YXIgaHRtbF9jNjEwYmU3YWI2MWE0NTIzYTZjMDQ5Y2YxMWY4NWRlYSA9ICQoYDxkaXYgaWQ9Imh0bWxfYzYxMGJlN2FiNjFhNDUyM2E2YzA0OWNmMTFmODVkZWEiIHN0eWxlPSJ3aWR0aDogMTAwLjAlOyBoZWlnaHQ6IDEwMC4wJTsiPjc3NTY2LCBMYWtlIEphY2tzb248L2Rpdj5gKVswXTsKICAgICAgICAgICAgcG9wdXBfNzBjY2E5YjAwMWNkNDdmOGJlYWM5MmNmNTRmY2M1YmIuc2V0Q29udGVudChodG1sX2M2MTBiZTdhYjYxYTQ1MjNhNmMwNDljZjExZjg1ZGVhKTsKICAgICAgICAKCiAgICAgICAgY2lyY2xlX21hcmtlcl82MjRiN2ZkNDQ3MmE0NGJjODliNmJmZWYwMDhkNzQzOS5iaW5kUG9wdXAocG9wdXBfNzBjY2E5YjAwMWNkNDdmOGJlYWM5MmNmNTRmY2M1YmIpCiAgICAgICAgOwoKICAgICAgICAKICAgIAogICAgCiAgICAgICAgICAgIHZhciBjaXJjbGVfbWFya2VyXzhmYWQwOWE5ZWJlMTRmOGJiMjdlOTkxMGVkZDc3ZDBiID0gTC5jaXJjbGVNYXJrZXIoCiAgICAgICAgICAgICAgICBbMjkuMTY4NjYsIC05NS40NDU0MV0sCiAgICAgICAgICAgICAgICB7ImJ1YmJsaW5nTW91c2VFdmVudHMiOiB0cnVlLCAiY29sb3IiOiAicmVkIiwgImRhc2hBcnJheSI6IG51bGwsICJkYXNoT2Zmc2V0IjogbnVsbCwgImZpbGwiOiB0cnVlLCAiZmlsbENvbG9yIjogIiMzMTg2Y2MiLCAiZmlsbE9wYWNpdHkiOiAwLjcsICJmaWxsUnVsZSI6ICJldmVub2RkIiwgImxpbmVDYXAiOiAicm91bmQiLCAibGluZUpvaW4iOiAicm91bmQiLCAib3BhY2l0eSI6IDEuMCwgInJhZGl1cyI6IDUsICJzdHJva2UiOiB0cnVlLCAid2VpZ2h0IjogM30KICAgICAgICAgICAgKS5hZGRUbyhtYXBfNWJmOTA3MTM4MmI3NGMzMTg4ZDQ5Y2I4OTJjMjRkMWUpOwogICAgICAgIAogICAgCiAgICAgICAgdmFyIHBvcHVwX2VkYTFhNDZlMmIyZTQ1MDk5ZmY1OTk3NGQzNWI5OGE2ID0gTC5wb3B1cCh7Im1heFdpZHRoIjogIjEwMCUifSk7CgogICAgICAgIAogICAgICAgICAgICB2YXIgaHRtbF83YWY3ZWU0ZjQ1MzE0MjdhOWIyMTdlYzBhZGY1ZjQxNCA9ICQoYDxkaXYgaWQ9Imh0bWxfN2FmN2VlNGY0NTMxNDI3YTliMjE3ZWMwYWRmNWY0MTQiIHN0eWxlPSJ3aWR0aDogMTAwLjAlOyBoZWlnaHQ6IDEwMC4wJTsiPjc3NTE1LCBBbmdsZXRvbjwvZGl2PmApWzBdOwogICAgICAgICAgICBwb3B1cF9lZGExYTQ2ZTJiMmU0NTA5OWZmNTk5NzRkMzViOThhNi5zZXRDb250ZW50KGh0bWxfN2FmN2VlNGY0NTMxNDI3YTliMjE3ZWMwYWRmNWY0MTQpOwogICAgICAgIAoKICAgICAgICBjaXJjbGVfbWFya2VyXzhmYWQwOWE5ZWJlMTRmOGJiMjdlOTkxMGVkZDc3ZDBiLmJpbmRQb3B1cChwb3B1cF9lZGExYTQ2ZTJiMmU0NTA5OWZmNTk5NzRkMzViOThhNikKICAgICAgICA7CgogICAgICAgIAogICAgCiAgICAKICAgICAgICAgICAgdmFyIGNpcmNsZV9tYXJrZXJfMWY2YTljZDg0MTc4NDQwMmFjNmRiZWQ1YzdmYzk0MGMgPSBMLmNpcmNsZU1hcmtlcigKICAgICAgICAgICAgICAgIFsyOC45NzUyNDcsIC05NS4zNDM1N10sCiAgICAgICAgICAgICAgICB7ImJ1YmJsaW5nTW91c2VFdmVudHMiOiB0cnVlLCAiY29sb3IiOiAicmVkIiwgImRhc2hBcnJheSI6IG51bGwsICJkYXNoT2Zmc2V0IjogbnVsbCwgImZpbGwiOiB0cnVlLCAiZmlsbENvbG9yIjogIiMzMTg2Y2MiLCAiZmlsbE9wYWNpdHkiOiAwLjcsICJmaWxsUnVsZSI6ICJldmVub2RkIiwgImxpbmVDYXAiOiAicm91bmQiLCAibGluZUpvaW4iOiAicm91bmQiLCAib3BhY2l0eSI6IDEuMCwgInJhZGl1cyI6IDUsICJzdHJva2UiOiB0cnVlLCAid2VpZ2h0IjogM30KICAgICAgICAgICAgKS5hZGRUbyhtYXBfNWJmOTA3MTM4MmI3NGMzMTg4ZDQ5Y2I4OTJjMjRkMWUpOwogICAgICAgIAogICAgCiAgICAgICAgdmFyIHBvcHVwXzM2MTgwNGFiMWViODRlOTI4ZjdmYTAzYWU4NGFlM2FmID0gTC5wb3B1cCh7Im1heFdpZHRoIjogIjEwMCUifSk7CgogICAgICAgIAogICAgICAgICAgICB2YXIgaHRtbF9kNDdjNGVlZmU2NmE0ZjEzOTU1MTA5ZDc3MWE1MGVlMSA9ICQoYDxkaXYgaWQ9Imh0bWxfZDQ3YzRlZWZlNjZhNGYxMzk1NTEwOWQ3NzFhNTBlZTEiIHN0eWxlPSJ3aWR0aDogMTAwLjAlOyBoZWlnaHQ6IDEwMC4wJTsiPjc3NTQxLCBGcmVlcG9ydDwvZGl2PmApWzBdOwogICAgICAgICAgICBwb3B1cF8zNjE4MDRhYjFlYjg0ZTkyOGY3ZmEwM2FlODRhZTNhZi5zZXRDb250ZW50KGh0bWxfZDQ3YzRlZWZlNjZhNGYxMzk1NTEwOWQ3NzFhNTBlZTEpOwogICAgICAgIAoKICAgICAgICBjaXJjbGVfbWFya2VyXzFmNmE5Y2Q4NDE3ODQ0MDJhYzZkYmVkNWM3ZmM5NDBjLmJpbmRQb3B1cChwb3B1cF8zNjE4MDRhYjFlYjg0ZTkyOGY3ZmEwM2FlODRhZTNhZikKICAgICAgICA7CgogICAgICAgIAogICAgCiAgICAKICAgICAgICAgICAgdmFyIGNpcmNsZV9tYXJrZXJfMjAyOTdkNzM2MGRiNGY5M2I3ZWU4MzYzMjczNTZhYTkgPSBMLmNpcmNsZU1hcmtlcigKICAgICAgICAgICAgICAgIFsyOS4wMzgwNjgsIC05NS40MDExNF0sCiAgICAgICAgICAgICAgICB7ImJ1YmJsaW5nTW91c2VFdmVudHMiOiB0cnVlLCAiY29sb3IiOiAicmVkIiwgImRhc2hBcnJheSI6IG51bGwsICJkYXNoT2Zmc2V0IjogbnVsbCwgImZpbGwiOiB0cnVlLCAiZmlsbENvbG9yIjogIiMzMTg2Y2MiLCAiZmlsbE9wYWNpdHkiOiAwLjcsICJmaWxsUnVsZSI6ICJldmVub2RkIiwgImxpbmVDYXAiOiAicm91bmQiLCAibGluZUpvaW4iOiAicm91bmQiLCAib3BhY2l0eSI6IDEuMCwgInJhZGl1cyI6IDUsICJzdHJva2UiOiB0cnVlLCAid2VpZ2h0IjogM30KICAgICAgICAgICAgKS5hZGRUbyhtYXBfNWJmOTA3MTM4MmI3NGMzMTg4ZDQ5Y2I4OTJjMjRkMWUpOwogICAgICAgIAogICAgCiAgICAgICAgdmFyIHBvcHVwXzhjZGVlNDRkOTgxNTQ3OTBiMzUwMjMwNmRhOGI5YzZlID0gTC5wb3B1cCh7Im1heFdpZHRoIjogIjEwMCUifSk7CgogICAgICAgIAogICAgICAgICAgICB2YXIgaHRtbF9hYTQ4MWE3NzJlZmU0NDliYWY1ZTM3MjQ3MTA1MDNiYyA9ICQoYDxkaXYgaWQ9Imh0bWxfYWE0ODFhNzcyZWZlNDQ5YmFmNWUzNzI0NzEwNTAzYmMiIHN0eWxlPSJ3aWR0aDogMTAwLjAlOyBoZWlnaHQ6IDEwMC4wJTsiPjc3NTMxLCBDbHV0ZTwvZGl2PmApWzBdOwogICAgICAgICAgICBwb3B1cF84Y2RlZTQ0ZDk4MTU0NzkwYjM1MDIzMDZkYThiOWM2ZS5zZXRDb250ZW50KGh0bWxfYWE0ODFhNzcyZWZlNDQ5YmFmNWUzNzI0NzEwNTAzYmMpOwogICAgICAgIAoKICAgICAgICBjaXJjbGVfbWFya2VyXzIwMjk3ZDczNjBkYjRmOTNiN2VlODM2MzI3MzU2YWE5LmJpbmRQb3B1cChwb3B1cF84Y2RlZTQ0ZDk4MTU0NzkwYjM1MDIzMDZkYThiOWM2ZSkKICAgICAgICA7CgogICAgICAgIAogICAgCiAgICAKICAgICAgICAgICAgdmFyIGNpcmNsZV9tYXJrZXJfZDI1NDgyNTIyYzYwNGUzNzk5YWUzMWIyOWZhNDg2YjUgPSBMLmNpcmNsZU1hcmtlcigKICAgICAgICAgICAgICAgIFsyOS4wMTEyNDEsIC05NS41ODA3MV0sCiAgICAgICAgICAgICAgICB7ImJ1YmJsaW5nTW91c2VFdmVudHMiOiB0cnVlLCAiY29sb3IiOiAicmVkIiwgImRhc2hBcnJheSI6IG51bGwsICJkYXNoT2Zmc2V0IjogbnVsbCwgImZpbGwiOiB0cnVlLCAiZmlsbENvbG9yIjogIiMzMTg2Y2MiLCAiZmlsbE9wYWNpdHkiOiAwLjcsICJmaWxsUnVsZSI6ICJldmVub2RkIiwgImxpbmVDYXAiOiAicm91bmQiLCAibGluZUpvaW4iOiAicm91bmQiLCAib3BhY2l0eSI6IDEuMCwgInJhZGl1cyI6IDUsICJzdHJva2UiOiB0cnVlLCAid2VpZ2h0IjogM30KICAgICAgICAgICAgKS5hZGRUbyhtYXBfNWJmOTA3MTM4MmI3NGMzMTg4ZDQ5Y2I4OTJjMjRkMWUpOwogICAgICAgIAogICAgCiAgICAgICAgdmFyIHBvcHVwX2VkOGExYmRkMTQ4NzRiNmU5YTUxYTk0N2UzNGYzZTgyID0gTC5wb3B1cCh7Im1heFdpZHRoIjogIjEwMCUifSk7CgogICAgICAgIAogICAgICAgICAgICB2YXIgaHRtbF9hOTM5ZGYxOTExYmM0NTc0Yjg5ZDFiZjI5NWJjZDM2YyA9ICQoYDxkaXYgaWQ9Imh0bWxfYTkzOWRmMTkxMWJjNDU3NGI4OWQxYmYyOTViY2QzNmMiIHN0eWxlPSJ3aWR0aDogMTAwLjAlOyBoZWlnaHQ6IDEwMC4wJTsiPjc3NDIyLCBCcmF6b3JpYTwvZGl2PmApWzBdOwogICAgICAgICAgICBwb3B1cF9lZDhhMWJkZDE0ODc0YjZlOWE1MWE5NDdlMzRmM2U4Mi5zZXRDb250ZW50KGh0bWxfYTkzOWRmMTkxMWJjNDU3NGI4OWQxYmYyOTViY2QzNmMpOwogICAgICAgIAoKICAgICAgICBjaXJjbGVfbWFya2VyX2QyNTQ4MjUyMmM2MDRlMzc5OWFlMzFiMjlmYTQ4NmI1LmJpbmRQb3B1cChwb3B1cF9lZDhhMWJkZDE0ODc0YjZlOWE1MWE5NDdlMzRmM2U4MikKICAgICAgICA7CgogICAgICAgIAogICAgCiAgICAKICAgICAgICAgICAgdmFyIGNpcmNsZV9tYXJrZXJfZWEyOGQxNWEwNTQ3NGM5ZmExYmUzY2JiYmM3M2Q5Y2IgPSBMLmNpcmNsZU1hcmtlcigKICAgICAgICAgICAgICAgIFsyOS4xNTIzOTYsIC05NS42NjMxOV0sCiAgICAgICAgICAgICAgICB7ImJ1YmJsaW5nTW91c2VFdmVudHMiOiB0cnVlLCAiY29sb3IiOiAicmVkIiwgImRhc2hBcnJheSI6IG51bGwsICJkYXNoT2Zmc2V0IjogbnVsbCwgImZpbGwiOiB0cnVlLCAiZmlsbENvbG9yIjogIiMzMTg2Y2MiLCAiZmlsbE9wYWNpdHkiOiAwLjcsICJmaWxsUnVsZSI6ICJldmVub2RkIiwgImxpbmVDYXAiOiAicm91bmQiLCAibGluZUpvaW4iOiAicm91bmQiLCAib3BhY2l0eSI6IDEuMCwgInJhZGl1cyI6IDUsICJzdHJva2UiOiB0cnVlLCAid2VpZ2h0IjogM30KICAgICAgICAgICAgKS5hZGRUbyhtYXBfNWJmOTA3MTM4MmI3NGMzMTg4ZDQ5Y2I4OTJjMjRkMWUpOwogICAgICAgIAogICAgCiAgICAgICAgdmFyIHBvcHVwXzBhMWQ5OTMxNjdhYjQ1ZGVhNDdhZjBhMTlhMjZmYzU2ID0gTC5wb3B1cCh7Im1heFdpZHRoIjogIjEwMCUifSk7CgogICAgICAgIAogICAgICAgICAgICB2YXIgaHRtbF9mNTA5YWE0ZGVjMjM0ZjdkOWVjNTdjZTEzOGUzNzY1MiA9ICQoYDxkaXYgaWQ9Imh0bWxfZjUwOWFhNGRlYzIzNGY3ZDllYzU3Y2UxMzhlMzc2NTIiIHN0eWxlPSJ3aWR0aDogMTAwLjAlOyBoZWlnaHQ6IDEwMC4wJTsiPjc3NDg2LCBXZXN0IENvbHVtYmlhPC9kaXY+YClbMF07CiAgICAgICAgICAgIHBvcHVwXzBhMWQ5OTMxNjdhYjQ1ZGVhNDdhZjBhMTlhMjZmYzU2LnNldENvbnRlbnQoaHRtbF9mNTA5YWE0ZGVjMjM0ZjdkOWVjNTdjZTEzOGUzNzY1Mik7CiAgICAgICAgCgogICAgICAgIGNpcmNsZV9tYXJrZXJfZWEyOGQxNWEwNTQ3NGM5ZmExYmUzY2JiYmM3M2Q5Y2IuYmluZFBvcHVwKHBvcHVwXzBhMWQ5OTMxNjdhYjQ1ZGVhNDdhZjBhMTlhMjZmYzU2KQogICAgICAgIDsKCiAgICAgICAgCiAgICAKICAgIAogICAgICAgICAgICB2YXIgY2lyY2xlX21hcmtlcl8zOTQ4Nzk3OTgzMjU0Nzg5YTgxODQ5MmM1NDdhMzAwYiA9IEwuY2lyY2xlTWFya2VyKAogICAgICAgICAgICAgICAgWzI5LjQwMTQ2MSwgLTk1LjgyMzM0XSwKICAgICAgICAgICAgICAgIHsiYnViYmxpbmdNb3VzZUV2ZW50cyI6IHRydWUsICJjb2xvciI6ICJyZWQiLCAiZGFzaEFycmF5IjogbnVsbCwgImRhc2hPZmZzZXQiOiBudWxsLCAiZmlsbCI6IHRydWUsICJmaWxsQ29sb3IiOiAiIzMxODZjYyIsICJmaWxsT3BhY2l0eSI6IDAuNywgImZpbGxSdWxlIjogImV2ZW5vZGQiLCAibGluZUNhcCI6ICJyb3VuZCIsICJsaW5lSm9pbiI6ICJyb3VuZCIsICJvcGFjaXR5IjogMS4wLCAicmFkaXVzIjogNSwgInN0cm9rZSI6IHRydWUsICJ3ZWlnaHQiOiAzfQogICAgICAgICAgICApLmFkZFRvKG1hcF81YmY5MDcxMzgyYjc0YzMxODhkNDljYjg5MmMyNGQxZSk7CiAgICAgICAgCiAgICAKICAgICAgICB2YXIgcG9wdXBfNjVlMDdjYjMwNjI2NGZiZGEzYzE4MjlkNzNmNzNkMWIgPSBMLnBvcHVwKHsibWF4V2lkdGgiOiAiMTAwJSJ9KTsKCiAgICAgICAgCiAgICAgICAgICAgIHZhciBodG1sXzliYjU0YTJlOWQ5MDRlYjdiYTJiMjRmYzk0YTZiODBiID0gJChgPGRpdiBpZD0iaHRtbF85YmI1NGEyZTlkOTA0ZWI3YmEyYjI0ZmM5NGE2YjgwYiIgc3R5bGU9IndpZHRoOiAxMDAuMCU7IGhlaWdodDogMTAwLjAlOyI+Nzc0NjEsIE5lZWR2aWxsZTwvZGl2PmApWzBdOwogICAgICAgICAgICBwb3B1cF82NWUwN2NiMzA2MjY0ZmJkYTNjMTgyOWQ3M2Y3M2QxYi5zZXRDb250ZW50KGh0bWxfOWJiNTRhMmU5ZDkwNGViN2JhMmIyNGZjOTRhNmI4MGIpOwogICAgICAgIAoKICAgICAgICBjaXJjbGVfbWFya2VyXzM5NDg3OTc5ODMyNTQ3ODlhODE4NDkyYzU0N2EzMDBiLmJpbmRQb3B1cChwb3B1cF82NWUwN2NiMzA2MjY0ZmJkYTNjMTgyOWQ3M2Y3M2QxYikKICAgICAgICA7CgogICAgICAgIAogICAgCiAgICAKICAgICAgICAgICAgdmFyIGNpcmNsZV9tYXJrZXJfYWRiZTVhOTNkNGUxNDk4NDhkMTU0ZGZiMGQ3MmI1Y2IgPSBMLmNpcmNsZU1hcmtlcigKICAgICAgICAgICAgICAgIFsyOS4wNTU5NTQsIC05NS43MTM0NF0sCiAgICAgICAgICAgICAgICB7ImJ1YmJsaW5nTW91c2VFdmVudHMiOiB0cnVlLCAiY29sb3IiOiAicmVkIiwgImRhc2hBcnJheSI6IG51bGwsICJkYXNoT2Zmc2V0IjogbnVsbCwgImZpbGwiOiB0cnVlLCAiZmlsbENvbG9yIjogIiMzMTg2Y2MiLCAiZmlsbE9wYWNpdHkiOiAwLjcsICJmaWxsUnVsZSI6ICJldmVub2RkIiwgImxpbmVDYXAiOiAicm91bmQiLCAibGluZUpvaW4iOiAicm91bmQiLCAib3BhY2l0eSI6IDEuMCwgInJhZGl1cyI6IDUsICJzdHJva2UiOiB0cnVlLCAid2VpZ2h0IjogM30KICAgICAgICAgICAgKS5hZGRUbyhtYXBfNWJmOTA3MTM4MmI3NGMzMTg4ZDQ5Y2I4OTJjMjRkMWUpOwogICAgICAgIAogICAgCiAgICAgICAgdmFyIHBvcHVwX2E0OWUwOWRjNmY2ZTQ0YzE5MmRlMjUzYTVjYWJiZTY0ID0gTC5wb3B1cCh7Im1heFdpZHRoIjogIjEwMCUifSk7CgogICAgICAgIAogICAgICAgICAgICB2YXIgaHRtbF9lZTc2ZjJjNDNkNTc0OTEzODcwMmJhYTE3M2MxNzRmOSA9ICQoYDxkaXYgaWQ9Imh0bWxfZWU3NmYyYzQzZDU3NDkxMzg3MDJiYWExNzNjMTc0ZjkiIHN0eWxlPSJ3aWR0aDogMTAwLjAlOyBoZWlnaHQ6IDEwMC4wJTsiPjc3NDgwLCBTd2Vlbnk8L2Rpdj5gKVswXTsKICAgICAgICAgICAgcG9wdXBfYTQ5ZTA5ZGM2ZjZlNDRjMTkyZGUyNTNhNWNhYmJlNjQuc2V0Q29udGVudChodG1sX2VlNzZmMmM0M2Q1NzQ5MTM4NzAyYmFhMTczYzE3NGY5KTsKICAgICAgICAKCiAgICAgICAgY2lyY2xlX21hcmtlcl9hZGJlNWE5M2Q0ZTE0OTg0OGQxNTRkZmIwZDcyYjVjYi5iaW5kUG9wdXAocG9wdXBfYTQ5ZTA5ZGM2ZjZlNDRjMTkyZGUyNTNhNWNhYmJlNjQpCiAgICAgICAgOwoKICAgICAgICAKICAgIAogICAgCiAgICAgICAgICAgIHZhciBjaXJjbGVfbWFya2VyXzVkOGMxYTUzZGY4NjQ5NzI4MmUyZjQ4ZGI1NGRkYTcyID0gTC5jaXJjbGVNYXJrZXIoCiAgICAgICAgICAgICAgICBbMjkuMjI2Mzk2LCAtOTUuMzM3OTddLAogICAgICAgICAgICAgICAgeyJidWJibGluZ01vdXNlRXZlbnRzIjogdHJ1ZSwgImNvbG9yIjogInJlZCIsICJkYXNoQXJyYXkiOiBudWxsLCAiZGFzaE9mZnNldCI6IG51bGwsICJmaWxsIjogdHJ1ZSwgImZpbGxDb2xvciI6ICIjMzE4NmNjIiwgImZpbGxPcGFjaXR5IjogMC43LCAiZmlsbFJ1bGUiOiAiZXZlbm9kZCIsICJsaW5lQ2FwIjogInJvdW5kIiwgImxpbmVKb2luIjogInJvdW5kIiwgIm9wYWNpdHkiOiAxLjAsICJyYWRpdXMiOiA1LCAic3Ryb2tlIjogdHJ1ZSwgIndlaWdodCI6IDN9CiAgICAgICAgICAgICkuYWRkVG8obWFwXzViZjkwNzEzODJiNzRjMzE4OGQ0OWNiODkyYzI0ZDFlKTsKICAgICAgICAKICAgIAogICAgICAgIHZhciBwb3B1cF9mZGM1NTRhNTBiMzM0ZThjODgzNmIzM2M0OGRkZjBhNyA9IEwucG9wdXAoeyJtYXhXaWR0aCI6ICIxMDAlIn0pOwoKICAgICAgICAKICAgICAgICAgICAgdmFyIGh0bWxfMzBiNmMwYjY0ZmNmNDc3M2E3ZTFhYWNmMjEyNDVmNWQgPSAkKGA8ZGl2IGlkPSJodG1sXzMwYjZjMGI2NGZjZjQ3NzNhN2UxYWFjZjIxMjQ1ZjVkIiBzdHlsZT0id2lkdGg6IDEwMC4wJTsgaGVpZ2h0OiAxMDAuMCU7Ij43NzUzNCwgRGFuYnVyeTwvZGl2PmApWzBdOwogICAgICAgICAgICBwb3B1cF9mZGM1NTRhNTBiMzM0ZThjODgzNmIzM2M0OGRkZjBhNy5zZXRDb250ZW50KGh0bWxfMzBiNmMwYjY0ZmNmNDc3M2E3ZTFhYWNmMjEyNDVmNWQpOwogICAgICAgIAoKICAgICAgICBjaXJjbGVfbWFya2VyXzVkOGMxYTUzZGY4NjQ5NzI4MmUyZjQ4ZGI1NGRkYTcyLmJpbmRQb3B1cChwb3B1cF9mZGM1NTRhNTBiMzM0ZThjODgzNmIzM2M0OGRkZjBhNykKICAgICAgICA7CgogICAgICAgIAogICAgCiAgICAKICAgICAgICAgICAgdmFyIGNpcmNsZV9tYXJrZXJfNjBhYTU1ZTZkMGZlNDA0ZjhhMzkyYjQxZTI3ZTE3ODEgPSBMLmNpcmNsZU1hcmtlcigKICAgICAgICAgICAgICAgIFsyOS4yOTA2MDIsIC05NS43MDczOV0sCiAgICAgICAgICAgICAgICB7ImJ1YmJsaW5nTW91c2VFdmVudHMiOiB0cnVlLCAiY29sb3IiOiAicmVkIiwgImRhc2hBcnJheSI6IG51bGwsICJkYXNoT2Zmc2V0IjogbnVsbCwgImZpbGwiOiB0cnVlLCAiZmlsbENvbG9yIjogIiMzMTg2Y2MiLCAiZmlsbE9wYWNpdHkiOiAwLjcsICJmaWxsUnVsZSI6ICJldmVub2RkIiwgImxpbmVDYXAiOiAicm91bmQiLCAibGluZUpvaW4iOiAicm91bmQiLCAib3BhY2l0eSI6IDEuMCwgInJhZGl1cyI6IDUsICJzdHJva2UiOiB0cnVlLCAid2VpZ2h0IjogM30KICAgICAgICAgICAgKS5hZGRUbyhtYXBfNWJmOTA3MTM4MmI3NGMzMTg4ZDQ5Y2I4OTJjMjRkMWUpOwogICAgICAgIAogICAgCiAgICAgICAgdmFyIHBvcHVwXzEwYjFkYmIxZTU2MDRjZjliYWI3OWY1MDY5NDk4MDAwID0gTC5wb3B1cCh7Im1heFdpZHRoIjogIjEwMCUifSk7CgogICAgICAgIAogICAgICAgICAgICB2YXIgaHRtbF9mODM4MjgyZWVkMTE0N2YxOWJkYTdiNThiNTgyMTZiNSA9ICQoYDxkaXYgaWQ9Imh0bWxfZjgzODI4MmVlZDExNDdmMTliZGE3YjU4YjU4MjE2YjUiIHN0eWxlPSJ3aWR0aDogMTAwLjAlOyBoZWlnaHQ6IDEwMC4wJTsiPjc3NDMwLCBEYW1vbjwvZGl2PmApWzBdOwogICAgICAgICAgICBwb3B1cF8xMGIxZGJiMWU1NjA0Y2Y5YmFiNzlmNTA2OTQ5ODAwMC5zZXRDb250ZW50KGh0bWxfZjgzODI4MmVlZDExNDdmMTliZGE3YjU4YjU4MjE2YjUpOwogICAgICAgIAoKICAgICAgICBjaXJjbGVfbWFya2VyXzYwYWE1NWU2ZDBmZTQwNGY4YTM5MmI0MWUyN2UxNzgxLmJpbmRQb3B1cChwb3B1cF8xMGIxZGJiMWU1NjA0Y2Y5YmFiNzlmNTA2OTQ5ODAwMCkKICAgICAgICA7CgogICAgICAgIAogICAgCjwvc2NyaXB0Pg== onload=\"this.contentDocument.open();this.contentDocument.write(atob(this.getAttribute('data-html')));this.contentDocument.close();\" allowfullscreen webkitallowfullscreen mozallowfullscreen></iframe></div></div>"
      ],
      "text/plain": [
       "<folium.folium.Map at 0x7fa8d26d2cc0>"
      ]
     },
     "execution_count": 382,
     "metadata": {},
     "output_type": "execute_result"
    }
   ],
   "source": [
    "map_houston_cluster0"
   ]
  },
  {
   "cell_type": "code",
   "execution_count": 383,
   "metadata": {},
   "outputs": [
    {
     "data": {
      "text/html": [
       "<div style=\"width:100%;\"><div style=\"position:relative;width:100%;height:0;padding-bottom:60%;\"><span style=\"color:#565656\">Make this Notebook Trusted to load map: File -> Trust Notebook</span><iframe src=\"about:blank\" style=\"position:absolute;width:100%;height:100%;left:0;top:0;border:none !important;\" data-html=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 onload=\"this.contentDocument.open();this.contentDocument.write(atob(this.getAttribute('data-html')));this.contentDocument.close();\" allowfullscreen webkitallowfullscreen mozallowfullscreen></iframe></div></div>"
      ],
      "text/plain": [
       "<folium.folium.Map at 0x7fa8d26d2d30>"
      ]
     },
     "execution_count": 383,
     "metadata": {},
     "output_type": "execute_result"
    }
   ],
   "source": [
    "#We Can Map These Locations on the Houston Map\n",
    "\n",
    "#add markers to map\n",
    "for lat, lng, Zip, city in zip(df_cluster1['Latitude'],df_cluster1['Longitude'],df_cluster1['ZIP'],df_cluster1['City']):\n",
    "    label='{}, {}'.format(Zip, city)\n",
    "    label=folium.Popup(label, parse_html=True)\n",
    "    folium.CircleMarker(\n",
    "        [lat,lng],\n",
    "        radius=5,\n",
    "        popup=label,\n",
    "        color='red',\n",
    "        fill=True,\n",
    "        fill_color='#3186cc',\n",
    "        fill_opacity=0.7,\n",
    "        parse_html=False).add_to(map_houston_cluster1)\n",
    "map_houston_cluster1"
   ]
  },
  {
   "cell_type": "code",
   "execution_count": 384,
   "metadata": {},
   "outputs": [
    {
     "data": {
      "text/html": [
       "<div style=\"width:100%;\"><div style=\"position:relative;width:100%;height:0;padding-bottom:60%;\"><span style=\"color:#565656\">Make this Notebook Trusted to load map: File -> Trust Notebook</span><iframe src=\"about:blank\" style=\"position:absolute;width:100%;height:100%;left:0;top:0;border:none !important;\" data-html=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 onload=\"this.contentDocument.open();this.contentDocument.write(atob(this.getAttribute('data-html')));this.contentDocument.close();\" allowfullscreen webkitallowfullscreen mozallowfullscreen></iframe></div></div>"
      ],
      "text/plain": [
       "<folium.folium.Map at 0x7fa8d270c588>"
      ]
     },
     "execution_count": 384,
     "metadata": {},
     "output_type": "execute_result"
    }
   ],
   "source": [
    "#add markers to map\n",
    "for lat, lng, Zip, city in zip(df_cluster2['Latitude'],df_cluster2['Longitude'],df_cluster2['ZIP'],df_cluster2['City']):\n",
    "    label='{}, {}'.format(Zip, city)\n",
    "    label=folium.Popup(label, parse_html=True)\n",
    "    folium.CircleMarker(\n",
    "        [lat,lng],\n",
    "        radius=5,\n",
    "        popup=label,\n",
    "        color='red',\n",
    "        fill=True,\n",
    "        fill_color='#3186cc',\n",
    "        fill_opacity=0.7,\n",
    "        parse_html=False).add_to(map_houston_cluster2)\n",
    "map_houston_cluster2"
   ]
  },
  {
   "cell_type": "code",
   "execution_count": 385,
   "metadata": {},
   "outputs": [
    {
     "data": {
      "text/html": [
       "<div style=\"width:100%;\"><div style=\"position:relative;width:100%;height:0;padding-bottom:60%;\"><span style=\"color:#565656\">Make this Notebook Trusted to load map: File -> Trust Notebook</span><iframe src=\"about:blank\" style=\"position:absolute;width:100%;height:100%;left:0;top:0;border:none !important;\" data-html=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 onload=\"this.contentDocument.open();this.contentDocument.write(atob(this.getAttribute('data-html')));this.contentDocument.close();\" allowfullscreen webkitallowfullscreen mozallowfullscreen></iframe></div></div>"
      ],
      "text/plain": [
       "<folium.folium.Map at 0x7fa8d2781dd8>"
      ]
     },
     "execution_count": 385,
     "metadata": {},
     "output_type": "execute_result"
    }
   ],
   "source": [
    "#add markers to map\n",
    "for lat, lng, Zip, city in zip(df_cluster3['Latitude'],df_cluster3['Longitude'],df_cluster3['ZIP'],df_cluster3['City']):\n",
    "    label='{}, {}'.format(Zip, city)\n",
    "    label=folium.Popup(label, parse_html=True)\n",
    "    folium.CircleMarker(\n",
    "        [lat,lng],\n",
    "        radius=5,\n",
    "        popup=label,\n",
    "        color='red',\n",
    "        fill=True,\n",
    "        fill_color='#3186cc',\n",
    "        fill_opacity=0.7,\n",
    "        parse_html=False).add_to(map_houston_cluster3)\n",
    "map_houston_cluster3"
   ]
  },
  {
   "cell_type": "markdown",
   "metadata": {},
   "source": [
    "### Now we will locate the best locations as a factor of the Prospectivity Score and the Sum of Distances from other Home Improvement stores"
   ]
  },
  {
   "cell_type": "code",
   "execution_count": 386,
   "metadata": {},
   "outputs": [],
   "source": [
    "dist_import_df['Final Score']=dist_import_df['Prospectivity Score']*dist_import_df['Sum of Distances']"
   ]
  },
  {
   "cell_type": "code",
   "execution_count": 387,
   "metadata": {},
   "outputs": [],
   "source": [
    "df=dist_import_df"
   ]
  },
  {
   "cell_type": "code",
   "execution_count": 388,
   "metadata": {},
   "outputs": [],
   "source": [
    "df.sort_values(by='Final Score', ascending=False)\n",
    "df.reset_index(drop=True, inplace=True)"
   ]
  },
  {
   "cell_type": "markdown",
   "metadata": {},
   "source": [
    "### For a good sample of top prospects, let's take a top 20"
   ]
  },
  {
   "cell_type": "code",
   "execution_count": 389,
   "metadata": {},
   "outputs": [
    {
     "data": {
      "text/html": [
       "<div>\n",
       "<style scoped>\n",
       "    .dataframe tbody tr th:only-of-type {\n",
       "        vertical-align: middle;\n",
       "    }\n",
       "\n",
       "    .dataframe tbody tr th {\n",
       "        vertical-align: top;\n",
       "    }\n",
       "\n",
       "    .dataframe thead th {\n",
       "        text-align: right;\n",
       "    }\n",
       "</style>\n",
       "<table border=\"1\" class=\"dataframe\">\n",
       "  <thead>\n",
       "    <tr style=\"text-align: right;\">\n",
       "      <th>1</th>\n",
       "      <th>ZIP</th>\n",
       "      <th>City</th>\n",
       "      <th>Latitude</th>\n",
       "      <th>Longitude</th>\n",
       "      <th>Investment Intensity</th>\n",
       "      <th>Income Intensity</th>\n",
       "      <th>Prospectivity Score</th>\n",
       "      <th>Sum of Distances</th>\n",
       "      <th>Labels</th>\n",
       "      <th>Final Score</th>\n",
       "    </tr>\n",
       "  </thead>\n",
       "  <tbody>\n",
       "    <tr>\n",
       "      <th>0</th>\n",
       "      <td>77024</td>\n",
       "      <td>Houston</td>\n",
       "      <td>29.774</td>\n",
       "      <td>-95.5177</td>\n",
       "      <td>3104.04</td>\n",
       "      <td>74780</td>\n",
       "      <td>6.20318</td>\n",
       "      <td>2771.53</td>\n",
       "      <td>2</td>\n",
       "      <td>17192.3</td>\n",
       "    </tr>\n",
       "    <tr>\n",
       "      <th>1</th>\n",
       "      <td>77479</td>\n",
       "      <td>Sugar Land</td>\n",
       "      <td>29.5733</td>\n",
       "      <td>-95.6321</td>\n",
       "      <td>1283.72</td>\n",
       "      <td>143880</td>\n",
       "      <td>4.8287</td>\n",
       "      <td>3960.68</td>\n",
       "      <td>2</td>\n",
       "      <td>19124.9</td>\n",
       "    </tr>\n",
       "    <tr>\n",
       "      <th>2</th>\n",
       "      <td>77433</td>\n",
       "      <td>Cypress</td>\n",
       "      <td>29.8842</td>\n",
       "      <td>-95.7222</td>\n",
       "      <td>1089.36</td>\n",
       "      <td>126820</td>\n",
       "      <td>3.47945</td>\n",
       "      <td>3854.89</td>\n",
       "      <td>2</td>\n",
       "      <td>13412.9</td>\n",
       "    </tr>\n",
       "    <tr>\n",
       "      <th>3</th>\n",
       "      <td>77007</td>\n",
       "      <td>Houston</td>\n",
       "      <td>29.7726</td>\n",
       "      <td>-95.4032</td>\n",
       "      <td>1414.95</td>\n",
       "      <td>88290</td>\n",
       "      <td>3.09607</td>\n",
       "      <td>2709.98</td>\n",
       "      <td>2</td>\n",
       "      <td>8390.3</td>\n",
       "    </tr>\n",
       "    <tr>\n",
       "      <th>4</th>\n",
       "      <td>77459</td>\n",
       "      <td>Missouri City</td>\n",
       "      <td>29.5643</td>\n",
       "      <td>-95.5476</td>\n",
       "      <td>1053.37</td>\n",
       "      <td>110360</td>\n",
       "      <td>2.84459</td>\n",
       "      <td>3715.1</td>\n",
       "      <td>2</td>\n",
       "      <td>10568</td>\n",
       "    </tr>\n",
       "  </tbody>\n",
       "</table>\n",
       "</div>"
      ],
      "text/plain": [
       "1    ZIP           City Latitude Longitude Investment Intensity  \\\n",
       "0  77024        Houston   29.774  -95.5177              3104.04   \n",
       "1  77479     Sugar Land  29.5733  -95.6321              1283.72   \n",
       "2  77433        Cypress  29.8842  -95.7222              1089.36   \n",
       "3  77007        Houston  29.7726  -95.4032              1414.95   \n",
       "4  77459  Missouri City  29.5643  -95.5476              1053.37   \n",
       "\n",
       "1 Income Intensity Prospectivity Score Sum of Distances  Labels Final Score  \n",
       "0            74780             6.20318          2771.53       2     17192.3  \n",
       "1           143880              4.8287          3960.68       2     19124.9  \n",
       "2           126820             3.47945          3854.89       2     13412.9  \n",
       "3            88290             3.09607          2709.98       2      8390.3  \n",
       "4           110360             2.84459           3715.1       2       10568  "
      ]
     },
     "execution_count": 389,
     "metadata": {},
     "output_type": "execute_result"
    }
   ],
   "source": [
    "df.head()"
   ]
  },
  {
   "cell_type": "code",
   "execution_count": 390,
   "metadata": {},
   "outputs": [],
   "source": [
    "df_top=df[df.index<20]"
   ]
  },
  {
   "cell_type": "code",
   "execution_count": 391,
   "metadata": {},
   "outputs": [
    {
     "data": {
      "text/html": [
       "<div>\n",
       "<style scoped>\n",
       "    .dataframe tbody tr th:only-of-type {\n",
       "        vertical-align: middle;\n",
       "    }\n",
       "\n",
       "    .dataframe tbody tr th {\n",
       "        vertical-align: top;\n",
       "    }\n",
       "\n",
       "    .dataframe thead th {\n",
       "        text-align: right;\n",
       "    }\n",
       "</style>\n",
       "<table border=\"1\" class=\"dataframe\">\n",
       "  <thead>\n",
       "    <tr style=\"text-align: right;\">\n",
       "      <th>1</th>\n",
       "      <th>ZIP</th>\n",
       "      <th>City</th>\n",
       "      <th>Latitude</th>\n",
       "      <th>Longitude</th>\n",
       "      <th>Investment Intensity</th>\n",
       "      <th>Income Intensity</th>\n",
       "      <th>Prospectivity Score</th>\n",
       "      <th>Sum of Distances</th>\n",
       "      <th>Labels</th>\n",
       "      <th>Final Score</th>\n",
       "    </tr>\n",
       "  </thead>\n",
       "  <tbody>\n",
       "    <tr>\n",
       "      <th>0</th>\n",
       "      <td>77024</td>\n",
       "      <td>Houston</td>\n",
       "      <td>29.774</td>\n",
       "      <td>-95.5177</td>\n",
       "      <td>3104.04</td>\n",
       "      <td>74780</td>\n",
       "      <td>6.20318</td>\n",
       "      <td>2771.53</td>\n",
       "      <td>2</td>\n",
       "      <td>17192.3</td>\n",
       "    </tr>\n",
       "    <tr>\n",
       "      <th>1</th>\n",
       "      <td>77479</td>\n",
       "      <td>Sugar Land</td>\n",
       "      <td>29.5733</td>\n",
       "      <td>-95.6321</td>\n",
       "      <td>1283.72</td>\n",
       "      <td>143880</td>\n",
       "      <td>4.8287</td>\n",
       "      <td>3960.68</td>\n",
       "      <td>2</td>\n",
       "      <td>19124.9</td>\n",
       "    </tr>\n",
       "    <tr>\n",
       "      <th>2</th>\n",
       "      <td>77433</td>\n",
       "      <td>Cypress</td>\n",
       "      <td>29.8842</td>\n",
       "      <td>-95.7222</td>\n",
       "      <td>1089.36</td>\n",
       "      <td>126820</td>\n",
       "      <td>3.47945</td>\n",
       "      <td>3854.89</td>\n",
       "      <td>2</td>\n",
       "      <td>13412.9</td>\n",
       "    </tr>\n",
       "    <tr>\n",
       "      <th>3</th>\n",
       "      <td>77007</td>\n",
       "      <td>Houston</td>\n",
       "      <td>29.7726</td>\n",
       "      <td>-95.4032</td>\n",
       "      <td>1414.95</td>\n",
       "      <td>88290</td>\n",
       "      <td>3.09607</td>\n",
       "      <td>2709.98</td>\n",
       "      <td>2</td>\n",
       "      <td>8390.3</td>\n",
       "    </tr>\n",
       "    <tr>\n",
       "      <th>4</th>\n",
       "      <td>77459</td>\n",
       "      <td>Missouri City</td>\n",
       "      <td>29.5643</td>\n",
       "      <td>-95.5476</td>\n",
       "      <td>1053.37</td>\n",
       "      <td>110360</td>\n",
       "      <td>2.84459</td>\n",
       "      <td>3715.1</td>\n",
       "      <td>2</td>\n",
       "      <td>10568</td>\n",
       "    </tr>\n",
       "    <tr>\n",
       "      <th>5</th>\n",
       "      <td>77008</td>\n",
       "      <td>Houston</td>\n",
       "      <td>29.7988</td>\n",
       "      <td>-95.4095</td>\n",
       "      <td>1298.13</td>\n",
       "      <td>69340</td>\n",
       "      <td>2.08407</td>\n",
       "      <td>2695.13</td>\n",
       "      <td>2</td>\n",
       "      <td>5616.82</td>\n",
       "    </tr>\n",
       "    <tr>\n",
       "      <th>6</th>\n",
       "      <td>77573</td>\n",
       "      <td>League City</td>\n",
       "      <td>29.5028</td>\n",
       "      <td>-95.0891</td>\n",
       "      <td>662.672</td>\n",
       "      <td>131500</td>\n",
       "      <td>2.00085</td>\n",
       "      <td>4759.28</td>\n",
       "      <td>3</td>\n",
       "      <td>9522.59</td>\n",
       "    </tr>\n",
       "    <tr>\n",
       "      <th>7</th>\n",
       "      <td>77005</td>\n",
       "      <td>Houston</td>\n",
       "      <td>29.7175</td>\n",
       "      <td>-95.4282</td>\n",
       "      <td>1644.2</td>\n",
       "      <td>52810</td>\n",
       "      <td>1.99183</td>\n",
       "      <td>2784.67</td>\n",
       "      <td>2</td>\n",
       "      <td>5546.58</td>\n",
       "    </tr>\n",
       "    <tr>\n",
       "      <th>8</th>\n",
       "      <td>77379</td>\n",
       "      <td>Spring</td>\n",
       "      <td>30.0247</td>\n",
       "      <td>-95.5322</td>\n",
       "      <td>670.549</td>\n",
       "      <td>115730</td>\n",
       "      <td>1.72436</td>\n",
       "      <td>3551.64</td>\n",
       "      <td>1</td>\n",
       "      <td>6124.31</td>\n",
       "    </tr>\n",
       "    <tr>\n",
       "      <th>9</th>\n",
       "      <td>77429</td>\n",
       "      <td>Cypress</td>\n",
       "      <td>29.9827</td>\n",
       "      <td>-95.666</td>\n",
       "      <td>604.344</td>\n",
       "      <td>123870</td>\n",
       "      <td>1.64487</td>\n",
       "      <td>3854.03</td>\n",
       "      <td>2</td>\n",
       "      <td>6339.35</td>\n",
       "    </tr>\n",
       "    <tr>\n",
       "      <th>10</th>\n",
       "      <td>77346</td>\n",
       "      <td>Humble</td>\n",
       "      <td>30.0019</td>\n",
       "      <td>-95.1696</td>\n",
       "      <td>805.103</td>\n",
       "      <td>88090</td>\n",
       "      <td>1.5307</td>\n",
       "      <td>4072.27</td>\n",
       "      <td>1</td>\n",
       "      <td>6233.43</td>\n",
       "    </tr>\n",
       "    <tr>\n",
       "      <th>11</th>\n",
       "      <td>77584</td>\n",
       "      <td>Pearland</td>\n",
       "      <td>29.5437</td>\n",
       "      <td>-95.3404</td>\n",
       "      <td>556.37</td>\n",
       "      <td>124010</td>\n",
       "      <td>1.47487</td>\n",
       "      <td>3704.33</td>\n",
       "      <td>3</td>\n",
       "      <td>5463.43</td>\n",
       "    </tr>\n",
       "    <tr>\n",
       "      <th>12</th>\n",
       "      <td>77056</td>\n",
       "      <td>Houston</td>\n",
       "      <td>29.7473</td>\n",
       "      <td>-95.4693</td>\n",
       "      <td>1411.95</td>\n",
       "      <td>47820</td>\n",
       "      <td>1.4321</td>\n",
       "      <td>2734.48</td>\n",
       "      <td>2</td>\n",
       "      <td>3916.05</td>\n",
       "    </tr>\n",
       "    <tr>\n",
       "      <th>13</th>\n",
       "      <td>77019</td>\n",
       "      <td>Houston</td>\n",
       "      <td>29.7525</td>\n",
       "      <td>-95.3992</td>\n",
       "      <td>1338.49</td>\n",
       "      <td>48860</td>\n",
       "      <td>1.37061</td>\n",
       "      <td>2734.24</td>\n",
       "      <td>2</td>\n",
       "      <td>3747.59</td>\n",
       "    </tr>\n",
       "    <tr>\n",
       "      <th>14</th>\n",
       "      <td>77055</td>\n",
       "      <td>Houston</td>\n",
       "      <td>29.7989</td>\n",
       "      <td>-95.4963</td>\n",
       "      <td>1266.87</td>\n",
       "      <td>50170</td>\n",
       "      <td>1.31728</td>\n",
       "      <td>2727.51</td>\n",
       "      <td>2</td>\n",
       "      <td>3592.91</td>\n",
       "    </tr>\n",
       "    <tr>\n",
       "      <th>15</th>\n",
       "      <td>77406</td>\n",
       "      <td>Richmond</td>\n",
       "      <td>29.504</td>\n",
       "      <td>-95.9191</td>\n",
       "      <td>800.16</td>\n",
       "      <td>75730</td>\n",
       "      <td>1.23141</td>\n",
       "      <td>6139.18</td>\n",
       "      <td>2</td>\n",
       "      <td>7559.86</td>\n",
       "    </tr>\n",
       "    <tr>\n",
       "      <th>16</th>\n",
       "      <td>77382</td>\n",
       "      <td>Spring</td>\n",
       "      <td>30.2147</td>\n",
       "      <td>-95.5321</td>\n",
       "      <td>949.881</td>\n",
       "      <td>59440</td>\n",
       "      <td>1.11155</td>\n",
       "      <td>5040.08</td>\n",
       "      <td>1</td>\n",
       "      <td>5602.31</td>\n",
       "    </tr>\n",
       "    <tr>\n",
       "      <th>17</th>\n",
       "      <td>77386</td>\n",
       "      <td>Spring</td>\n",
       "      <td>30.1289</td>\n",
       "      <td>-95.419</td>\n",
       "      <td>659.7</td>\n",
       "      <td>80910</td>\n",
       "      <td>1.02214</td>\n",
       "      <td>4210.67</td>\n",
       "      <td>1</td>\n",
       "      <td>4303.89</td>\n",
       "    </tr>\n",
       "    <tr>\n",
       "      <th>18</th>\n",
       "      <td>77077</td>\n",
       "      <td>Houston</td>\n",
       "      <td>29.7509</td>\n",
       "      <td>-95.6125</td>\n",
       "      <td>609.744</td>\n",
       "      <td>81250</td>\n",
       "      <td>0.910991</td>\n",
       "      <td>3145.19</td>\n",
       "      <td>2</td>\n",
       "      <td>2865.24</td>\n",
       "    </tr>\n",
       "    <tr>\n",
       "      <th>19</th>\n",
       "      <td>77027</td>\n",
       "      <td>Houston</td>\n",
       "      <td>29.739</td>\n",
       "      <td>-95.4436</td>\n",
       "      <td>1217.47</td>\n",
       "      <td>37130</td>\n",
       "      <td>0.785273</td>\n",
       "      <td>2736.09</td>\n",
       "      <td>2</td>\n",
       "      <td>2148.58</td>\n",
       "    </tr>\n",
       "  </tbody>\n",
       "</table>\n",
       "</div>"
      ],
      "text/plain": [
       "1     ZIP           City Latitude Longitude Investment Intensity  \\\n",
       "0   77024        Houston   29.774  -95.5177              3104.04   \n",
       "1   77479     Sugar Land  29.5733  -95.6321              1283.72   \n",
       "2   77433        Cypress  29.8842  -95.7222              1089.36   \n",
       "3   77007        Houston  29.7726  -95.4032              1414.95   \n",
       "4   77459  Missouri City  29.5643  -95.5476              1053.37   \n",
       "5   77008        Houston  29.7988  -95.4095              1298.13   \n",
       "6   77573    League City  29.5028  -95.0891              662.672   \n",
       "7   77005        Houston  29.7175  -95.4282               1644.2   \n",
       "8   77379         Spring  30.0247  -95.5322              670.549   \n",
       "9   77429        Cypress  29.9827   -95.666              604.344   \n",
       "10  77346         Humble  30.0019  -95.1696              805.103   \n",
       "11  77584       Pearland  29.5437  -95.3404               556.37   \n",
       "12  77056        Houston  29.7473  -95.4693              1411.95   \n",
       "13  77019        Houston  29.7525  -95.3992              1338.49   \n",
       "14  77055        Houston  29.7989  -95.4963              1266.87   \n",
       "15  77406       Richmond   29.504  -95.9191               800.16   \n",
       "16  77382         Spring  30.2147  -95.5321              949.881   \n",
       "17  77386         Spring  30.1289   -95.419                659.7   \n",
       "18  77077        Houston  29.7509  -95.6125              609.744   \n",
       "19  77027        Houston   29.739  -95.4436              1217.47   \n",
       "\n",
       "1  Income Intensity Prospectivity Score Sum of Distances  Labels Final Score  \n",
       "0             74780             6.20318          2771.53       2     17192.3  \n",
       "1            143880              4.8287          3960.68       2     19124.9  \n",
       "2            126820             3.47945          3854.89       2     13412.9  \n",
       "3             88290             3.09607          2709.98       2      8390.3  \n",
       "4            110360             2.84459           3715.1       2       10568  \n",
       "5             69340             2.08407          2695.13       2     5616.82  \n",
       "6            131500             2.00085          4759.28       3     9522.59  \n",
       "7             52810             1.99183          2784.67       2     5546.58  \n",
       "8            115730             1.72436          3551.64       1     6124.31  \n",
       "9            123870             1.64487          3854.03       2     6339.35  \n",
       "10            88090              1.5307          4072.27       1     6233.43  \n",
       "11           124010             1.47487          3704.33       3     5463.43  \n",
       "12            47820              1.4321          2734.48       2     3916.05  \n",
       "13            48860             1.37061          2734.24       2     3747.59  \n",
       "14            50170             1.31728          2727.51       2     3592.91  \n",
       "15            75730             1.23141          6139.18       2     7559.86  \n",
       "16            59440             1.11155          5040.08       1     5602.31  \n",
       "17            80910             1.02214          4210.67       1     4303.89  \n",
       "18            81250            0.910991          3145.19       2     2865.24  \n",
       "19            37130            0.785273          2736.09       2     2148.58  "
      ]
     },
     "execution_count": 391,
     "metadata": {},
     "output_type": "execute_result"
    }
   ],
   "source": [
    "df_top"
   ]
  },
  {
   "cell_type": "code",
   "execution_count": 392,
   "metadata": {},
   "outputs": [
    {
     "data": {
      "text/html": [
       "<div style=\"width:100%;\"><div style=\"position:relative;width:100%;height:0;padding-bottom:60%;\"><span style=\"color:#565656\">Make this Notebook Trusted to load map: File -> Trust Notebook</span><iframe src=\"about:blank\" style=\"position:absolute;width:100%;height:100%;left:0;top:0;border:none !important;\" data-html=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 onload=\"this.contentDocument.open();this.contentDocument.write(atob(this.getAttribute('data-html')));this.contentDocument.close();\" allowfullscreen webkitallowfullscreen mozallowfullscreen></iframe></div></div>"
      ],
      "text/plain": [
       "<folium.folium.Map at 0x7fa8d525cba8>"
      ]
     },
     "execution_count": 392,
     "metadata": {},
     "output_type": "execute_result"
    }
   ],
   "source": [
    "#Define Map objects\n",
    "\n",
    "map_houston_top = folium.Map(location=[latitude, longitude], zoom_start=10)\n",
    "\n",
    "#We Can Map These Locations on the Houston Map\n",
    "\n",
    "#add markers to map\n",
    "for lat, lng, Zip, city in zip(df_top['Latitude'],df_top['Longitude'],df_top['ZIP'],df_top['City']):\n",
    "    label='{}, {}'.format(Zip, city)\n",
    "    label=folium.Popup(label, parse_html=True)\n",
    "    folium.CircleMarker(\n",
    "        [lat,lng],\n",
    "        radius=5,\n",
    "        popup=label,\n",
    "        color='green',\n",
    "        fill=True,\n",
    "        fill_color='#EEE8AA',\n",
    "        fill_opacity=0.7,\n",
    "        parse_html=False).add_to(map_houston_top)\n",
    "map_houston_top"
   ]
  },
  {
   "cell_type": "code",
   "execution_count": null,
   "metadata": {},
   "outputs": [],
   "source": []
  }
 ],
 "metadata": {
  "kernelspec": {
   "display_name": "Python 3.6",
   "language": "python",
   "name": "python3"
  },
  "language_info": {
   "codemirror_mode": {
    "name": "ipython",
    "version": 3
   },
   "file_extension": ".py",
   "mimetype": "text/x-python",
   "name": "python",
   "nbconvert_exporter": "python",
   "pygments_lexer": "ipython3",
   "version": "3.6.9"
  }
 },
 "nbformat": 4,
 "nbformat_minor": 1
}
